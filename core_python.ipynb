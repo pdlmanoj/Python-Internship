{
 "cells": [
  {
   "cell_type": "markdown",
   "id": "efa312eb",
   "metadata": {},
   "source": [
    "1. Explain difference between list, tuple, and set with real-life use cases."
   ]
  },
  {
   "cell_type": "code",
   "execution_count": 3,
   "id": "513fa91c",
   "metadata": {},
   "outputs": [
    {
     "name": "stdout",
     "output_type": "stream",
     "text": [
      "[1, 2, 3]\n",
      "(1, 2, 3)\n",
      "{1, 2, 3}\n"
     ]
    }
   ],
   "source": [
    "l1 = [1,2,3]\n",
    "t1 = (1,2,3)\n",
    "s1 = {1,2,3,3,1}\n",
    "\n",
    "print(l1)\n",
    "print(t1)\n",
    "print(s1)"
   ]
  },
  {
   "cell_type": "markdown",
   "id": "f10f9305",
   "metadata": {},
   "source": [
    "List: in which we can store collection of items, mutable as we can change the element once we created. ALso it size is dynamic unlike array where size is fixed. But, slower because of its dynamic nature than array"
   ]
  },
  {
   "cell_type": "markdown",
   "id": "70592030",
   "metadata": {},
   "source": [
    "Tuple: Similar to list but we cannot change element once create, faster than list because of immutable nature"
   ]
  },
  {
   "cell_type": "markdown",
   "id": "12391acf",
   "metadata": {},
   "source": [
    "Set: unordered, we cannot store duplicate items and item should be immutable but set itself is mutable we can add and delete in it."
   ]
  },
  {
   "cell_type": "code",
   "execution_count": null,
   "id": "3733f171",
   "metadata": {},
   "outputs": [],
   "source": []
  },
  {
   "cell_type": "markdown",
   "id": "059ef125",
   "metadata": {},
   "source": [
    "2. Write a function that returns the intersection of two lists (common elements)."
   ]
  },
  {
   "cell_type": "code",
   "execution_count": 5,
   "id": "7dafa4a8",
   "metadata": {},
   "outputs": [
    {
     "name": "stdout",
     "output_type": "stream",
     "text": [
      "[1, 2, 4]\n"
     ]
    }
   ],
   "source": [
    "def intersection(l1,l2):\n",
    "    comm_ele =[]\n",
    "    for item in l1:\n",
    "        if item in l2:\n",
    "            comm_ele.append(item)\n",
    "    print(comm_ele)\n",
    "\n",
    "l1 = [1,2,3,4]\n",
    "l2 = [1,2,4,5,6,7,8]\n",
    "intersection(l1,l2)"
   ]
  },
  {
   "cell_type": "markdown",
   "id": "66e8f9bd",
   "metadata": {},
   "source": [
    "3. Write a program to remove all duplicates from a list but keep the order."
   ]
  },
  {
   "cell_type": "code",
   "execution_count": null,
   "id": "c44d029a",
   "metadata": {},
   "outputs": [
    {
     "name": "stdout",
     "output_type": "stream",
     "text": [
      "[1, 2, 3, 4, 5]\n"
     ]
    }
   ],
   "source": [
    "def remove_duplicate(l1):\n",
    "    remo_dup = []\n",
    "    for item in l1:\n",
    "        if item not in remo_dup:\n",
    "            remo_dup.append(item)\n",
    "            \n",
    "    print(remo_dup)\n",
    "\n",
    "l1 = [1,2,2,3,4,4,5,3,3,2]\n",
    "remove_duplicate(l1)\n",
    "\n"
   ]
  },
  {
   "cell_type": "code",
   "execution_count": 8,
   "id": "6bb3282f",
   "metadata": {},
   "outputs": [
    {
     "data": {
      "text/plain": [
       "[1, 2, 3, 4, 5]"
      ]
     },
     "execution_count": 8,
     "metadata": {},
     "output_type": "execute_result"
    }
   ],
   "source": [
    "def remove_duplicate(l1):\n",
    "    return list(set(l1))\n",
    "\n",
    "l1 = [1,2,2,3,4,4,5,3,3,2]\n",
    "remove_duplicate(l1)"
   ]
  },
  {
   "cell_type": "markdown",
   "id": "3507718c",
   "metadata": {},
   "source": [
    "4. Explain shallow copy vs deep copy with a code example."
   ]
  },
  {
   "cell_type": "markdown",
   "id": "f7e4a346",
   "metadata": {},
   "source": [
    "5. Write a function that returns the second largest element in a list."
   ]
  },
  {
   "cell_type": "code",
   "execution_count": 9,
   "id": "d71167ee",
   "metadata": {},
   "outputs": [
    {
     "name": "stdout",
     "output_type": "stream",
     "text": [
      "400\n"
     ]
    }
   ],
   "source": [
    "def second_largest_el(l1):\n",
    "    pass\n",
    "    \n",
    "\n",
    "\n",
    "l1 = [1,2,3,400,300,200]\n",
    "print(max(l1))"
   ]
  },
  {
   "cell_type": "code",
   "execution_count": null,
   "id": "09f5b845",
   "metadata": {},
   "outputs": [],
   "source": []
  }
 ],
 "metadata": {
  "kernelspec": {
   "display_name": "Python 3",
   "language": "python",
   "name": "python3"
  },
  "language_info": {
   "codemirror_mode": {
    "name": "ipython",
    "version": 3
   },
   "file_extension": ".py",
   "mimetype": "text/x-python",
   "name": "python",
   "nbconvert_exporter": "python",
   "pygments_lexer": "ipython3",
   "version": "3.10.16"
  }
 },
 "nbformat": 4,
 "nbformat_minor": 5
}
