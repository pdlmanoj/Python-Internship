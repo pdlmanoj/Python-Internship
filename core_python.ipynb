{
 "cells": [
  {
   "cell_type": "markdown",
   "id": "efa312eb",
   "metadata": {},
   "source": [
    "1. Explain difference between list, tuple, and set with real-life use cases."
   ]
  },
  {
   "cell_type": "code",
   "execution_count": 60,
   "id": "513fa91c",
   "metadata": {},
   "outputs": [
    {
     "name": "stdout",
     "output_type": "stream",
     "text": [
      "[1, 2, 3]\n",
      "(1, 2, 3)\n",
      "{1, 2, 3}\n"
     ]
    }
   ],
   "source": [
    "l1 = [1,2,3]\n",
    "t1 = (1,2,3)\n",
    "s1 = {1,2,3,3,1}\n",
    "\n",
    "print(l1)\n",
    "print(t1)\n",
    "print(s1)"
   ]
  },
  {
   "cell_type": "markdown",
   "id": "f10f9305",
   "metadata": {},
   "source": [
    "List: \n",
    "- In which we can store collection of items, mutable as we can change the element once we created.\n",
    "-  ALso it size is dynamic unlike array where size is fixed. But, slower because of its dynamic nature than array"
   ]
  },
  {
   "cell_type": "markdown",
   "id": "70592030",
   "metadata": {},
   "source": [
    "Tuple: \n",
    "- Similar to list but we cannot change element once create, faster than list because of immutable nature. \n",
    "- Can access value using index but cannot modified once created."
   ]
  },
  {
   "cell_type": "markdown",
   "id": "12391acf",
   "metadata": {},
   "source": [
    "Set: \n",
    "- unordered, we cannot store duplicate items and item should be immutable but set itself is mutable we can add and delete in it."
   ]
  },
  {
   "cell_type": "code",
   "execution_count": null,
   "id": "3733f171",
   "metadata": {},
   "outputs": [
    {
     "data": {
      "text/plain": [
       "1"
      ]
     },
     "execution_count": 61,
     "metadata": {},
     "output_type": "execute_result"
    }
   ],
   "source": []
  },
  {
   "cell_type": "markdown",
   "id": "059ef125",
   "metadata": {},
   "source": [
    "2. Write a function that returns the intersection of two lists (common elements)."
   ]
  },
  {
   "cell_type": "code",
   "execution_count": 5,
   "id": "7dafa4a8",
   "metadata": {},
   "outputs": [
    {
     "name": "stdout",
     "output_type": "stream",
     "text": [
      "[1, 2, 4]\n"
     ]
    }
   ],
   "source": [
    "def intersection(l1,l2):\n",
    "    comm_ele =[]\n",
    "    for item in l1:\n",
    "        if item in l2:\n",
    "            comm_ele.append(item)\n",
    "    print(comm_ele)\n",
    "\n",
    "l1 = [1,2,3,4]\n",
    "l2 = [1,2,4,5,6,7,8]\n",
    "intersection(l1,l2)"
   ]
  },
  {
   "cell_type": "markdown",
   "id": "66e8f9bd",
   "metadata": {},
   "source": [
    "3. Write a program to remove all duplicates from a list but keep the order."
   ]
  },
  {
   "cell_type": "code",
   "execution_count": null,
   "id": "c44d029a",
   "metadata": {},
   "outputs": [
    {
     "name": "stdout",
     "output_type": "stream",
     "text": [
      "[1, 2, 3, 4, 5]\n"
     ]
    }
   ],
   "source": [
    "def remove_duplicate(l1):\n",
    "    remo_dup = []\n",
    "    for item in l1:\n",
    "        if item not in remo_dup:\n",
    "            remo_dup.append(item)\n",
    "            \n",
    "    print(remo_dup)\n",
    "\n",
    "l1 = [1,2,2,3,4,4,5,3,3,2]\n",
    "remove_duplicate(l1)\n",
    "\n"
   ]
  },
  {
   "cell_type": "code",
   "execution_count": null,
   "id": "6bb3282f",
   "metadata": {},
   "outputs": [
    {
     "data": {
      "text/plain": [
       "[1, 2, 3, 4, 5]"
      ]
     },
     "execution_count": 8,
     "metadata": {},
     "output_type": "execute_result"
    }
   ],
   "source": [
    "def remove_duplicate(l1):\n",
    "    \"\"\"Directly using set also can remove duplicate from the list\"\"\"\n",
    "    return list(set(l1))\n",
    "\n",
    "l1 = [1,2,2,3,4,4,5,3,3,2]\n",
    "remove_duplicate(l1)"
   ]
  },
  {
   "cell_type": "markdown",
   "id": "3507718c",
   "metadata": {},
   "source": [
    "4. Explain shallow copy vs deep copy with a code example."
   ]
  },
  {
   "cell_type": "markdown",
   "id": "83de8a85",
   "metadata": {},
   "source": [
    "### Shallow copy"
   ]
  },
  {
   "cell_type": "code",
   "execution_count": 74,
   "id": "4ae5dfd0",
   "metadata": {},
   "outputs": [
    {
     "name": "stdout",
     "output_type": "stream",
     "text": [
      "4393615424\n",
      "4393626880\n"
     ]
    }
   ],
   "source": [
    "# 1. shallow copy\n",
    "#1d\n",
    "a = [1,2,3]\n",
    "b = a[:] # b copy from a (shallow copy ho)\n",
    "print(id(a))\n",
    "print(id(b))\n",
    "# "
   ]
  },
  {
   "cell_type": "code",
   "execution_count": 75,
   "id": "0e50534a",
   "metadata": {},
   "outputs": [
    {
     "name": "stdout",
     "output_type": "stream",
     "text": [
      "[1, 2, 3]\n",
      "[1, 2, 3, 100]\n"
     ]
    }
   ],
   "source": [
    "# As a and b have different memeory address, change in b will not affect in a\n",
    "b.append(100)\n",
    "print(a)\n",
    "print(b)"
   ]
  },
  {
   "cell_type": "code",
   "execution_count": 76,
   "id": "c106bd07",
   "metadata": {},
   "outputs": [
    {
     "name": "stdout",
     "output_type": "stream",
     "text": [
      "[1, 2, 3, [100, 200]]\n",
      "[1, 2, 3, [100, 200]]\n"
     ]
    }
   ],
   "source": [
    "### But, problem occur when we work with  2D array\n",
    "\n",
    "a = [1,2,3, [100,200]]\n",
    "print(a)\n",
    "b = a[:]\n",
    "print(b)"
   ]
  },
  {
   "cell_type": "code",
   "execution_count": 77,
   "id": "a16dc7c9",
   "metadata": {},
   "outputs": [
    {
     "name": "stdout",
     "output_type": "stream",
     "text": [
      "[1, 2, 3, [1000, 200]]\n",
      "[1, 2, 3, [1000, 200]]\n"
     ]
    }
   ],
   "source": [
    "b[3][0] = 1000 # as, change in b 100 to 1000 \n",
    "print(b)\n",
    "print(a) # But, it also changed in b"
   ]
  },
  {
   "cell_type": "code",
   "execution_count": 78,
   "id": "5a56f435",
   "metadata": {},
   "outputs": [
    {
     "name": "stdout",
     "output_type": "stream",
     "text": [
      "4393770368\n",
      "4393779968\n"
     ]
    }
   ],
   "source": [
    "print(id(a))\n",
    "print(id(b))\n",
    "## As, their memory address is different, but in 2D, internally 2D array item\n",
    "# value memory address is same\n",
    "# Tha'ts why changed a also changed"
   ]
  },
  {
   "cell_type": "code",
   "execution_count": null,
   "id": "309b479b",
   "metadata": {},
   "outputs": [
    {
     "name": "stdout",
     "output_type": "stream",
     "text": [
      "4392921936\n",
      "4392921936\n"
     ]
    }
   ],
   "source": [
    "# proof\n",
    "print(id(a[3][0]))\n",
    "print(id(b[3][0]))\n",
    "# same, that's why changed"
   ]
  },
  {
   "cell_type": "markdown",
   "id": "f75ef9b0",
   "metadata": {},
   "source": [
    "### Deepcopy"
   ]
  },
  {
   "cell_type": "code",
   "execution_count": 96,
   "id": "9f9db04e",
   "metadata": {},
   "outputs": [
    {
     "name": "stdout",
     "output_type": "stream",
     "text": [
      "[1, 2, 3, [1000, 3000]]\n",
      "[1, 2, 3, [1000, 3000]]\n"
     ]
    }
   ],
   "source": [
    "import copy\n",
    "a = [1,2,3,[1000,3000]]\n",
    "b = copy.deepcopy(a)\n",
    "\n",
    "print(a)\n",
    "print(b)"
   ]
  },
  {
   "cell_type": "code",
   "execution_count": 97,
   "id": "5094c701",
   "metadata": {},
   "outputs": [
    {
     "name": "stdout",
     "output_type": "stream",
     "text": [
      "4392575808\n",
      "4393620032\n"
     ]
    }
   ],
   "source": [
    "print(id(a))\n",
    "print(id(b))"
   ]
  },
  {
   "cell_type": "code",
   "execution_count": 98,
   "id": "343b7e68",
   "metadata": {},
   "outputs": [
    {
     "name": "stdout",
     "output_type": "stream",
     "text": [
      "[1, 2, 3, [1000, 100000]]\n"
     ]
    }
   ],
   "source": [
    "b[3][1] = 100000 \n",
    "print(b)"
   ]
  },
  {
   "cell_type": "code",
   "execution_count": 99,
   "id": "f1b8f381",
   "metadata": {},
   "outputs": [
    {
     "name": "stdout",
     "output_type": "stream",
     "text": [
      "[1, 2, 3, [1000, 3000]]\n"
     ]
    }
   ],
   "source": [
    "print(a) # change in b not affect a"
   ]
  },
  {
   "cell_type": "code",
   "execution_count": 100,
   "id": "55e98877",
   "metadata": {},
   "outputs": [],
   "source": [
    "# As, unlike shallow copy problem, where internally 2d array items, memory address are same\n",
    "# But, in deep copy different -> internally element also store in different memory address\n"
   ]
  },
  {
   "cell_type": "code",
   "execution_count": null,
   "id": "e929e478",
   "metadata": {},
   "outputs": [],
   "source": []
  },
  {
   "cell_type": "markdown",
   "id": "f7e4a346",
   "metadata": {},
   "source": [
    "5. Write a function that returns the second largest element in a list."
   ]
  },
  {
   "cell_type": "code",
   "execution_count": null,
   "id": "d71167ee",
   "metadata": {},
   "outputs": [
    {
     "name": "stdout",
     "output_type": "stream",
     "text": [
      "[400]\n",
      "None\n"
     ]
    }
   ],
   "source": []
  },
  {
   "cell_type": "markdown",
   "id": "2197dd41",
   "metadata": {},
   "source": [
    "6. What is the difference between is and ==? Show with a small example."
   ]
  },
  {
   "cell_type": "code",
   "execution_count": null,
   "id": "09f5b845",
   "metadata": {},
   "outputs": [
    {
     "name": "stdout",
     "output_type": "stream",
     "text": [
      "True\n",
      "4392610928\n",
      "4392610928\n",
      "True\n"
     ]
    }
   ],
   "source": [
    "a = 'manoj'\n",
    "b = 'manoj'\n",
    "\n",
    "## == Equality operator\n",
    "print(a == b)\n",
    "print(id(a))\n",
    "print(id(b))\n",
    "print(a is b) # as is check based on memory address (address same = True else False)"
   ]
  },
  {
   "cell_type": "markdown",
   "id": "81e22361",
   "metadata": {},
   "source": [
    "7. Write a function that flattens a nested list: [[1,2],[3,[4]]] → [1,2,3,4]."
   ]
  },
  {
   "cell_type": "code",
   "execution_count": null,
   "id": "c49cabd8",
   "metadata": {},
   "outputs": [
    {
     "name": "stdout",
     "output_type": "stream",
     "text": [
      "[1, 2, 3, [4]]\n"
     ]
    }
   ],
   "source": [
    "# flat_list = []\n",
    "# for i in l1:\n",
    "#     for j in i:\n",
    "#         flat_list.append(j)\n",
    "\n",
    "# print(flat_list)\n",
    "    "
   ]
  },
  {
   "cell_type": "markdown",
   "id": "88a40e50",
   "metadata": {},
   "source": [
    "8. Implement a function that counts frequency of characters in a string. Sample\n",
    "String : google.com Expected Result :\n",
    "{'o': 3,\n",
    "'g': 2,\n",
    "'\n",
    ".\n",
    "': 1,\n",
    "'e': 1,\n",
    "'l': 1,\n",
    "'m': 1,\n",
    "'c': 1}"
   ]
  },
  {
   "cell_type": "code",
   "execution_count": 146,
   "id": "11ae02ac",
   "metadata": {},
   "outputs": [
    {
     "name": "stdout",
     "output_type": "stream",
     "text": [
      "{'g': 2, 'o': 3, 'l': 1, 'e': 1, '.': 1, 'c': 1, 'm': 1}\n"
     ]
    }
   ],
   "source": [
    "def count_freq(string):\n",
    "    d = {}\n",
    "    for char in s1:\n",
    "        if char  in d:\n",
    "            d[char] += 1\n",
    "        else:\n",
    "            d[char] = 1\n",
    "            \n",
    "    return d\n",
    "\n",
    "s1 = 'google.com'\n",
    "\n",
    "print(count_freq(s1)) \n"
   ]
  },
  {
   "cell_type": "code",
   "execution_count": null,
   "id": "51d7f62e",
   "metadata": {},
   "outputs": [],
   "source": []
  }
 ],
 "metadata": {
  "kernelspec": {
   "display_name": "Python 3",
   "language": "python",
   "name": "python3"
  },
  "language_info": {
   "codemirror_mode": {
    "name": "ipython",
    "version": 3
   },
   "file_extension": ".py",
   "mimetype": "text/x-python",
   "name": "python",
   "nbconvert_exporter": "python",
   "pygments_lexer": "ipython3",
   "version": "3.10.16"
  }
 },
 "nbformat": 4,
 "nbformat_minor": 5
}
