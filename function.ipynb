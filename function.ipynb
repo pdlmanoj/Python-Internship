{
 "cells": [
  {
   "cell_type": "markdown",
   "id": "c048b789",
   "metadata": {},
   "source": [
    "1. Write a recursive function to calculate factorial."
   ]
  },
  {
   "cell_type": "code",
   "execution_count": 5,
   "id": "5fd367d0",
   "metadata": {},
   "outputs": [
    {
     "name": "stdout",
     "output_type": "stream",
     "text": [
      "120\n"
     ]
    }
   ],
   "source": [
    "\n",
    "def factorial(n):\n",
    "    if n == 0: # base\n",
    "        return 1\n",
    "    return n * factorial(n-1)\n",
    "\n",
    "print(factorial(5))"
   ]
  },
  {
   "cell_type": "markdown",
   "id": "5451a7cc",
   "metadata": {},
   "source": [
    "2. Implement Fibonacci sequence in three ways: recursion, loop, generator."
   ]
  },
  {
   "cell_type": "code",
   "execution_count": null,
   "id": "c206eb88",
   "metadata": {},
   "outputs": [
    {
     "name": "stdout",
     "output_type": "stream",
     "text": [
      "1 1 2 3 5 8 13 "
     ]
    }
   ],
   "source": [
    "# loop\n",
    "n = 5\n",
    "a = 1\n",
    "b = 1\n",
    "\n",
    "print(a, b, end = ' ')\n",
    "\n",
    "for i in range(n):\n",
    "    c = a + b\n",
    "    print(c, end = ' ')\n",
    "    a = b\n",
    "    b = c\n",
    "    "
   ]
  },
  {
   "cell_type": "code",
   "execution_count": null,
   "id": "d9b45986",
   "metadata": {},
   "outputs": [],
   "source": [
    "# generator\n",
    "# recursion\n"
   ]
  },
  {
   "cell_type": "markdown",
   "id": "401cacf9",
   "metadata": {},
   "source": [
    "3. Explain the difference between *args and **kwargs. Write a function that uses\n",
    "both."
   ]
  },
  {
   "cell_type": "markdown",
   "id": "dceca248",
   "metadata": {},
   "source": [
    "1. *args -> we use when we are uncertain how many value will be passed by the user."
   ]
  },
  {
   "cell_type": "code",
   "execution_count": 29,
   "id": "26f033c0",
   "metadata": {},
   "outputs": [
    {
     "name": "stdout",
     "output_type": "stream",
     "text": [
      "1 X 1 = 1\n",
      "1 X 2 = 2\n",
      "1 X 3 = 3\n",
      "1 X 4 = 4\n",
      "1 X 5 = 5\n",
      "1 X 6 = 6\n",
      "1 X 7 = 7\n",
      "1 X 8 = 8\n",
      "1 X 9 = 9\n",
      "----------\n",
      "2 X 1 = 2\n",
      "2 X 2 = 4\n",
      "2 X 3 = 6\n",
      "2 X 4 = 8\n",
      "2 X 5 = 10\n",
      "2 X 6 = 12\n",
      "2 X 7 = 14\n",
      "2 X 8 = 16\n",
      "2 X 9 = 18\n",
      "----------\n",
      "3 X 1 = 3\n",
      "3 X 2 = 6\n",
      "3 X 3 = 9\n",
      "3 X 4 = 12\n",
      "3 X 5 = 15\n",
      "3 X 6 = 18\n",
      "3 X 7 = 21\n",
      "3 X 8 = 24\n",
      "3 X 9 = 27\n",
      "----------\n"
     ]
    }
   ],
   "source": [
    "def multiplication(*args):\n",
    "    \n",
    "    for val in args:\n",
    "        for i in range(1,10):\n",
    "            print(f\"{val} X {i} = {val * i}\")\n",
    "        print('-'*10)\n",
    "\n",
    "multiplication(1,2,3)"
   ]
  },
  {
   "cell_type": "markdown",
   "id": "b2c6b3ad",
   "metadata": {},
   "source": [
    "2. **kwargs -> key value arugment "
   ]
  },
  {
   "cell_type": "code",
   "execution_count": 48,
   "id": "eca224e7",
   "metadata": {},
   "outputs": [
    {
     "name": "stdout",
     "output_type": "stream",
     "text": [
      "{'name': 'hello', 'address': 'nepal', 'contact': '90877777'}\n"
     ]
    }
   ],
   "source": [
    "def country(**kwargs):\n",
    "    print(kwargs)\n",
    "\n",
    "country(name = 'hello', address = 'nepal', contact = '90877777')\n"
   ]
  },
  {
   "cell_type": "code",
   "execution_count": null,
   "id": "b1fe16fb",
   "metadata": {},
   "outputs": [],
   "source": []
  },
  {
   "cell_type": "markdown",
   "id": "5e522aed",
   "metadata": {},
   "source": [
    "4. Explain difference between map(), filter(), and reduce(). Show small\n",
    "examples."
   ]
  },
  {
   "cell_type": "code",
   "execution_count": 1,
   "id": "93b09afd",
   "metadata": {},
   "outputs": [
    {
     "data": {
      "text/plain": [
       "[1, 4, 9, 16, 25, 25, 25, 36]"
      ]
     },
     "execution_count": 1,
     "metadata": {},
     "output_type": "execute_result"
    }
   ],
   "source": [
    "# map\n",
    "l1 = [1,2,3,4,5,5,5,6]\n",
    "\n",
    "list(map(lambda x: x**2, l1))"
   ]
  },
  {
   "cell_type": "code",
   "execution_count": 2,
   "id": "addf61b4",
   "metadata": {},
   "outputs": [
    {
     "data": {
      "text/plain": [
       "[5, 5, 5, 6]"
      ]
     },
     "execution_count": 2,
     "metadata": {},
     "output_type": "execute_result"
    }
   ],
   "source": [
    "# filter() -> return only true value\n",
    "\n",
    "list(filter(lambda x:  x > 4, l1))\n"
   ]
  },
  {
   "cell_type": "code",
   "execution_count": 4,
   "id": "b3eb2d57",
   "metadata": {},
   "outputs": [
    {
     "data": {
      "text/plain": [
       "1"
      ]
     },
     "execution_count": 4,
     "metadata": {},
     "output_type": "execute_result"
    }
   ],
   "source": [
    "# reduce\n",
    "from functools import reduce\n",
    "\n",
    "reduce(lambda x, y: x if x < y else y, l1)"
   ]
  },
  {
   "cell_type": "markdown",
   "id": "82f71899",
   "metadata": {},
   "source": []
  },
  {
   "cell_type": "markdown",
   "id": "3f7334aa",
   "metadata": {},
   "source": [
    "5. Implement binary search on a sorted list without using built-in functions."
   ]
  },
  {
   "cell_type": "code",
   "execution_count": null,
   "id": "64cc68de",
   "metadata": {},
   "outputs": [],
   "source": []
  }
 ],
 "metadata": {
  "kernelspec": {
   "display_name": "Python 3",
   "language": "python",
   "name": "python3"
  },
  "language_info": {
   "codemirror_mode": {
    "name": "ipython",
    "version": 3
   },
   "file_extension": ".py",
   "mimetype": "text/x-python",
   "name": "python",
   "nbconvert_exporter": "python",
   "pygments_lexer": "ipython3",
   "version": "3.10.16"
  }
 },
 "nbformat": 4,
 "nbformat_minor": 5
}
