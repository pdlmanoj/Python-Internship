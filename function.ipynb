{
 "cells": [
  {
   "cell_type": "markdown",
   "id": "c048b789",
   "metadata": {},
   "source": [
    "1. Write a recursive function to calculate factorial."
   ]
  },
  {
   "cell_type": "code",
   "execution_count": 5,
   "id": "5fd367d0",
   "metadata": {},
   "outputs": [
    {
     "name": "stdout",
     "output_type": "stream",
     "text": [
      "120\n"
     ]
    }
   ],
   "source": [
    "\n",
    "def factorial(n):\n",
    "    if n == 0: # base\n",
    "        return 1\n",
    "    return n * factorial(n-1)\n",
    "\n",
    "print(factorial(5))"
   ]
  },
  {
   "cell_type": "markdown",
   "id": "5451a7cc",
   "metadata": {},
   "source": [
    "2. Implement Fibonacci sequence in three ways: recursion, loop, generator."
   ]
  },
  {
   "cell_type": "code",
   "execution_count": 6,
   "id": "c206eb88",
   "metadata": {},
   "outputs": [
    {
     "name": "stdout",
     "output_type": "stream",
     "text": [
      "1 1 2 3 5 8 13 21 "
     ]
    }
   ],
   "source": [
    "# loop\n",
    "n = 8\n",
    "a = 1\n",
    "b = 1\n",
    "\n",
    "print(a, b, end = ' ')\n",
    "\n",
    "for i in range(n-2):\n",
    "    c = a + b\n",
    "    print(c, end = ' ')\n",
    "    a = b\n",
    "    b = c\n",
    "    "
   ]
  },
  {
   "cell_type": "code",
   "execution_count": null,
   "id": "d9b45986",
   "metadata": {},
   "outputs": [
    {
     "name": "stdout",
     "output_type": "stream",
     "text": [
      "1 1 2 3 5 8 13 21 34 "
     ]
    }
   ],
   "source": [
    "# generator\n",
    "\n",
    "def fibonacci_sq(n):\n",
    "    a = 1\n",
    "    b = 1\n",
    "    yield a\n",
    "    yield b\n",
    "    for i in range(n-2):\n",
    "        c = a + b\n",
    "        yield c\n",
    "        a = b\n",
    "        b = c\n",
    "n = 9\n",
    "gen = fibonacci_sq(n)\n",
    "\n",
    "for i in gen:\n",
    "    print(i, end = ' ')\n",
    "\n"
   ]
  },
  {
   "cell_type": "code",
   "execution_count": null,
   "id": "0f125e57",
   "metadata": {},
   "outputs": [
    {
     "ename": "RecursionError",
     "evalue": "maximum recursion depth exceeded in comparison",
     "output_type": "error",
     "traceback": [
      "\u001b[0;31m---------------------------------------------------------------------------\u001b[0m",
      "\u001b[0;31mRecursionError\u001b[0m                            Traceback (most recent call last)",
      "Cell \u001b[0;32mIn[12], line 8\u001b[0m\n\u001b[1;32m      6\u001b[0m     \u001b[38;5;28;01melse\u001b[39;00m:\n\u001b[1;32m      7\u001b[0m         \u001b[38;5;28;01mreturn\u001b[39;00m recursion_fibonacci(n\u001b[38;5;241m-\u001b[39m\u001b[38;5;241m1\u001b[39m) \u001b[38;5;241m+\u001b[39m recursion_fibonacci(n\u001b[38;5;241m-\u001b[39m\u001b[38;5;241m2\u001b[39m)\n\u001b[0;32m----> 8\u001b[0m \u001b[43mrecursion_fibonacci\u001b[49m\u001b[43m(\u001b[49m\u001b[38;5;241;43m5\u001b[39;49m\u001b[43m)\u001b[49m\n",
      "Cell \u001b[0;32mIn[12], line 7\u001b[0m, in \u001b[0;36mrecursion_fibonacci\u001b[0;34m(n)\u001b[0m\n\u001b[1;32m      5\u001b[0m     \u001b[38;5;28;01mreturn\u001b[39;00m \u001b[38;5;241m1\u001b[39m\n\u001b[1;32m      6\u001b[0m \u001b[38;5;28;01melse\u001b[39;00m:\n\u001b[0;32m----> 7\u001b[0m     \u001b[38;5;28;01mreturn\u001b[39;00m \u001b[43mrecursion_fibonacci\u001b[49m\u001b[43m(\u001b[49m\u001b[43mn\u001b[49m\u001b[38;5;241;43m-\u001b[39;49m\u001b[38;5;241;43m1\u001b[39;49m\u001b[43m)\u001b[49m \u001b[38;5;241m+\u001b[39m recursion_fibonacci(n\u001b[38;5;241m-\u001b[39m\u001b[38;5;241m2\u001b[39m)\n",
      "Cell \u001b[0;32mIn[12], line 7\u001b[0m, in \u001b[0;36mrecursion_fibonacci\u001b[0;34m(n)\u001b[0m\n\u001b[1;32m      5\u001b[0m     \u001b[38;5;28;01mreturn\u001b[39;00m \u001b[38;5;241m1\u001b[39m\n\u001b[1;32m      6\u001b[0m \u001b[38;5;28;01melse\u001b[39;00m:\n\u001b[0;32m----> 7\u001b[0m     \u001b[38;5;28;01mreturn\u001b[39;00m \u001b[43mrecursion_fibonacci\u001b[49m\u001b[43m(\u001b[49m\u001b[43mn\u001b[49m\u001b[38;5;241;43m-\u001b[39;49m\u001b[38;5;241;43m1\u001b[39;49m\u001b[43m)\u001b[49m \u001b[38;5;241m+\u001b[39m recursion_fibonacci(n\u001b[38;5;241m-\u001b[39m\u001b[38;5;241m2\u001b[39m)\n",
      "    \u001b[0;31m[... skipping similar frames: recursion_fibonacci at line 7 (2968 times)]\u001b[0m\n",
      "Cell \u001b[0;32mIn[12], line 7\u001b[0m, in \u001b[0;36mrecursion_fibonacci\u001b[0;34m(n)\u001b[0m\n\u001b[1;32m      5\u001b[0m     \u001b[38;5;28;01mreturn\u001b[39;00m \u001b[38;5;241m1\u001b[39m\n\u001b[1;32m      6\u001b[0m \u001b[38;5;28;01melse\u001b[39;00m:\n\u001b[0;32m----> 7\u001b[0m     \u001b[38;5;28;01mreturn\u001b[39;00m \u001b[43mrecursion_fibonacci\u001b[49m\u001b[43m(\u001b[49m\u001b[43mn\u001b[49m\u001b[38;5;241;43m-\u001b[39;49m\u001b[38;5;241;43m1\u001b[39;49m\u001b[43m)\u001b[49m \u001b[38;5;241m+\u001b[39m recursion_fibonacci(n\u001b[38;5;241m-\u001b[39m\u001b[38;5;241m2\u001b[39m)\n",
      "Cell \u001b[0;32mIn[12], line 4\u001b[0m, in \u001b[0;36mrecursion_fibonacci\u001b[0;34m(n)\u001b[0m\n\u001b[1;32m      3\u001b[0m \u001b[38;5;28;01mdef\u001b[39;00m\u001b[38;5;250m \u001b[39m\u001b[38;5;21mrecursion_fibonacci\u001b[39m(n):\n\u001b[0;32m----> 4\u001b[0m     \u001b[38;5;28;01mif\u001b[39;00m \u001b[43mn\u001b[49m\u001b[43m \u001b[49m\u001b[38;5;241;43m==\u001b[39;49m\u001b[43m \u001b[49m\u001b[38;5;241;43m0\u001b[39;49m:\n\u001b[1;32m      5\u001b[0m         \u001b[38;5;28;01mreturn\u001b[39;00m \u001b[38;5;241m1\u001b[39m\n\u001b[1;32m      6\u001b[0m     \u001b[38;5;28;01melse\u001b[39;00m:\n",
      "\u001b[0;31mRecursionError\u001b[0m: maximum recursion depth exceeded in comparison"
     ]
    }
   ],
   "source": [
    "# recursion\n",
    "\n",
    "# def recursion_fibonacci(n):\n",
    "#     if n == 0:\n",
    "#         return 1\n",
    "#     else:\n",
    "#         return recursion_fibonacci(n-1) + recursion_fibonacci(n-2)\n",
    "# recursion_fibonacci(5)\n"
   ]
  },
  {
   "cell_type": "markdown",
   "id": "401cacf9",
   "metadata": {},
   "source": [
    "3. Explain the difference between *args and **kwargs. Write a function that uses\n",
    "both."
   ]
  },
  {
   "cell_type": "markdown",
   "id": "dceca248",
   "metadata": {},
   "source": [
    "1. *args -> we use when we are uncertain how many value will be passed by the user."
   ]
  },
  {
   "cell_type": "code",
   "execution_count": 29,
   "id": "26f033c0",
   "metadata": {},
   "outputs": [
    {
     "name": "stdout",
     "output_type": "stream",
     "text": [
      "1 X 1 = 1\n",
      "1 X 2 = 2\n",
      "1 X 3 = 3\n",
      "1 X 4 = 4\n",
      "1 X 5 = 5\n",
      "1 X 6 = 6\n",
      "1 X 7 = 7\n",
      "1 X 8 = 8\n",
      "1 X 9 = 9\n",
      "----------\n",
      "2 X 1 = 2\n",
      "2 X 2 = 4\n",
      "2 X 3 = 6\n",
      "2 X 4 = 8\n",
      "2 X 5 = 10\n",
      "2 X 6 = 12\n",
      "2 X 7 = 14\n",
      "2 X 8 = 16\n",
      "2 X 9 = 18\n",
      "----------\n",
      "3 X 1 = 3\n",
      "3 X 2 = 6\n",
      "3 X 3 = 9\n",
      "3 X 4 = 12\n",
      "3 X 5 = 15\n",
      "3 X 6 = 18\n",
      "3 X 7 = 21\n",
      "3 X 8 = 24\n",
      "3 X 9 = 27\n",
      "----------\n"
     ]
    }
   ],
   "source": [
    "def multiplication(*args):\n",
    "    \n",
    "    for val in args:\n",
    "        for i in range(1,10):\n",
    "            print(f\"{val} X {i} = {val * i}\")\n",
    "        print('-'*10)\n",
    "\n",
    "multiplication(1,2,3)"
   ]
  },
  {
   "cell_type": "markdown",
   "id": "b2c6b3ad",
   "metadata": {},
   "source": [
    "2. **kwargs -> key value arugment "
   ]
  },
  {
   "cell_type": "code",
   "execution_count": 48,
   "id": "eca224e7",
   "metadata": {},
   "outputs": [
    {
     "name": "stdout",
     "output_type": "stream",
     "text": [
      "{'name': 'hello', 'address': 'nepal', 'contact': '90877777'}\n"
     ]
    }
   ],
   "source": [
    "def country(**kwargs):\n",
    "    print(kwargs)\n",
    "\n",
    "country(name = 'hello', address = 'nepal', contact = '90877777')\n"
   ]
  },
  {
   "cell_type": "code",
   "execution_count": null,
   "id": "b1fe16fb",
   "metadata": {},
   "outputs": [],
   "source": []
  },
  {
   "cell_type": "markdown",
   "id": "5e522aed",
   "metadata": {},
   "source": [
    "4. Explain difference between map(), filter(), and reduce(). Show small\n",
    "examples."
   ]
  },
  {
   "cell_type": "code",
   "execution_count": 1,
   "id": "93b09afd",
   "metadata": {},
   "outputs": [
    {
     "data": {
      "text/plain": [
       "[1, 4, 9, 16, 25, 25, 25, 36]"
      ]
     },
     "execution_count": 1,
     "metadata": {},
     "output_type": "execute_result"
    }
   ],
   "source": [
    "# map\n",
    "l1 = [1,2,3,4,5,5,5,6]\n",
    "\n",
    "list(map(lambda x: x**2, l1))"
   ]
  },
  {
   "cell_type": "code",
   "execution_count": 2,
   "id": "addf61b4",
   "metadata": {},
   "outputs": [
    {
     "data": {
      "text/plain": [
       "[5, 5, 5, 6]"
      ]
     },
     "execution_count": 2,
     "metadata": {},
     "output_type": "execute_result"
    }
   ],
   "source": [
    "# filter() -> return only true value\n",
    "\n",
    "list(filter(lambda x:  x > 4, l1))\n"
   ]
  },
  {
   "cell_type": "code",
   "execution_count": 4,
   "id": "b3eb2d57",
   "metadata": {},
   "outputs": [
    {
     "data": {
      "text/plain": [
       "1"
      ]
     },
     "execution_count": 4,
     "metadata": {},
     "output_type": "execute_result"
    }
   ],
   "source": [
    "# reduce\n",
    "from functools import reduce\n",
    "\n",
    "reduce(lambda x, y: x if x < y else y, l1)"
   ]
  },
  {
   "cell_type": "markdown",
   "id": "82f71899",
   "metadata": {},
   "source": []
  },
  {
   "cell_type": "markdown",
   "id": "3f7334aa",
   "metadata": {},
   "source": [
    "5. Implement binary search on a sorted list without using built-in functions."
   ]
  },
  {
   "cell_type": "code",
   "execution_count": null,
   "id": "64cc68de",
   "metadata": {},
   "outputs": [
    {
     "name": "stdout",
     "output_type": "stream",
     "text": [
      "Target value 16 found at index 7\n"
     ]
    }
   ],
   "source": [
    "### SOLVE USING INTERNET \n",
    "\n",
    "l = [2,4,5,8,10,12,14,16,17,18,30,33,45]\n",
    "target = 16\n",
    "low = 0\n",
    "high = len(l) - 1\n",
    "\n",
    "for i in range(len(l)):\n",
    "    middle_index = (low + high) // 2\n",
    "    if l[middle_index] == target:\n",
    "        print(f\"Target value {target} found at index {middle_index}\")\n",
    "        break\n",
    "    elif l[middle_index] < target: # right terw herney\n",
    "        low = middle_index + 1\n",
    "    elif l[middle_index] > target: # left terw herney\n",
    "        high = middle_index - 1\n",
    "        \n",
    "\n"
   ]
  },
  {
   "cell_type": "code",
   "execution_count": null,
   "id": "d46124c3",
   "metadata": {},
   "outputs": [],
   "source": []
  }
 ],
 "metadata": {
  "kernelspec": {
   "display_name": "Python 3",
   "language": "python",
   "name": "python3"
  },
  "language_info": {
   "codemirror_mode": {
    "name": "ipython",
    "version": 3
   },
   "file_extension": ".py",
   "mimetype": "text/x-python",
   "name": "python",
   "nbconvert_exporter": "python",
   "pygments_lexer": "ipython3",
   "version": "3.10.16"
  }
 },
 "nbformat": 4,
 "nbformat_minor": 5
}
