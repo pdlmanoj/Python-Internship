{
  "cells": [
    {
      "cell_type": "markdown",
      "metadata": {
        "id": "lSNbVZA81hp2"
      },
      "source": [
        "### Some Theory\n",
        "\n",
        "##### Types of data used for I/O:\n",
        "- Text - '12345' as a sequence of unicode chars\n",
        "- Binary - 12345 as a sequence of bytes of its binary equivalent\n",
        "\n",
        "##### Hence there are 2 file types to deal with\n",
        "- Text files - All program files are text files\n",
        "- Binary Files - Images,music,video,exe files"
      ]
    },
    {
      "cell_type": "markdown",
      "metadata": {
        "id": "lYCpq5aK2Hic"
      },
      "source": [
        "### How File I/O is done in most programming languages\n",
        "\n",
        "- Open a file\n",
        "- Read/Write data\n",
        "- Close the file"
      ]
    },
    {
      "cell_type": "markdown",
      "metadata": {
        "id": "xvnsasXQ2phi"
      },
      "source": [
        "### Writing to a file"
      ]
    },
    {
      "cell_type": "code",
      "execution_count": null,
      "metadata": {
        "colab": {
          "base_uri": "https://localhost:8080/",
          "height": 205
        },
        "id": "lZTUPJ_K2DEv",
        "outputId": "a75557f5-b5e0-4666-fe27-6bfff7171f92"
      },
      "outputs": [
        {
          "ename": "ValueError",
          "evalue": "I/O operation on closed file.",
          "output_type": "error",
          "traceback": [
            "\u001b[0;31m---------------------------------------------------------------------------\u001b[0m",
            "\u001b[0;31mValueError\u001b[0m                                Traceback (most recent call last)",
            "Cell \u001b[0;32mIn[1], line 6\u001b[0m\n\u001b[1;32m      4\u001b[0m f\u001b[38;5;241m.\u001b[39mclose()\n\u001b[1;32m      5\u001b[0m \u001b[38;5;66;03m# since file is closed hence this will not work\u001b[39;00m\n\u001b[0;32m----> 6\u001b[0m \u001b[43mf\u001b[49m\u001b[38;5;241;43m.\u001b[39;49m\u001b[43mwrite\u001b[49m\u001b[43m(\u001b[49m\u001b[38;5;124;43m'\u001b[39;49m\u001b[38;5;124;43mhello\u001b[39;49m\u001b[38;5;124;43m'\u001b[39;49m\u001b[43m)\u001b[49m\n",
            "\u001b[0;31mValueError\u001b[0m: I/O operation on closed file."
          ]
        }
      ],
      "source": [
        "# case 1 - if the file is not present\n",
        "f = open('sample.txt','w')\n",
        "f.write('Hello world')\n",
        "f.close()\n",
        "# since file is closed, this will not work\n",
        "f.write('hello')"
      ]
    },
    {
      "cell_type": "code",
      "execution_count": 13,
      "metadata": {
        "id": "vFnaFPjR3fH9"
      },
      "outputs": [],
      "source": [
        "# write multiline strings\n",
        "f = open('sample1.txt','w')\n",
        "f.write('hello world')\n",
        "f.write('\\nhow are you?')\n",
        "f.close()"
      ]
    },
    {
      "cell_type": "code",
      "execution_count": 14,
      "metadata": {
        "id": "bGSwQIAk24Le"
      },
      "outputs": [],
      "source": [
        "# case 2 - if the file is already present\n",
        "f = open('sample.txt','w')\n",
        "f.write('salman khan')\n",
        "f.close()"
      ]
    },
    {
      "cell_type": "code",
      "execution_count": 5,
      "metadata": {
        "id": "PguBWln13ZJy"
      },
      "outputs": [],
      "source": [
        "# how exactly open() works?"
      ]
    },
    {
      "cell_type": "code",
      "execution_count": 16,
      "metadata": {
        "id": "KZViVfpm4D8F"
      },
      "outputs": [],
      "source": [
        "# Problem with w mode\n",
        "# introducing append mode\n",
        "f = open('sample1.txt','a')\n",
        "f.write('\\nI am fine')\n",
        "f.close()"
      ]
    },
    {
      "cell_type": "code",
      "execution_count": null,
      "metadata": {},
      "outputs": [],
      "source": [
        "d = {'apple': 1, 'banana': 7}\n",
        "\n",
        "f = open('test.txt', 'w')\n",
        "f.writelines(d)\n",
        "f.close()"
      ]
    },
    {
      "cell_type": "code",
      "execution_count": 23,
      "metadata": {
        "id": "JDseN1dP4SXR"
      },
      "outputs": [],
      "source": [
        "# write lines\n",
        "L = ['hello\\n','hi\\n','how are you\\n','I am fine', '1','2']\n",
        "\n",
        "f = open('sample.txt','w')\n",
        "f.writelines(L)\n",
        "f.close()"
      ]
    },
    {
      "cell_type": "code",
      "execution_count": 25,
      "metadata": {},
      "outputs": [],
      "source": [
        "with open('hello.txt', 'w') as wf:\n",
        "    wf.write(\"This is one sentence\")\n",
        "    wf.write(\"\\nSecond line \")"
      ]
    },
    {
      "cell_type": "code",
      "execution_count": 34,
      "metadata": {},
      "outputs": [
        {
          "name": "stdout",
          "output_type": "stream",
          "text": [
            "This is one sentence\n",
            "Second line \n"
          ]
        }
      ],
      "source": [
        "with open('hello.txt', \"r\") as rf:\n",
        "    print(rf.read())\n"
      ]
    },
    {
      "cell_type": "code",
      "execution_count": 36,
      "metadata": {
        "colab": {
          "base_uri": "https://localhost:8080/"
        },
        "id": "yRu-TvOL6SFu",
        "outputId": "601e7d90-0b4f-416f-9cfe-57031a6677f1"
      },
      "outputs": [
        {
          "name": "stdout",
          "output_type": "stream",
          "text": [
            "hello\n",
            "hi\n",
            "how are you\n",
            "I am fine12\n"
          ]
        }
      ],
      "source": [
        "# reading from files\n",
        "# -> using read()\n",
        "f = open('sample.txt','r')\n",
        "s = f.read() # Read whole file\n",
        "print(s)\n",
        "f.close()"
      ]
    },
    {
      "cell_type": "code",
      "execution_count": 37,
      "metadata": {
        "colab": {
          "base_uri": "https://localhost:8080/"
        },
        "id": "lDqYZe_46thB",
        "outputId": "3267b102-b863-47c4-eec1-2b1067340d02"
      },
      "outputs": [
        {
          "name": "stdout",
          "output_type": "stream",
          "text": [
            "hello\n",
            "hi\n",
            "h\n"
          ]
        }
      ],
      "source": [
        "# reading upto n chars\n",
        "f = open('sample.txt','r')\n",
        "s = f.read(10)\n",
        "print(s)\n",
        "f.close()"
      ]
    },
    {
      "cell_type": "code",
      "execution_count": 41,
      "metadata": {
        "colab": {
          "base_uri": "https://localhost:8080/"
        },
        "id": "no-ZCUat62-x",
        "outputId": "cf7570ed-5fcf-4203-b207-77d644510b8d"
      },
      "outputs": [
        {
          "name": "stdout",
          "output_type": "stream",
          "text": [
            "hello\n",
            "hi\n"
          ]
        }
      ],
      "source": [
        "# readline() -> to read line by line\n",
        "f = open('sample.txt','r')\n",
        "print(f.readline(),end='') # frist line \n",
        "print(f.readline(),end='') # second line\n",
        "f.close()"
      ]
    },
    {
      "cell_type": "code",
      "execution_count": 11,
      "metadata": {},
      "outputs": [
        {
          "data": {
            "text/plain": [
              "['salman khan']"
            ]
          },
          "execution_count": 11,
          "metadata": {},
          "output_type": "execute_result"
        }
      ],
      "source": [
        "f = open('sample.txt', 'r')\n",
        "f.readlines() # Return list of lines"
      ]
    },
    {
      "cell_type": "code",
      "execution_count": 60,
      "metadata": {},
      "outputs": [
        {
          "name": "stdout",
          "output_type": "stream",
          "text": [
            "4\n"
          ]
        },
        {
          "data": {
            "text/plain": [
              "''"
            ]
          },
          "execution_count": 60,
          "metadata": {},
          "output_type": "execute_result"
        }
      ],
      "source": [
        "f = open('sample.txt', 'r')\n",
        "count = 0\n",
        "for line in f:\n",
        "    count += 1\n",
        "\n",
        "print(count)\n",
        "f.read()"
      ]
    },
    {
      "cell_type": "code",
      "execution_count": 65,
      "metadata": {
        "colab": {
          "base_uri": "https://localhost:8080/"
        },
        "id": "CsuRSq9m7NJF",
        "outputId": "2ba94ac9-dd0a-4f61-d4f2-f3c80893f3b5"
      },
      "outputs": [
        {
          "name": "stdout",
          "output_type": "stream",
          "text": [
            "hello\n",
            "hi\n",
            "how are you\n",
            "I am fine12"
          ]
        }
      ],
      "source": [
        "# reading entire using readline\n",
        "f = open('sample.txt','r')\n",
        "\n",
        "while True:\n",
        "\n",
        "  data = f.readline()\n",
        "\n",
        "  if data == '': # when read EOF (end of the file)\n",
        "    break\n",
        "  else:\n",
        "    print(data,end='')\n",
        "\n",
        "\n",
        "f.close()"
      ]
    },
    {
      "cell_type": "markdown",
      "metadata": {
        "id": "VoRlMzQq78in"
      },
      "source": [
        "### Using Context Manager (With)\n",
        "\n",
        "- It's a good idea to close a file after usage as it will free up the resources\n",
        "- If we dont close it, garbage collector would close it\n",
        "- with keyword closes the file as soon as the usage is over"
      ]
    },
    {
      "cell_type": "code",
      "execution_count": 52,
      "metadata": {
        "id": "xwAf8ljv7eop"
      },
      "outputs": [],
      "source": [
        "# with\n",
        "with open('sample1.txt','w') as f:\n",
        "  f.write('selmon bhai')"
      ]
    },
    {
      "cell_type": "code",
      "execution_count": 53,
      "metadata": {
        "colab": {
          "base_uri": "https://localhost:8080/",
          "height": 169
        },
        "id": "M2kGnEjwzuzA",
        "outputId": "84fc8822-b85e-4288-ec82-0dcaf18d5fce"
      },
      "outputs": [
        {
          "ename": "ValueError",
          "evalue": "I/O operation on closed file.",
          "output_type": "error",
          "traceback": [
            "\u001b[0;31m---------------------------------------------------------------------------\u001b[0m",
            "\u001b[0;31mValueError\u001b[0m                                Traceback (most recent call last)",
            "Cell \u001b[0;32mIn[53], line 1\u001b[0m\n\u001b[0;32m----> 1\u001b[0m \u001b[43mf\u001b[49m\u001b[38;5;241;43m.\u001b[39;49m\u001b[43mwrite\u001b[49m\u001b[43m(\u001b[49m\u001b[38;5;124;43m'\u001b[39;49m\u001b[38;5;124;43mhello\u001b[39;49m\u001b[38;5;124;43m'\u001b[39;49m\u001b[43m)\u001b[49m \u001b[38;5;66;03m# autoclose so, cant write after\u001b[39;00m\n\u001b[1;32m      2\u001b[0m \u001b[38;5;66;03m# the close file\u001b[39;00m\n",
            "\u001b[0;31mValueError\u001b[0m: I/O operation on closed file."
          ]
        }
      ],
      "source": [
        "f.write('hello') # autoclose so, cant write after\n",
        "# the close file"
      ]
    },
    {
      "cell_type": "code",
      "execution_count": 66,
      "metadata": {
        "colab": {
          "base_uri": "https://localhost:8080/"
        },
        "id": "woeWzxAA8Yr7",
        "outputId": "a782c85a-6fa6-43d2-ed34-274012542ec2"
      },
      "outputs": [
        {
          "name": "stdout",
          "output_type": "stream",
          "text": [
            "hello\n",
            "\n"
          ]
        }
      ],
      "source": [
        "# try f.read() now\n",
        "with open('sample.txt','r') as f:\n",
        "  print(f.readline())"
      ]
    },
    {
      "cell_type": "code",
      "execution_count": 67,
      "metadata": {
        "colab": {
          "base_uri": "https://localhost:8080/"
        },
        "id": "NEWlmJK78a34",
        "outputId": "39702889-0a64-4f2b-ea82-03bc6ec1de26"
      },
      "outputs": [
        {
          "name": "stdout",
          "output_type": "stream",
          "text": [
            "hello\n",
            "hi\n",
            "h\n",
            "ow are you\n",
            "\n",
            "I am fine\n",
            "12\n"
          ]
        }
      ],
      "source": [
        "# moving within a file -> 10 char then 10 char\n",
        "with open('sample.txt','r') as f:\n",
        "  print(f.read(10))\n",
        "  print(f.read(10))\n",
        "  print(f.read(10))\n",
        "  print(f.read(10))"
      ]
    },
    {
      "cell_type": "code",
      "execution_count": 70,
      "metadata": {
        "id": "iZi3IxvQ9AxV"
      },
      "outputs": [],
      "source": [
        "# benefit? -> to load a big file in memory\n",
        "big_L = ['hello world ' for i in range(1000)]\n",
        "\n",
        "with open('big1.txt','w') as f:\n",
        "  f.writelines(big_L)\n"
      ]
    },
    {
      "cell_type": "code",
      "execution_count": 72,
      "metadata": {
        "colab": {
          "base_uri": "https://localhost:8080/"
        },
        "id": "5pznOzzleILp",
        "outputId": "43ac7570-82bc-4fb9-94f9-fe14d60a8ea5"
      },
      "outputs": [
        {
          "name": "stdout",
          "output_type": "stream",
          "text": [
            "d hello wo***o world he***d hello wo***o world he***d hello wo***o world he***d hello wo***o world he***d hello wo***o world he***d hello wo***o world he***d hello wo***o world he***d hello wo***o world he***d hello wo***o world he***d hello wo***o world he***d hello wo***o world he***d hello wo***o world he***d hello wo***o world he***d hello wo***o world he***d hello wo***o world he***d hello wo***o world he***d hello wo***o world he***d hello wo***o world he***d hello wo***o world he***d hello wo***o world he***d hello wo***o world he***d hello wo***o world he***d hello wo***o world he***d hello wo***o world he***d hello wo***o world he***d hello wo***o world he***d hello wo***o world he***d hello wo***o world he***d hello wo***o world he***d hello wo***o world he***d hello wo***o world he***d hello wo***o world he***d hello wo***o world he***d hello wo***o world he***d hello wo***o world he***d hello wo***o world he***d hello wo***o world he***d hello wo***o world he***d hello wo***o world he***d hello wo***o world he***d hello wo***o world he***d hello wo***o world he***d hello wo***o world he***d hello wo***o world he***d hello wo***o world he***d hello wo***o world he***d hello wo***o world he***d hello wo***o world he***d hello wo***o world he***d hello wo***o world he***d hello wo***o world he***d hello wo***o world he***d hello wo***o world he***d hello wo***o world he***d hello wo***o world he***d hello wo***o world he***d hello wo***o world he***d hello wo***o world he***d hello wo***o world he***d hello wo***o world he***d hello wo***o world he***d hello wo***o world he***d hello wo***o world he***d hello wo***o world he***d hello wo***o world he***d hello wo***o world he***d hello wo***o world he***d hello wo***o world he***d hello wo***o world he***d hello wo***o world he***d hello wo***o world he***d hello wo***o world he***d hello wo***o world he***d hello wo***o world he***d hello wo***o world he***d hello wo***o world he***d hello wo***o world he***d hello wo***o world he***d hello wo***o world he***d hello wo***o world he***d hello wo***o world he***d hello wo***o world he***d hello wo***o world he***d hello wo***o world he***d hello wo***o world he***d hello wo***o world he***d hello wo***o world he***d hello wo***o world he***d hello wo***o world he***d hello wo***o world he***d hello wo***o world he***d hello wo***o world he***d hello wo***o world he***d hello wo***o world he***d hello wo***o world he***d hello wo***o world he***d hello wo***o world he***d hello wo***o world he***d hello wo***o world he***d hello wo***o world he***d hello wo***o world he***d hello wo***o world he***d hello wo***o world he***d hello wo***o world he***d hello wo***o world he***d hello wo***o world he***d hello wo***o world he***d hello wo***o world he***d hello wo***o world he***d hello wo***o world he***d hello wo***o world he***d hello wo***o world he***d hello wo***o world he***d hello wo***o world he***d hello wo***o world he***d hello wo***o world he***d hello wo***o world he***d hello wo***o world he***d hello wo***o world he***d hello wo***o world he***d hello wo***o world he***d hello wo***o world he***d hello wo***o world he***d hello wo***o world he***d hello wo***o world he***d hello wo***o world he***d hello wo***o world he***d hello wo***o world he***d hello wo***o world he***d hello wo***o world he***d hello wo***o world he***d hello wo***o world he***d hello wo***o world he***d hello wo***o world he***d hello wo***o world he***d hello wo***o world he***d hello wo***o world he***d hello wo***o world he***d hello wo***o world he***d hello wo***o world he***d hello wo***o world he***d hello wo***o world he***d hello wo***o world he***d hello wo***o world he***d hello wo***o world he***d hello wo***o world he***d hello wo***o world he***d hello wo***o world he***d hello wo***o world he***d hello wo***o world he***d hello wo***o world he***d hello wo***o world he***d hello wo***o world he***d hello wo***o world he***d hello wo***o world he***d hello wo***o world he***d hello wo***o world he***d hello wo***o world he***d hello wo***o world he***d hello wo***o world he***d hello wo***o world he***d hello wo***o world he***d hello wo***o world he***d hello wo***o world he***d hello wo***o world he***d hello wo***o world he***d hello wo***o world he***d hello wo***o world he***d hello wo***o world he***d hello wo***o world he***d hello wo***o world he***d hello wo***o world he***d hello wo***o world he***d hello wo***o world he***d hello wo***o world he***d hello wo***o world he***d hello wo***o world he***d hello wo***o world he***d hello wo***o world he***d hello wo***o world he***d hello wo***o world he***d hello wo***o world he***d hello wo***o world he***d hello wo***o world he***d hello wo***o world he***d hello wo***o world he***d hello wo***o world he***d hello wo***o world he***d hello wo***o world he***d hello wo***o world he***d hello wo***o world he***d hello wo***o world he***d hello wo***o world he***d hello wo***o world he***d hello wo***o world he***d hello wo***o world he***d hello wo***o world he***d hello wo***o world he***d hello wo***o world he***d hello wo***o world he***"
          ]
        }
      ],
      "source": [
        "# now i want to load this big file \n",
        "# not whole file content at a time but, \n",
        "# only particular chunck of that file one by one\n",
        "\n",
        "with open('big1.txt','r') as f:\n",
        "\n",
        "  chunk_size = 10\n",
        "\n",
        "  while len(f.read(chunk_size)) > 0:\n",
        "    print(f.read(chunk_size),end='***')\n",
        "    f.read(chunk_size)\n",
        "    \n",
        "## Have problem ||\n",
        "              # VV"
      ]
    },
    {
      "cell_type": "code",
      "execution_count": 9,
      "metadata": {},
      "outputs": [
        {
          "name": "stdout",
          "output_type": "stream",
          "text": [
            "hello worl----d hello wo----rld hello ----world hell----o world he----llo world ----hello worl----d hello wo----rld hello ----world hell----o world he----llo world ----hello worl----d hello wo----rld hello ----world hell----o world he----llo world ----hello worl----d hello wo----rld hello ----world hell----o world he----llo world ----hello worl----d hello wo----rld hello ----world hell----o world he----llo world ----hello worl----d hello wo----rld hello ----world hell----o world he----llo world ----hello worl----d hello wo----rld hello ----world hell----o world he----llo world ----hello worl----d hello wo----rld hello ----world hell----o world he----llo world ----hello worl----d hello wo----rld hello ----world hell----o world he----llo world ----hello worl----d hello wo----rld hello ----world hell----o world he----llo world ----hello worl----d hello wo----rld hello ----world hell----o world he----llo world ----hello worl----d hello wo----rld hello ----world hell----o world he----llo world ----hello worl----d hello wo----rld hello ----world hell----o world he----llo world ----hello worl----d hello wo----rld hello ----world hell----o world he----llo world ----hello worl----d hello wo----rld hello ----world hell----o world he----llo world ----hello worl----d hello wo----rld hello ----world hell----o world he----llo world ----hello worl----d hello wo----rld hello ----world hell----o world he----llo world ----hello worl----d hello wo----rld hello ----world hell----o world he----llo world ----hello worl----d hello wo----rld hello ----world hell----o world he----llo world ----hello worl----d hello wo----rld hello ----world hell----o world he----llo world ----hello worl----d hello wo----rld hello ----world hell----o world he----llo world ----hello worl----d hello wo----rld hello ----world hell----o world he----llo world ----hello worl----d hello wo----rld hello ----world hell----o world he----llo world ----hello worl----d hello wo----rld hello ----world hell----o world he----llo world ----hello worl----d hello wo----rld hello ----world hell----o world he----llo world ----hello worl----d hello wo----rld hello ----world hell----o world he----llo world ----hello worl----d hello wo----rld hello ----world hell----o world he----llo world ----hello worl----d hello wo----rld hello ----world hell----o world he----llo world ----hello worl----d hello wo----rld hello ----world hell----o world he----llo world ----hello worl----d hello wo----rld hello ----world hell----o world he----llo world ----hello worl----d hello wo----rld hello ----world hell----o world he----llo world ----hello worl----d hello wo----rld hello ----world hell----o world he----llo world ----hello worl----d hello wo----rld hello ----world hell----o world he----llo world ----hello worl----d hello wo----rld hello ----world hell----o world he----llo world ----hello worl----d hello wo----rld hello ----world hell----o world he----llo world ----hello worl----d hello wo----rld hello ----world hell----o world he----llo world ----hello worl----d hello wo----rld hello ----world hell----o world he----llo world ----hello worl----d hello wo----rld hello ----world hell----o world he----llo world ----hello worl----d hello wo----rld hello ----world hell----o world he----llo world ----hello worl----d hello wo----rld hello ----world hell----o world he----llo world ----hello worl----d hello wo----rld hello ----world hell----o world he----llo world ----hello worl----d hello wo----rld hello ----world hell----o world he----llo world ----hello worl----d hello wo----rld hello ----world hell----o world he----llo world ----hello worl----d hello wo----rld hello ----world hell----o world he----llo world ----hello worl----d hello wo----rld hello ----world hell----o world he----llo world ----hello worl----d hello wo----rld hello ----world hell----o world he----llo world ----hello worl----d hello wo----rld hello ----world hell----o world he----llo world ----hello worl----d hello wo----rld hello ----world hell----o world he----llo world ----hello worl----d hello wo----rld hello ----world hell----o world he----llo world ----hello worl----d hello wo----rld hello ----world hell----o world he----llo world ----hello worl----d hello wo----rld hello ----world hell----o world he----llo world ----hello worl----d hello wo----rld hello ----world hell----o world he----llo world ----hello worl----d hello wo----rld hello ----world hell----o world he----llo world ----hello worl----d hello wo----rld hello ----world hell----o world he----llo world ----hello worl----d hello wo----rld hello ----world hell----o world he----llo world ----hello worl----d hello wo----rld hello ----world hell----o world he----llo world ----hello worl----d hello wo----rld hello ----world hell----o world he----llo world ----hello worl----d hello wo----rld hello ----world hell----o world he----llo world ----hello worl----d hello wo----rld hello ----world hell----o world he----llo world ----hello worl----d hello wo----rld hello ----world hell----o world he----llo world ----hello worl----d hello wo----rld hello ----world hell----o world he----llo world ----hello worl----d hello wo----rld hello ----world hell----o world he----llo world ----hello worl----d hello wo----rld hello ----world hell----o world he----llo world ----hello worl----d hello wo----rld hello ----world hell----o world he----llo world ----hello worl----d hello wo----rld hello ----world hell----o world he----llo world ----hello worl----d hello wo----rld hello ----world hell----o world he----llo world ----hello worl----d hello wo----rld hello ----world hell----o world he----llo world ----hello worl----d hello wo----rld hello ----world hell----o world he----llo world ----hello worl----d hello wo----rld hello ----world hell----o world he----llo world ----hello worl----d hello wo----rld hello ----world hell----o world he----llo world ----hello worl----d hello wo----rld hello ----world hell----o world he----llo world ----hello worl----d hello wo----rld hello ----world hell----o world he----llo world ----hello worl----d hello wo----rld hello ----world hell----o world he----llo world ----hello worl----d hello wo----rld hello ----world hell----o world he----llo world ----hello worl----d hello wo----rld hello ----world hell----o world he----llo world ----hello worl----d hello wo----rld hello ----world hell----o world he----llo world ----hello worl----d hello wo----rld hello ----world hell----o world he----llo world ----hello worl----d hello wo----rld hello ----world hell----o world he----llo world ----hello worl----d hello wo----rld hello ----world hell----o world he----llo world ----hello worl----d hello wo----rld hello ----world hell----o world he----llo world ----hello worl----d hello wo----rld hello ----world hell----o world he----llo world ----hello worl----d hello wo----rld hello ----world hell----o world he----llo world ----hello worl----d hello wo----rld hello ----world hell----o world he----llo world ----hello worl----d hello wo----rld hello ----world hell----o world he----llo world ----hello worl----d hello wo----rld hello ----world hell----o world he----llo world ----hello worl----d hello wo----rld hello ----world hell----o world he----llo world ----hello worl----d hello wo----rld hello ----world hell----o world he----llo world ----hello worl----d hello wo----rld hello ----world hell----o world he----llo world ----hello worl----d hello wo----rld hello ----world hell----o world he----llo world ----hello worl----d hello wo----rld hello ----world hell----o world he----llo world ----hello worl----d hello wo----rld hello ----world hell----o world he----llo world ----hello worl----d hello wo----rld hello ----world hell----o world he----llo world ----hello worl----d hello wo----rld hello ----world hell----o world he----llo world ----hello worl----d hello wo----rld hello ----world hell----o world he----llo world ----hello worl----d hello wo----rld hello ----world hell----o world he----llo world ----hello worl----d hello wo----rld hello ----world hell----o world he----llo world ----hello worl----d hello wo----rld hello ----world hell----o world he----llo world ----hello worl----d hello wo----rld hello ----world hell----o world he----llo world ----hello worl----d hello wo----rld hello ----world hell----o world he----llo world ----hello worl----d hello wo----rld hello ----world hell----o world he----llo world ----hello worl----d hello wo----rld hello ----world hell----o world he----llo world ----hello worl----d hello wo----rld hello ----world hell----o world he----llo world ----hello worl----d hello wo----rld hello ----world hell----o world he----llo world ----hello worl----d hello wo----rld hello ----world hell----o world he----llo world ----hello worl----d hello wo----rld hello ----world hell----o world he----llo world ----hello worl----d hello wo----rld hello ----world hell----o world he----llo world ----hello worl----d hello wo----rld hello ----world hell----o world he----llo world ----hello worl----d hello wo----rld hello ----world hell----o world he----llo world ----hello worl----d hello wo----rld hello ----world hell----o world he----llo world ----hello worl----d hello wo----rld hello ----world hell----o world he----llo world ----hello worl----d hello wo----rld hello ----world hell----o world he----llo world ----hello worl----d hello wo----rld hello ----world hell----o world he----llo world ----hello worl----d hello wo----rld hello ----world hell----o world he----llo world ----hello worl----d hello wo----rld hello ----world hell----o world he----llo world ----hello worl----d hello wo----rld hello ----world hell----o world he----llo world ----hello worl----d hello wo----rld hello ----world hell----o world he----llo world ----hello worl----d hello wo----rld hello ----world hell----o world he----llo world ----hello worl----d hello wo----rld hello ----world hell----o world he----llo world ----hello worl----d hello wo----rld hello ----world hell----o world he----llo world ----hello worl----d hello wo----rld hello ----world hell----o world he----llo world ----hello worl----d hello wo----rld hello ----world hell----o world he----llo world ----hello worl----d hello wo----rld hello ----world hell----o world he----llo world ----hello worl----d hello wo----rld hello ----world hell----o world he----llo world ----hello worl----d hello wo----rld hello ----world hell----o world he----llo world ----hello worl----d hello wo----rld hello ----world hell----o world he----llo world ----hello worl----d hello wo----rld hello ----world hell----o world he----llo world ----hello worl----d hello wo----rld hello ----world hell----o world he----llo world ----hello worl----d hello wo----rld hello ----world hell----o world he----llo world ----hello worl----d hello wo----rld hello ----world hell----o world he----llo world ----hello worl----d hello wo----rld hello ----world hell----o world he----llo world ----hello worl----d hello wo----rld hello ----world hell----o world he----llo world ----hello worl----d hello wo----rld hello ----world hell----o world he----llo world ----hello worl----d hello wo----rld hello ----world hell----o world he----llo world ----hello worl----d hello wo----rld hello ----world hell----o world he----llo world ----hello worl----d hello wo----rld hello ----world hell----o world he----llo world ----hello worl----d hello wo----rld hello ----world hell----o world he----llo world ----hello worl----d hello wo----rld hello ----world hell----o world he----llo world ----hello worl----d hello wo----rld hello ----world hell----o world he----llo world ----hello worl----d hello wo----rld hello ----world hell----o world he----llo world ----hello worl----d hello wo----rld hello ----world hell----o world he----llo world ----hello worl----d hello wo----rld hello ----world hell----o world he----llo world ----hello worl----d hello wo----rld hello ----world hell----o world he----llo world ----hello worl----d hello wo----rld hello ----world hell----o world he----llo world ----hello worl----d hello wo----rld hello ----world hell----o world he----llo world ----hello worl----d hello wo----rld hello ----world hell----o world he----llo world ----hello worl----d hello wo----rld hello ----world hell----o world he----llo world ----hello worl----d hello wo----rld hello ----world hell----o world he----llo world ----hello worl----d hello wo----rld hello ----world hell----o world he----llo world ----hello worl----d hello wo----rld hello ----world hell----o world he----llo world ----hello worl----d hello wo----rld hello ----world hell----o world he----llo world ----hello worl----d hello wo----rld hello ----world hell----o world he----llo world ----hello worl----d hello wo----rld hello ----world hell----o world he----llo world ----hello worl----d hello wo----rld hello ----world hell----o world he----llo world ----hello worl----d hello wo----rld hello ----world hell----o world he----llo world ----hello worl----d hello wo----rld hello ----world hell----o world he----llo world ----hello worl----d hello wo----rld hello ----world hell----o world he----llo world ----hello worl----d hello wo----rld hello ----world hell----o world he----llo world ----hello worl----d hello wo----rld hello ----world hell----o world he----llo world ----hello worl----d hello wo----rld hello ----world hell----o world he----llo world ----hello worl----d hello wo----rld hello ----world hell----o world he----llo world ----hello worl----d hello wo----rld hello ----world hell----o world he----llo world ----hello worl----d hello wo----rld hello ----world hell----o world he----llo world ----hello worl----d hello wo----rld hello ----world hell----o world he----llo world ----hello worl----d hello wo----rld hello ----world hell----o world he----llo world ----hello worl----d hello wo----rld hello ----world hell----o world he----llo world ----hello worl----d hello wo----rld hello ----world hell----o world he----llo world ----hello worl----d hello wo----rld hello ----world hell----o world he----llo world ----hello worl----d hello wo----rld hello ----world hell----o world he----llo world ----hello worl----d hello wo----rld hello ----world hell----o world he----llo world ----hello worl----d hello wo----rld hello ----world hell----o world he----llo world ----hello worl----d hello wo----rld hello ----world hell----o world he----llo world ----hello worl----d hello wo----rld hello ----world hell----o world he----llo world ----hello worl----d hello wo----rld hello ----world hell----o world he----llo world ----hello worl----d hello wo----rld hello ----world hell----o world he----llo world ----hello worl----d hello wo----rld hello ----world hell----o world he----llo world ----hello worl----d hello wo----rld hello ----world hell----o world he----llo world ----hello worl----d hello wo----rld hello ----world hell----o world he----llo world ----hello worl----d hello wo----rld hello ----world hell----o world he----llo world ----hello worl----d hello wo----rld hello ----world hell----o world he----llo world ----hello worl----d hello wo----rld hello ----world hell----o world he----llo world ----hello worl----d hello wo----rld hello ----world hell----o world he----llo world ----hello worl----d hello wo----rld hello ----world hell----o world he----llo world ----hello worl----d hello wo----rld hello ----world hell----o world he----llo world ----hello worl----d hello wo----rld hello ----world hell----o world he----llo world ----hello worl----d hello wo----rld hello ----world hell----o world he----llo world ----hello worl----d hello wo----rld hello ----world hell----o world he----llo world ----hello worl----d hello wo----rld hello ----world hell----o world he----llo world ----hello worl----d hello wo----rld hello ----world hell----o world he----llo world ----hello worl----d hello wo----rld hello ----world hell----o world he----llo world ----hello worl----d hello wo----rld hello ----world hell----o world he----llo world ----hello worl----d hello wo----rld hello ----world hell----o world he----llo world ----hello worl----d hello wo----rld hello ----world hell----o world he----llo world ----hello worl----d hello wo----rld hello ----world hell----o world he----llo world ----hello worl----d hello wo----rld hello ----world hell----o world he----llo world ----hello worl----d hello wo----rld hello ----world hell----o world he----llo world ----hello worl----d hello wo----rld hello ----world hell----o world he----llo world ----hello worl----d hello wo----rld hello ----world hell----o world he----llo world ----hello worl----d hello wo----rld hello ----world hell----o world he----llo world ----hello worl----d hello wo----rld hello ----world hell----o world he----llo world ----hello worl----d hello wo----rld hello ----world hell----o world he----llo world ----"
          ]
        }
      ],
      "source": [
        "# Above have problem,\n",
        "# The while condition reads 10 characters but discards them.\n",
        "# The print() statement reads the next 10 characters.\n",
        "# Half of the file gets lost (every first 10-character \n",
        "# block is ignored).\n",
        "\n",
        "## Better code, \n",
        "with open('big1.txt', 'r') as f:\n",
        "    size = 10\n",
        "    \n",
        "    while True:\n",
        "        chunk = f.read(size)\n",
        "        if not chunk:  # Stop when there's nothing left to read\n",
        "            break\n",
        "        print(chunk, end='----')\n",
        "        \n",
        "### Why is this correct?\n",
        "# Reads one chunk of data at a time.\n",
        "# Stops when the file is empty.\n",
        "# Does not skip any characters."
      ]
    },
    {
      "cell_type": "code",
      "execution_count": 74,
      "metadata": {
        "colab": {
          "base_uri": "https://localhost:8080/"
        },
        "id": "4POGK5dI9LmT",
        "outputId": "2a30e28e-b37a-40c8-8c69-891f5efd3be6"
      },
      "outputs": [
        {
          "name": "stdout",
          "output_type": "stream",
          "text": [
            "e you\n",
            "I am\n",
            "25\n",
            " fine12\n",
            "32\n"
          ]
        }
      ],
      "source": [
        "# seek and tell function\n",
        "with open('sample.txt','r') as f:\n",
        "  f.seek(15)\n",
        "  print(f.read(10))\n",
        "  print(f.tell())\n",
        "\n",
        "  print(f.read(10))\n",
        "  print(f.tell())"
      ]
    },
    {
      "cell_type": "code",
      "execution_count": 22,
      "metadata": {},
      "outputs": [
        {
          "name": "stdout",
          "output_type": "stream",
          "text": [
            "0\n",
            "{'name': '\n",
            "10\n",
            "0\n",
            "{'name': '\n"
          ]
        }
      ],
      "source": [
        "with open('sample.txt', 'r') as f:\n",
        "    print(f.tell()) # current file postion \n",
        "    print(f.read(10))\n",
        "    print(f.tell())\n",
        "    print(f.seek(0)) # reposition to 0 again\n",
        "    print(f.read(10)) # read from start 0 till 10"
      ]
    },
    {
      "cell_type": "code",
      "execution_count": null,
      "metadata": {
        "id": "oFqebRKuhXZA"
      },
      "outputs": [],
      "source": [
        "# seek during write\n",
        "with open('sample.txt','w') as f:\n",
        "  f.write('Hello')\n",
        "  f.seek(0)\n",
        "  f.write('Xa')"
      ]
    },
    {
      "cell_type": "code",
      "execution_count": null,
      "metadata": {},
      "outputs": [
        {
          "name": "stdout",
          "output_type": "stream",
          "text": [
            "Xallo\n",
            "5\n"
          ]
        }
      ],
      "source": [
        "with open('sample.txt', 'r') as rf:\n",
        "    print(rf.read())\n",
        "    print(rf.tell()) # current file point"
      ]
    },
    {
      "cell_type": "code",
      "execution_count": 14,
      "metadata": {},
      "outputs": [
        {
          "name": "stdout",
          "output_type": "stream",
          "text": [
            "hello world hello world hello world hello world hello world hello world hello world hello world hello world hello world hello world hello world hello world hello world hello world hello world hello world hello world hello world hello world hello world hello world hello world hello world hello world hello world hello world hello world hello world hello world hello world hello world hello world hello world hello world hello world hello world hello world hello world hello world hello world hello world hello world hello world hello world hello world hello world hello world hello world hello world hello world hello world hello world hello world hello world hello world hello world hello world hello world hello world hello world hello world hello world hello world hello world hello world hello world hello world hello world hello world hello world hello world hello world hello world hello world hello world hello world hello world hello world hello world hello world hello world hello world hello world hello world hello world hello world hello world hello world hello world hello world hello world hello world hello world hello world hello world hello world hello world hello world hello world hello world hello world hello world hello world hello world hello world hello world hello world hello world hello world hello world hello world hello world hello world hello world hello world hello world hello world hello world hello world hello world hello world hello world hello world hello world hello world hello world hello world hello world hello world hello world hello world hello world hello world hello world hello world hello world hello world hello world hello world hello world hello world hello world hello world hello world hello world hello world hello world hello world hello world hello world hello world hello world hello world hello world hello world hello world hello world hello world hello world hello world hello world hello world hello world hello world hello world hello world hello world hello world hello world hello world hello world hello world hello world hello world hello world hello world hello world hello world hello world hello world hello world hello world hello world hello world hello world hello world hello world hello world hello world hello world hello world hello world hello world hello world hello world hello world hello world hello world hello world hello world hello world hello world hello world hello world hello world hello world hello world hello world hello world hello world hello world hello world hello world hello world hello world hello world hello world hello world hello world hello world hello world hello world hello world hello world hello world hello world hello world hello world hello world hello world hello world hello world hello world hello world hello world hello world hello world hello world hello world hello world hello world hello world hello world hello world hello world hello world hello world hello world hello world hello world hello world hello world hello world hello world hello world hello world hello world hello world hello world hello world hello world hello world hello world hello world hello world hello world hello world hello world hello world hello world hello world hello world hello world hello world hello world hello world hello world hello world hello world hello world hello world hello world hello world hello world hello world hello world hello world hello world hello world hello world hello world hello world hello world hello world hello world hello world hello world hello world hello world hello world hello world hello world hello world hello world hello world hello world hello world hello world hello world hello world hello world hello world hello world hello world hello world hello world hello world hello world hello world hello world hello world hello world hello world hello world hello world hello world hello world hello world hello world hello world hello world hello world hello world hello world hello world hello world hello world hello world hello world hello world hello world hello world hello world hello world hello world hello world hello world hello world hello world hello world hello world hello world hello world hello world hello world hello world hello world hello world hello world hello world hello world hello world hello world hello world hello world hello world hello world hello world hello world hello world hello world hello world hello world hello world hello world hello world hello world hello world hello world hello world hello world hello world hello world hello world hello world hello world hello world hello world hello world hello world hello world hello world hello world hello world hello world hello world hello world hello world hello world hello world hello world hello world hello world hello world hello world hello world hello world hello world hello world hello world hello world hello world hello world hello world hello world hello world hello world hello world hello world hello world hello world hello world hello world hello world hello world hello world hello world hello world hello world hello world hello world hello world hello world hello world hello world hello world hello world hello world hello world hello world hello world hello world hello world hello world hello world hello world hello world hello world hello world hello world hello world hello world hello world hello world hello world hello world hello world hello world hello world hello world hello world hello world hello world hello world hello world hello world hello world hello world hello world hello world hello world hello world hello world hello world hello world hello world hello world hello world hello world hello world hello world hello world hello world hello world hello world hello world hello world hello world hello world hello world hello world hello world hello world hello world hello world hello world hello world hello world hello world hello world hello world hello world hello world hello world hello world hello world hello world hello world hello world hello world hello world hello world hello world hello world hello world hello world hello world hello world hello world hello world hello world hello world hello world hello world hello world hello world hello world hello world hello world hello world hello world hello world hello world hello world hello world hello world hello world hello world hello world hello world hello world hello world hello world hello world hello world hello world hello world hello world hello world hello world hello world hello world hello world hello world hello world hello world hello world hello world hello world hello world hello world hello world hello world hello world hello world hello world hello world hello world hello world hello world hello world hello world hello world hello world hello world hello world hello world hello world hello world hello world hello world hello world hello world hello world hello world hello world hello world hello world hello world hello world hello world hello world hello world hello world hello world hello world hello world hello world hello world hello world hello world hello world hello world hello world hello world hello world hello world hello world hello world hello world hello world hello world hello world hello world hello world hello world hello world hello world hello world hello world hello world hello world hello world hello world hello world hello world hello world hello world hello world hello world hello world hello world hello world hello world hello world hello world hello world hello world hello world hello world hello world hello world hello world hello world hello world hello world hello world hello world hello world hello world hello world hello world hello world hello world hello world hello world hello world hello world hello world hello world hello world hello world hello world hello world hello world hello world hello world hello world hello world hello world hello world hello world hello world hello world hello world hello world hello world hello world hello world hello world hello world hello world hello world hello world hello world hello world hello world hello world hello world hello world hello world hello world hello world hello world hello world hello world hello world hello world hello world hello world hello world hello world hello world hello world hello world hello world hello world hello world hello world hello world hello world hello world hello world hello world hello world hello world hello world hello world hello world hello world hello world hello world hello world hello world hello world hello world hello world hello world hello world hello world hello world hello world hello world hello world hello world hello world hello world hello world hello world hello world hello world hello world hello world hello world hello world hello world hello world hello world hello world hello world hello world hello world hello world hello world hello world hello world hello world hello world hello world hello world hello world hello world hello world hello world hello world hello world hello world hello world hello world hello world hello world hello world hello world hello world hello world hello world hello world hello world hello world hello world hello world hello world hello world hello world hello world hello world hello world hello world hello world hello world hello world hello world hello world hello world hello world hello world hello world hello world hello world hello world hello world hello world hello world hello world hello world hello world hello world hello world hello world hello world hello world hello world hello world hello world hello world hello world hello world hello world hello world hello world hello world hello world hello world hello world hello world hello world hello world hello world hello world hello world hello world hello world hello world hello world hello world hello world hello world hello world hello world hello world hello world hello world hello world hello world hello world hello world hello world hello world hello world hello world hello world hello world hello world hello world hello world hello world hello world hello world hello world hello world hello world hello world hello world hello world hello world hello world hello world hello world hello world hello world hello world hello world hello world hello world hello world hello world hello world hello world hello world hello world hello world hello world hello world hello world hello world hello world hello world hello world hello world hello world hello world hello world hello world hello world hello world hello world hello world hello world hello world hello world hello world hello world hello world hello world hello world hello world hello world hello world hello world hello world hello world hello world hello world hello world hello world hello world hello world hello world hello world hello world hello world hello world hello world hello world hello world hello world hello world hello world hello world hello world hello world hello world hello world hello world hello world hello world hello world hello world hello world hello world hello world hello world hello world hello world hello world hello world hello world hello world hello world hello world hello world hello world hello world hello world hello world hello world hello world hello world hello world hello world hello world hello world hello world hello world hello world hello world hello world hello world hello world hello world hello world hello world hello world hello world hello world hello world hello world hello world hello world hello world hello world hello world hello world hello world hello world hello world hello world hello world hello world hello world hello world hello world hello world hello world hello world hello world hello world hello world hello world \n"
          ]
        }
      ],
      "source": [
        "with open('big1.txt', 'r') as rf:\n",
        "    for line in rf:\n",
        "        print(line)\n"
      ]
    },
    {
      "cell_type": "markdown",
      "metadata": {
        "id": "LFkBD4di9gQW"
      },
      "source": [
        "### Problems with working in text mode\n",
        "\n",
        "- can't work with binary files like images, audio, videos\n",
        "- not good for other data types like int/float/list/tuples"
      ]
    },
    {
      "cell_type": "code",
      "execution_count": null,
      "metadata": {
        "colab": {
          "base_uri": "https://localhost:8080/",
          "height": 348
        },
        "id": "MQyYgkBA_9yj",
        "outputId": "0dc1ba65-7891-4c0a-ca1a-149de010996a"
      },
      "outputs": [
        {
          "ename": "UnicodeDecodeError",
          "evalue": "ignored",
          "output_type": "error",
          "traceback": [
            "\u001b[0;31m---------------------------------------------------------------------------\u001b[0m",
            "\u001b[0;31mUnicodeDecodeError\u001b[0m                        Traceback (most recent call last)",
            "\u001b[0;32m<ipython-input-23-b662b4ad1a91>\u001b[0m in \u001b[0;36m<module>\u001b[0;34m\u001b[0m\n\u001b[1;32m      1\u001b[0m \u001b[0;31m# working with binary file\u001b[0m\u001b[0;34m\u001b[0m\u001b[0;34m\u001b[0m\u001b[0;34m\u001b[0m\u001b[0m\n\u001b[1;32m      2\u001b[0m \u001b[0;32mwith\u001b[0m \u001b[0mopen\u001b[0m\u001b[0;34m(\u001b[0m\u001b[0;34m'screenshot1.png'\u001b[0m\u001b[0;34m,\u001b[0m\u001b[0;34m'r'\u001b[0m\u001b[0;34m)\u001b[0m \u001b[0;32mas\u001b[0m \u001b[0mf\u001b[0m\u001b[0;34m:\u001b[0m\u001b[0;34m\u001b[0m\u001b[0;34m\u001b[0m\u001b[0m\n\u001b[0;32m----> 3\u001b[0;31m   \u001b[0mf\u001b[0m\u001b[0;34m.\u001b[0m\u001b[0mread\u001b[0m\u001b[0;34m(\u001b[0m\u001b[0;34m)\u001b[0m\u001b[0;34m\u001b[0m\u001b[0;34m\u001b[0m\u001b[0m\n\u001b[0m",
            "\u001b[0;32m/usr/lib/python3.7/codecs.py\u001b[0m in \u001b[0;36mdecode\u001b[0;34m(self, input, final)\u001b[0m\n\u001b[1;32m    320\u001b[0m         \u001b[0;31m# decode input (taking the buffer into account)\u001b[0m\u001b[0;34m\u001b[0m\u001b[0;34m\u001b[0m\u001b[0;34m\u001b[0m\u001b[0m\n\u001b[1;32m    321\u001b[0m         \u001b[0mdata\u001b[0m \u001b[0;34m=\u001b[0m \u001b[0mself\u001b[0m\u001b[0;34m.\u001b[0m\u001b[0mbuffer\u001b[0m \u001b[0;34m+\u001b[0m \u001b[0minput\u001b[0m\u001b[0;34m\u001b[0m\u001b[0;34m\u001b[0m\u001b[0m\n\u001b[0;32m--> 322\u001b[0;31m         \u001b[0;34m(\u001b[0m\u001b[0mresult\u001b[0m\u001b[0;34m,\u001b[0m \u001b[0mconsumed\u001b[0m\u001b[0;34m)\u001b[0m \u001b[0;34m=\u001b[0m \u001b[0mself\u001b[0m\u001b[0;34m.\u001b[0m\u001b[0m_buffer_decode\u001b[0m\u001b[0;34m(\u001b[0m\u001b[0mdata\u001b[0m\u001b[0;34m,\u001b[0m \u001b[0mself\u001b[0m\u001b[0;34m.\u001b[0m\u001b[0merrors\u001b[0m\u001b[0;34m,\u001b[0m \u001b[0mfinal\u001b[0m\u001b[0;34m)\u001b[0m\u001b[0;34m\u001b[0m\u001b[0;34m\u001b[0m\u001b[0m\n\u001b[0m\u001b[1;32m    323\u001b[0m         \u001b[0;31m# keep undecoded input until the next call\u001b[0m\u001b[0;34m\u001b[0m\u001b[0;34m\u001b[0m\u001b[0;34m\u001b[0m\u001b[0m\n\u001b[1;32m    324\u001b[0m         \u001b[0mself\u001b[0m\u001b[0;34m.\u001b[0m\u001b[0mbuffer\u001b[0m \u001b[0;34m=\u001b[0m \u001b[0mdata\u001b[0m\u001b[0;34m[\u001b[0m\u001b[0mconsumed\u001b[0m\u001b[0;34m:\u001b[0m\u001b[0;34m]\u001b[0m\u001b[0;34m\u001b[0m\u001b[0;34m\u001b[0m\u001b[0m\n",
            "\u001b[0;31mUnicodeDecodeError\u001b[0m: 'utf-8' codec can't decode byte 0x89 in position 0: invalid start byte"
          ]
        }
      ],
      "source": [
        "# working with binary file\n",
        "with open('screenshot1.png','r') as f:\n",
        "  f.read()"
      ]
    },
    {
      "cell_type": "code",
      "execution_count": 17,
      "metadata": {},
      "outputs": [
        {
          "name": "stdout",
          "output_type": "stream",
          "text": [
            "b'\\x89PNG\\r\\n\\x1a\\n\\x00\\x00\\x00\\rIHDR\\x00\\x00\\x03\\x14\\x00\\x00\\x01P\\x08\\x06\\x00\\x00\\x00&\\xd58\\xc2\\x00\\x00\\x0c>iCCPICC Profile\\x00\\x00H\\x89\\x95W\\x07XS\\xc9\\x16\\x9e[\\x92\\x90@h\\x01\\x04\\xa4\\x84\\xde\\x04\\xe9\\x04\\x90\\x12B\\x0b \\xbd\\x086B\\x12 \\x94\\x18\\x03A\\xc5\\x8e,*\\xb8v\\xb1\\x80\\r]\\x15Q\\xec\\x80\\xd8\\x11\\xc5\\xc2\"\\xd8\\xfb\\x82\\x88\\x8a\\xb2.\\x16\\xec\\xca\\x9b\\x14\\xd0u_\\xf9\\xde\\xf9\\xbe\\xb9\\xf7\\xbf\\xff\\x9c\\xf9\\xcf\\x99s\\xe7\\x96\\x01@\\xed4G$\\xcaA\\xd5\\x01\\xc8\\x15\\xe6\\x8bcC\\x02\\xe8\\xe3\\x92S\\xe8\\xa4^\\x80\\x00\\x14P\\x80\\x1e s\\xb8y\"ftt\\x04\\x806t\\xfe\\xbb\\xbd\\xbb\\t\\xbd\\xa1]\\xb3\\x97j\\xfd\\xb3\\xff\\xbf\\x9a\\x06\\x8f\\x9f\\xc7\\x05\\x00\\x89\\x868\\x8d\\x97\\xc7\\xcd\\x85\\xf80\\x00x%W$\\xce\\x07\\x80(\\xe5\\xcd\\xa6\\xe5\\x8b\\xa4\\x186\\xa0%\\x86\\tB\\xbcH\\x8a3\\xe4\\xb8R\\x8a\\xd3\\xe4x\\xbf\\xcc\\'>\\x96\\x05q3\\x00J*\\x1c\\x8e8\\x03\\x00\\xd5v\\xc8\\xd3\\x0b\\xb8\\x19PC\\xb5\\x1fbG!O \\x04@\\x8d\\x0e\\xb1on\\xee\\x14\\x1e\\xc4\\xa9\\x10[C\\x1f\\x11\\xc4R}F\\xda\\x0f:\\x19\\x7f\\xd3L\\x1b\\xd6\\xe4p2\\x86\\xb1|.2S\\n\\x14\\xe4\\x89r83\\xfe\\xcfr\\xfco\\xcb\\xcd\\x91\\x0c\\xc5\\xb0\\x84M%S\\x1c\\x1a+\\x9d3\\xac\\xdb\\xed\\xec)\\xe1R\\xac\\x02q\\x9f0-2\\nbM\\x88?\\x08x2\\x7f\\x88QJ\\xa6$4A\\xee\\x8f\\x1ap\\xf3X\\xb0f@\\x07bG\\x1e\\'0\\x1cb\\x03\\x88\\x83\\x859\\x91\\x11\\n>-]\\x10\\xcc\\x86\\x18\\xae\\x10t\\xba \\x9f\\x1d\\x0f\\xb1.\\xc4\\x8b\\xf8yAq\\n\\x9f-\\xe2)\\xb1\\x8aXh]\\xba\\x98\\xc5T\\xf0\\x178bY\\\\i\\xac\\x87\\x92\\xec\\x04\\xa6B\\xffu&\\x9f\\xad\\xd0\\xc7T\\x0b3\\xe3\\x93 \\xa6@l^ H\\x8c\\x84X\\x15b\\x87\\xbc\\xec\\xb8p\\x85\\xcf\\x98\\xc2LV\\xe4\\x90\\x8fX\\x12+\\xcd\\xdf\\x1c\\xe2X\\xbe0$@\\xae\\x8f\\x15\\xa4\\x8b\\x83c\\x15\\xfe\\xa5\\xb9yC\\xf3\\xc5\\xb6d\\n\\xd8\\x91\\n|0?3>T^\\x1f\\xac\\x99\\xcb\\x91\\xe5\\x0f\\xe7\\x82\\xb5\\xf3\\x85\\xcc\\x84!\\x1d~\\xde\\xb8\\x88\\xa1\\xb9\\xf0\\xf8\\x81A\\xf2\\xb9c\\xcf\\xf8\\xc2\\x848\\x85\\xce\\x07Q~@\\xac|,N\\x11\\xe5D+\\xfcqS~N\\x88\\x947\\x85\\xd85\\xaf N1\\x16O\\xcc\\x87\\x0bR\\xae\\x8f\\xa7\\x8b\\xf2\\xa3\\xe3\\xe5y\\xe2\\x85Y\\x9c\\xb0hy>\\xf8r\\x10\\x01X \\x10\\xd0\\x81\\x04\\xb640\\x05d\\x01A[_}\\x1f\\xbc\\x92\\xf7\\x04\\x03\\x0e\\x10\\x83\\x0c\\xc0\\x07\\xf6\\nfhD\\x92\\xacG\\x08\\x8fq\\xa0\\x10\\xfc\\t\\x11\\x1f\\xe4\\r\\x8f\\x0b\\x90\\xf5\\xf2A\\x01\\xe4\\xbf\\x0e\\xb3\\xf2\\xa3=H\\x97\\xf5\\x16\\xc8Fd\\x83\\'\\x10\\xe7\\x82p\\x90\\x03\\xaf%\\xb2Q\\xc2\\xe1h\\x89\\xe01d\\x04\\xff\\x88\\xce\\x81\\x8d\\x0b\\xf3\\xcd\\x81M\\xda\\xff\\xef\\xf9!\\xf6;\\xc3\\x84L\\x84\\x82\\x91\\x0cE\\xa4\\xab\\ry\\x12\\x83\\x88\\x81\\xc4Pb0\\xd1\\x06\\xd7\\xc7}qo<\\x02\\x1e\\xfdas\\xc6\\x19\\xb8\\xe7\\xd0<\\xbe\\xfb\\x13\\x9e\\x10:\\x08\\x8f\\x087\\x08\\x9d\\x84;\\x93\\x05E\\xe2\\x9f\\xb2\\x1c\\x0b:\\xa1~\\xb0\\xa2\\x16i?\\xd6\\x02\\xb7\\x84\\x9anx\\x00\\xee\\x03\\xd5\\xa12\\xae\\x83\\xeb\\x03{\\xdc\\x15\\xc6a\\xe2~0\\xb2\\x1bdY\\x8a\\xbc\\xa5U\\xa1\\xff\\xa4\\xfd\\xb7\\x19\\xfcp7\\x14~dG2J\\x1eA\\xf6\\'[\\xff<R\\xd5V\\xd5mXEZ\\xeb\\x1f\\xeb#\\xcf5m\\xb8\\xde\\xac\\xe1\\x9e\\x9f\\xe3\\xb3~\\xa8>\\x0f\\x9e\\xc3\\x7f\\xf6\\xc4\\x16a\\x87\\xb0\\x16\\xec\\x0cv\\x11;\\x8e\\xd5\\x03:v\\nk\\xc0Z\\xb1\\x13R<\\xbc\\xba\\x1e\\xcbV\\xd7P\\xb4XY>\\xd9PG\\xf0\\x8fxCwVZ\\xc9<\\xc7\\x1a\\xc7^\\xc7/\\xf2\\xbe|\\xfet\\xe9;\\x1a\\xb0\\xa6\\x88f\\x88\\x05\\x19\\x99\\xf9t&\\xfc\"\\xf0\\xe9l!\\xd7a\\x14\\xdd\\xd9\\xd1\\xd9\\r\\x00\\xe9\\xf7E\\xfe\\xfaz\\x13#\\xfbn :\\xad\\xdf\\xb9\\x05\\x7f\\x00\\xe0sjpp\\xf0\\xd8w.\\xec\\x14\\x00\\x07<\\xe0\\xe3\\x7f\\xf4;g\\xcd\\x80\\x9f\\x0ee\\x00.\\x1c\\xe5J\\xc4\\x05r\\x0e\\x97\\x1e\\x08\\xf0-\\xa1\\x06\\x9f4=`\\x04\\xcc\\x805\\x9c\\x8f3p\\x07\\xde\\xc0\\x1f\\x04\\x810\\x10\\x05\\xe2A2\\x98\\x04\\xb3\\xcf\\x84\\xeb\\\\\\x0c\\xa6\\x81Y`>(\\x01e`9X\\x036\\x80\\xcd`\\x1b\\xd8\\x05\\xf6\\x82\\x83\\xa0\\x1e\\x1c\\x07g\\xc0yp\\x19\\xb4\\x83\\x1b\\xe0\\x1e\\\\==\\xe0\\x05\\xe8\\x07\\xef\\xc0g\\x04AH\\x08\\x15\\xa1!z\\x881b\\x81\\xd8!\\xce\\x08\\x03\\xf1E\\x82\\x90\\x08$\\x16IFR\\x91\\x0cD\\x88H\\x90Y\\xc8\\x02\\xa4\\x0cY\\x89l@\\xb6\"\\xd5\\xc8\\x01\\xe4(r\\x06\\xb9\\x88t w\\x90.\\xa4\\x17y\\x8d|B1T\\x05\\xd5B\\rQKt4\\xca@\\x99h8\\x1a\\x8fND3\\xd0\\xa9h!Z\\x8c.E\\xd7\\xa1U\\xe8\\x1e\\xb4\\x0e=\\x83^Fo\\xa0\\x9d\\xe8\\x0bt\\x00\\x03\\x982\\xa6\\x83\\x99`\\xf6\\x18\\x03caQX\\n\\x96\\x8e\\x89\\xb19X)V\\x8eUa\\xb5X#\\xbc\\xcf\\xd7\\xb0N\\xac\\x0f\\xfb\\x88\\x13q\\x1aN\\xc7\\xed\\xe1\\n\\x0e\\xc5\\x13p.>\\x15\\x9f\\x83/\\xc17\\xe0\\xbb\\xf0:\\xbc\\x19\\xbf\\x86w\\xe1\\xfd\\xf87\\x02\\x95`@\\xb0#x\\x11\\xd8\\x84q\\x84\\x0c\\xc24B\\t\\xa1\\x9c\\xb0\\x83p\\x84p\\x0e>K=\\x84wD\"Q\\x87hE\\xf4\\x80\\xcfb21\\x8b8\\x93\\xb8\\x84\\xb8\\x91\\xb8\\x8fx\\x9a\\xd8A\\xec&\\x0e\\x90H$=\\x92\\x1d\\xc9\\x87\\x14E\\xe2\\x90\\xf2I%\\xa4\\xf5\\xa4=\\xa4S\\xa4\\xab\\xa4\\x1e\\xd2\\x07%e%c%g\\xa5`\\xa5\\x14%\\xa1R\\x91R\\xb9\\xd2n\\xa5\\x93JW\\x95\\x9e*}&\\xab\\x93-\\xc8^\\xe4(2\\x8f<\\x83\\xbc\\x8c\\xbc\\x9d\\xdcH\\xbeB\\xee!\\x7f\\xa6hP\\xac(>\\x94xJ\\x16e>e\\x1d\\xa5\\x96r\\x8er\\x9f\\xf2FYY\\xd9T\\xd9S9FY\\xa0<Oy\\x9d\\xf2~\\xe5\\x0b\\xca]\\xca\\x1fU4UlUX*\\x13T$*KUv\\xaa\\x9cV\\xb9\\xa3\\xf2\\x86J\\xa5ZR\\xfd\\xa9)\\xd4|\\xeaRj5\\xf5,\\xf5!\\xf5\\x83*M\\xd5A\\x95\\xad\\xcaS\\x9d\\xabZ\\xa1Z\\xa7zU\\xf5\\xa5\\x1aY\\xcdB\\x8d\\xa96I\\xadP\\xad\\\\\\xed\\x90\\xda\\x15\\xb5>u\\xb2\\xba\\xa5:K\\x9d\\xa3>G\\xbdB\\xfd\\xa8\\xfa-\\xf5\\x01\\r\\x9a\\x86\\x93F\\x94F\\xae\\xc6\\x12\\x8d\\xdd\\x1a\\x175\\x9ei\\x924-5\\x834y\\x9a\\xc5\\x9a\\xdb4\\xcfjv\\xd30\\x9a\\x19\\x8dE\\xe3\\xd2\\x16\\xd0\\xb6\\xd3\\xce\\xd1z\\xb4\\x88ZVZl\\xad,\\xad2\\xad\\xbdZmZ\\xfd\\xda\\x9a\\xda\\xae\\xda\\x89\\xda\\xd3\\xb5+\\xb4Ohw\\xea`:\\x96:l\\x9d\\x1c\\x9de:\\x07un\\xea|\\x1aa8\\x829\\x82?b\\xf1\\x88\\xda\\x11WG\\xbc\\xd7\\x1d\\xa9\\xeb\\xaf\\xcb\\xd7-\\xd5\\xdd\\xa7{C\\xf7\\x93\\x1e]/H/[o\\x85^\\xbd\\xde\\x03}\\\\\\xdfV?F\\x7f\\x9a\\xfe&\\xfds\\xfa}#\\xb5Fz\\x8f\\xe4\\x8e,\\x1dyp\\xe4]\\x03\\xd4\\xc0\\xd6 \\xd6`\\xa6\\xc16\\x83V\\x83\\x01C#\\xc3\\x10C\\x91\\xe1z\\xc3\\xb3\\x86}F:F\\xfeFYF\\xab\\x8dN\\x1a\\xf5\\x1a\\xd3\\x8c}\\x8d\\x05\\xc6\\xab\\x8dO\\x19?\\xa7k\\xd3\\x99\\xf4\\x1c\\xfa:z3\\xbd\\xdf\\xc4\\xc0$\\xd4Db\\xb2\\xd5\\xa4\\xcd\\xe4\\xb3\\xa9\\x95i\\x82i\\x91\\xe9>\\xd3\\x07f\\x143\\x86Y\\xba\\xd9j\\xb3&\\xb3~sc\\xf3\\xb1\\xe6\\xb3\\xcck\\xcc\\xefZ\\x90-\\x18\\x16\\x99\\x16k-Z,\\xde[ZY&Y.\\xb4\\xac\\xb7|f\\xa5k\\xc5\\xb6*\\xb4\\xaa\\xb1\\xbaoM\\xb5\\xf6\\xb3\\x9ej]e}\\xdd\\x86h\\xc3\\xb0\\xc9\\xb6\\xd9h\\xd3n\\x8b\\xda\\xba\\xd9f\\xdaV\\xd8^\\xb1C\\xed\\xdc\\xed\\x04v\\x1b\\xed:F\\x11Fy\\x8e\\x12\\x8e\\xaa\\x1au\\xcb^\\xc5\\x9ei_`_c\\xdf\\xe5\\xa0\\xe3\\x10\\xe1P\\xe4P\\xef\\xf0r\\xb4\\xf9\\xe8\\x94\\xd1+F\\xb7\\x8c\\xfe\\xe6\\xe8\\xe6\\x98\\xe3\\xb8\\xdd\\xf1\\x9e\\x93\\xa6S\\x98S\\x91S\\xa3\\xd3kg[g\\xaes\\x85\\xf3u\\x17\\xaaK\\xb0\\xcb\\\\\\x97\\x06\\x97W\\xaev\\xae|\\xd7M\\xae\\xb7\\xddhnc\\xdd\\x16\\xba5\\xb9}u\\xf7p\\x17\\xbb\\xd7\\xba\\xf7z\\x98{\\xa4zTz\\xdcbh1\\xa2\\x19K\\x18\\x17<\\t\\x9e\\x01\\x9es=\\x8f{~\\xf4r\\xf7\\xca\\xf7:\\xe8\\xf5\\x97\\xb7\\xbdw\\xb6\\xf7n\\xefgc\\xac\\xc6\\xf0\\xc7l\\x1f\\xd3\\xedc\\xea\\xc3\\xf1\\xd9\\xea\\xd3\\xe9K\\xf7M\\xf5\\xdd\\xe2\\xdb\\xe9g\\xe2\\xc7\\xf1\\xab\\xf2{\\xe4o\\xe6\\xcf\\xf3\\xdf\\xe1\\xff\\x94i\\xc3\\xccb\\xeea\\xbe\\x0cp\\x0c\\x10\\x07\\x1c\\tx\\xcf\\xf2b\\xcdf\\x9d\\x0e\\xc4\\x02C\\x02K\\x03\\xdb\\x824\\x83\\x12\\x826\\x04=\\x0c6\\r\\xce\\x08\\xae\\t\\xee\\x0fq\\x0b\\x99\\x19r:\\x94\\x10\\x1a\\x1e\\xba\"\\xf4\\x16\\xdb\\x90\\xcdeW\\xb3\\xfb\\xc3<\\xc2f\\x875\\x87\\xab\\x84\\xc7\\x85o\\x08\\x7f\\x14a\\x1b!\\x8eh\\x1c\\x8b\\x8e\\r\\x1b\\xbbj\\xec\\xfdH\\x8bHad}\\x14\\x88bG\\xad\\x8az\\x10m\\x15=5\\xfaX\\x0c1&:\\xa6\"\\xe6I\\xacS\\xec\\xac\\xd8\\x968Z\\xdc\\xe4\\xb8\\xddq\\xef\\xe2\\x03\\xe2\\x97\\xc5\\xdfK\\xb0N\\x90$4%\\xaa%NH\\xacN|\\x9f\\x14\\x98\\xb42\\xa9s\\xdc\\xe8q\\xb3\\xc7]N\\xd6O\\x16$7\\xa4\\x90R\\x12Sv\\xa4\\x0c\\x8c\\x0f\\x1a\\xbff|\\xcf\\x04\\xb7\\t%\\x13nN\\xb4\\x9a8}\\xe2\\xc5I\\xfa\\x93r&\\x9d\\x98\\xac6\\x993\\xf9P*!5)uw\\xea\\x17N\\x14\\xa7\\x8a3\\x90\\xc6N\\xabL\\xeb\\xe7\\xb2\\xb8k\\xb9/x\\xfe\\xbc\\xd5\\xbc^\\xbe\\x0f\\x7f%\\xffi\\xbaO\\xfa\\xca\\xf4g\\x19>\\x19\\xab2z3\\xfd2\\xcb3\\xfb\\x04,\\xc1\\x06\\xc1\\xab\\xac\\xd0\\xac\\xcdY\\xef\\xb3\\xa3\\xb2wf\\x0f\\xe6$\\xe5\\xec\\xcbU\\xcaM\\xcd=*\\xd4\\x14f\\x0b\\x9b\\xa7\\x18M\\x99>\\xa5Cd\\'*\\x11uN\\xf5\\x9a\\xbafj\\xbf8\\\\\\xbc#\\x0f\\xc9\\x9b\\x98\\xd7\\x90\\xaf\\x05\\x7f\\xe4[%\\xd6\\x92_$]\\x05\\xbe\\x05\\x15\\x05\\x1f\\xa6%N;4]c\\xbapz\\xeb\\x0c\\xdb\\x19\\x8bg<-\\x0c.\\xfcm&>\\x93;\\xb3i\\x96\\xc9\\xac\\xf9\\xb3\\xbaf3go\\x9d\\x83\\xccI\\x9b\\xd34\\xd7ln\\xf1\\xdc\\x9ey!\\xf3v\\xcd\\xa7\\xcc\\xcf\\x9e\\xff{\\x91c\\xd1\\xca\\xa2\\xb7\\x0b\\x92\\x164\\x16\\x1b\\x16\\xcf+\\xee\\xfe%\\xe4\\x97\\x9a\\x12\\xd5\\x12q\\xc9\\xad\\x85\\xde\\x0b7/\\xc2\\x17\\t\\x16\\xb5-vY\\xbc~\\xf1\\xb7R^\\xe9\\xa52\\xc7\\xb2\\xf2\\xb2/K\\xb8K.\\xfd\\xea\\xf4\\xeb\\xba_\\x07\\x97\\xa6/m[\\xe6\\xbel\\xd3r\\xe2r\\xe1\\xf2\\x9b+\\xfcV\\xecZ\\xa9\\xb1\\xb2pe\\xf7\\xaa\\xb1\\xab\\xeaV\\xd3W\\x97\\xae~\\xbbf\\xf2\\x9a\\x8b\\xe5\\xae\\xe5\\x9b\\xd7R\\xd6J\\xd6v\\xae\\x8bX\\xd7\\xb0\\xde|\\xfd\\xf2\\xf5_6dn\\xb8Q\\x11P\\xb1\\xaf\\xd2\\xa0rq\\xe5\\xfb\\x8d\\xbc\\x8dW7\\xf9o\\xaa\\xddl\\xb8\\xb9l\\xf3\\xa7-\\x82-\\xb7\\xb7\\x86l\\xad\\xab\\xb2\\xac*\\xdfF\\xdcV\\xb0\\xed\\xc9\\xf6\\xc4\\xed-\\xbf1~\\xab\\xde\\xa1\\xbf\\xa3l\\xc7\\xd7\\x9d\\xc2\\x9d\\x9d\\xbbbw5W{TW\\xef6\\xd8\\xbd\\xac\\x06\\xad\\x91\\xd4\\xf4\\xee\\x99\\xb0\\xa7}o\\xe0\\xde\\x86Z\\xfb\\xda\\xad\\xfbt\\xf6\\x95\\xed\\x07\\xfb%\\xfb\\x9f\\x1fH=p\\xf3`\\xf8\\xc1\\xa6C\\x8cC\\xb5\\x87-\\x0eW\\x1e\\xa1\\x1d)\\xadC\\xeaf\\xd4\\xf5\\xd7g\\xd6w6$7t\\x1c\\r;\\xda\\xd4\\xe8\\xddx\\xe4\\x98\\xc3\\xb1\\x9d\\xc7M\\x8eW\\x9c\\xd0>\\xb1\\xec$\\xe5d\\xf1\\xc9\\xc1S\\x85\\xa7\\x06N\\x8bN\\xf7\\x9d\\xc98\\xd3\\xdd4\\xb9\\xe9\\xde\\xd9qg\\xaf7\\xc74\\xb7\\x9d\\x0b?w\\xe1|\\xf0\\xf9\\xb3-\\xcc\\x96S\\x17|.\\x1c\\xbf\\xe8u\\xf1\\xe8%\\xc6\\xa5\\xfa\\xcb\\xee\\x97\\xebZ\\xddZ\\x8f\\xfc\\xee\\xf6\\xfb\\x916\\xf7\\xb6\\xba+\\x1eW\\x1a\\xda=\\xdb\\x1b;\\xc6t\\x9c\\xbc\\xeaw\\xf5\\xcc\\xb5\\xc0k\\xe7\\xaf\\xb3\\xaf_\\xbe\\x11y\\xa3\\xe3f\\xc2\\xcd\\xdb\\xb7&\\xdc\\xea\\xbc\\xcd\\xbb\\xfd\\xecN\\xce\\x9dWw\\x0b\\xee~\\xbe7\\xef>\\xe1~\\xe9\\x03\\xf5\\x07\\xe5\\x0f\\r\\x1eV\\xfda\\xf3\\xc7\\xbeN\\xf7\\xce\\x13]\\x81]\\xad\\x8f\\xe2\\x1e\\xdd\\xeb\\xe6v\\xbfx\\x9c\\xf7\\xf8KO\\xf1\\x13\\xea\\x93\\xf2\\xa7\\xc6O\\xab\\x9f9?;\\xde\\x1b\\xdc\\xdb\\xfe|\\xfc\\xf3\\x9e\\x17\\xa2\\x17\\x9f\\xfbJ\\xfe\\xd4\\xf8\\xb3\\xf2\\xa5\\xf5\\xcb\\xc3\\x7f\\xf9\\xff\\xd5\\xda?\\xae\\xbf\\xe7\\x95\\xf8\\xd5\\xe0\\xeb%o\\xf4\\xde\\xec|\\xeb\\xfa\\xb6i z\\xe0\\xe1\\xbb\\xdcw\\x9f\\xdf\\x97~\\xd0\\xfb\\xb0\\xeb#\\xe3c\\xcb\\xa7\\xa4OO?O\\xfbB\\xfa\\xb2\\xee\\xab\\xcd\\xd7\\xc6o\\xe1\\xdf\\xee\\x0f\\xe6\\x0e\\x0e\\x8a8b\\x8e\\xecW\\x00\\x83\\rMO\\x07\\xe0\\xf5N\\x00\\xa8\\xc9\\x00\\xd0\\xe0\\xfe\\x8c2^\\xbe\\xff\\x93\\x19\"\\xdf\\xb3\\xca\\x10\\xf8OX\\xbeG\\x94\\x99;\\x00\\xb5\\xf0\\xff=\\xa6\\x0f\\xfe\\xdd\\xdc\\x02`\\xffv\\xb8\\xfd\\x82\\xfaj\\x13\\x00\\x88\\xa6\\x02\\x10\\xef\\tP\\x17\\x97\\xe16\\xb4W\\x93\\xed+\\xa5F\\x84\\xfb\\x80-\\xb1_\\xd3r\\xd3\\xc0\\xbf1\\xf9\\x9e\\xf3\\x87\\xbc\\x7f>\\x03\\xa9\\xaa+\\xf8\\xf9\\xfc/\\x84\\xaa|?\\xaf\\xffyD\\x00\\x00\\x00\\x8aeXIfMM\\x00*\\x00\\x00\\x00\\x08\\x00\\x04\\x01\\x1a\\x00\\x05\\x00\\x00\\x00\\x01\\x00\\x00\\x00>\\x01\\x1b\\x00\\x05\\x00\\x00\\x00\\x01\\x00\\x00\\x00F\\x01(\\x00\\x03\\x00\\x00\\x00\\x01\\x00\\x02\\x00\\x00\\x87i\\x00\\x04\\x00\\x00\\x00\\x01\\x00\\x00\\x00N\\x00\\x00\\x00\\x00\\x00\\x00\\x00\\x90\\x00\\x00\\x00\\x01\\x00\\x00\\x00\\x90\\x00\\x00\\x00\\x01\\x00\\x03\\x92\\x86\\x00\\x07\\x00\\x00\\x00\\x12\\x00\\x00\\x00x\\xa0\\x02\\x00\\x04\\x00\\x00\\x00\\x01\\x00\\x00\\x03\\x14\\xa0\\x03\\x00\\x04\\x00\\x00\\x00\\x01\\x00\\x00\\x01P\\x00\\x00\\x00\\x00ASCII\\x00\\x00\\x00Screenshot\\xfbsN\\xfe\\x00\\x00\\x00\\tpHYs\\x00\\x00\\x16%\\x00\\x00\\x16%\\x01IR$\\xf0\\x00\\x00\\x01\\xd6iTXtXML:com.adobe.xmp\\x00\\x00\\x00\\x00\\x00<x:xmpmeta xmlns:x=\"adobe:ns:meta/\" x:xmptk=\"XMP Core 6.0.0\">\\n   <rdf:RDF xmlns:rdf=\"http://www.w3.org/1999/02/22-rdf-syntax-ns#\">\\n      <rdf:Description rdf:about=\"\"\\n            xmlns:exif=\"http://ns.adobe.com/exif/1.0/\">\\n         <exif:PixelYDimension>336</exif:PixelYDimension>\\n         <exif:PixelXDimension>788</exif:PixelXDimension>\\n         <exif:UserComment>Screenshot</exif:UserComment>\\n      </rdf:Description>\\n   </rdf:RDF>\\n</x:xmpmeta>\\n\\x02\\x10\\x95U\\x00\\x00\\x00\\x1ciDOT\\x00\\x00\\x00\\x02\\x00\\x00\\x00\\x00\\x00\\x00\\x00\\xa8\\x00\\x00\\x00(\\x00\\x00\\x00\\xa8\\x00\\x00\\x00\\xa8\\x00\\x00\\'\\x96\\x95\\xb0q.\\x00\\x00\\'bIDATx\\x01\\xec\\xdd\\x07\\x98$E\\x19\\x80\\xe1\\xe2L\\x1c\\xa7\\x98N\\x14Lw\\x88\\xe1T\\xccbN\\x181c\\xc2\\x0c\\xe6\\x1cA\\x14\\x13\\x98E1\\x8b\\x11\\xb3\\x829r\\x06DL\\x18\\xce\\x8cY1`D\\xf1@\\x05\\xe1\\x0c\\'\\xc8W\\xfa\\x8f\\xb5u3\\xb3\\xb3\\xb5={\\xbb\\xdb_=\\xcf\\xdd\\xa4\\xee\\x9e\\xeewzg\\xea\\xaf\\xfa\\xabz\\x9b\\xb5k\\xd7\\x9e\\x95,\\n(\\xa0\\x80\\x02\\n(\\xa0\\x80\\x02\\n(\\xa0@\\x83\\xc06\\x06\\x14\\rj\\xae\\xa2\\x80\\x02\\n(\\xa0\\x80\\x02\\n(\\xa0\\x80\\x02Y\\xc0\\x80\\xc2\\x13A\\x01\\x05\\x14P@\\x01\\x05\\x14P@\\x01\\x05\\x9a\\x05\\x0c(\\x9a\\xe9\\\\Q\\x01\\x05\\x14P@\\x01\\x05\\x14P@\\x01\\x05\\x0c(<\\x07\\x14P@\\x01\\x05\\x14P@\\x01\\x05\\x14P\\xa0Y\\xc0\\x80\\xa2\\x99\\xce\\x15\\x15P@\\x01\\x05\\x14P@\\x01\\x05\\x14P\\xc0\\x80\\xc2s@\\x01\\x05\\x14P@\\x01\\x05\\x14P@\\x01\\x05\\x9a\\x05\\x0c(\\x9a\\xe9\\\\Q\\x01\\x05\\x14P@\\x01\\x05\\x14P@\\x01\\x05\\x0c(<\\x07\\x14P@\\x01\\x05\\x14P@\\x01\\x05\\x14P\\xa0Y\\xc0\\x80\\xa2\\x99\\xce\\x15\\x15P@\\x01\\x05\\x14P@\\x01\\x05\\x14P\\xc0\\x80\\xc2s@\\x01\\x05\\x14P@\\x01\\x05\\x14P@\\x01\\x05\\x9a\\x05\\x0c(\\x9a\\xe9\\\\Q\\x01\\x05\\x14P@\\x01\\x05\\x14P@\\x01\\x05\\x0c(<\\x07\\x14P@\\x01\\x05\\x14P@\\x01\\x05\\x14P\\xa0Y\\xc0\\x80\\xa2\\x99\\xce\\x15\\x15P@\\x01\\x05\\x14P@\\x01\\x05\\x14P\\xc0\\x80\\xc2s@\\x01\\x05\\x14P@\\x01\\x05\\x14P@\\x01\\x05\\x9a\\x05\\x0c(\\x9a\\xe9\\\\Q\\x01\\x05\\x14P@\\x01\\x05\\x14P@\\x01\\x05\\x0c(<\\x07\\x14P@\\x01\\x05\\x14P@\\x01\\x05\\x14P\\xa0Y\\xc0\\x80\\xa2\\x99\\xce\\x15\\x15P@\\x01\\x05\\x14P@\\x01\\x05\\x14P\\xc0\\x80\\xc2s@\\x01\\x05\\x14P@\\x01\\x05\\x14P@\\x01\\x05\\x9a\\x05\\x0c(\\x9a\\xe9\\\\Q\\x01\\x05\\x14P@\\x01\\x05\\x14P@\\x01\\x05\\x0c(<\\x07\\x14P@\\x01\\x05\\x14P@\\x01\\x05\\x14P\\xa0Y\\xc0\\x80\\xa2\\x99\\xce\\x15\\x15P@\\x01\\x05\\x14P@\\x01\\x05\\x14P\\xc0\\x80\\xc2s@\\x01\\x05\\x14P@\\x01\\x05\\x14P@\\x01\\x05\\x9a\\x05\\x0c(\\x9a\\xe9\\\\Q\\x01\\x05\\x14P@\\x01\\x05\\x14P@\\x01\\x05\\x0c(<\\x07\\x14P@\\x01\\x05\\x14P@\\x01\\x05\\x14P\\xa0Y\\xc0\\x80\\xa2\\x99\\xce\\x15\\x15P@\\x01\\x05\\x14P@\\x01\\x05\\x14P\\xc0\\x80\\xc2s@\\x01\\x05\\x14P@\\x01\\x05\\x14P@\\x01\\x05\\x9a\\x05\\x0c(\\x9a\\xe9\\\\Q\\x01\\x05\\x14P@\\x01\\x05\\x14P@\\x01\\x05\\x0c(<\\x07\\x14P@\\x01\\x05\\x14P@\\x01\\x05\\x14P\\xa0Y\\xc0\\x80\\xa2\\x99\\xce\\x15\\x15P@\\x01\\x05\\x14P@\\x01\\x05\\x14P\\xc0\\x80\\xc2s@\\x01\\x05\\x14P@\\x01\\x05\\x14P@\\x01\\x05\\x9a\\x05\\x0c(\\x9a\\xe9\\\\Q\\x01\\x05\\x14P@\\x01\\x05\\x14P@\\x01\\x05\\x0c(<\\x07\\x14P@\\x01\\x05\\x14P@\\x01\\x05\\x14P\\xa0Y\\xc0\\x80\\xa2\\x99\\xce\\x15\\x15P@\\x01\\x05\\x14P@\\x01\\x05\\x14P\\xc0\\x80\\xc2s@\\x01\\x05\\x14P@\\x01\\x05\\x14P@\\x01\\x05\\x9a\\x05\\x0c(\\x9a\\xe9\\\\Q\\x01\\x05\\x14P@\\x01\\x05\\x14P@\\x01\\x05\\x0c(<\\x07\\x14P@\\x01\\x05\\x14P@\\x01\\x05\\x14P\\xa0Y\\xc0\\x80\\xa2\\x99\\xce\\x15\\x15P@\\x01\\x05\\x14P@\\x01\\x05\\x14P\\xc0\\x80\\xc2s@\\x01\\x05\\x14P@\\x01\\x05\\x14P@\\x01\\x05\\x9a\\x05\\x0c(\\x9a\\xe9\\\\Q\\x01\\x05\\x14P@\\x01\\x05\\x14P@\\x01\\x05\\x0c(<\\x07\\x14P@\\x01\\x05\\x14P@\\x01\\x05\\x14P\\xa0Y\\xc0\\x80\\xa2\\x99\\xce\\x15\\x15P@\\x01\\x05\\x14P@\\x01\\x05\\x14P\\xc0\\x80\\xc2s@\\x01\\x05\\x14P@\\x01\\x05\\x14P@\\x01\\x05\\x9a\\x05\\x0c(\\x9a\\xe9\\\\Q\\x01\\x05\\x14P@\\x01\\x05\\x14P@\\x01\\x05\\x0c(<\\x07\\x14P@\\x01\\x05\\x14P@\\x01\\x05\\x14P\\xa0Y\\xc0\\x80\\xa2\\x99\\xce\\x15\\x15P@\\x01\\x05\\x14P@\\x01\\x05\\x14P\\xc0\\x80\\xc2s@\\x01\\x05\\x14P@\\x01\\x05\\x14P@\\x01\\x05\\x9a\\x05\\x0c(\\x9a\\xe9\\\\Q\\x01\\x05\\x14P@\\x01\\x05\\x14P@\\x01\\x05\\x0c(<\\x07\\x14P@\\x01\\x05\\x14P@\\x01\\x05\\x14P\\xa0Y\\xc0\\x80\\xa2\\x99\\xce\\x15\\x15P@\\x01\\x05\\x14P@\\x01\\x05\\x14P\\xc0\\x80\\xc2s@\\x01\\x05\\x14P@\\x01\\x05\\x14P@\\x01\\x05\\x9a\\x05\\x0c(\\x9a\\xe9\\\\Q\\x01\\x05\\x14P@\\x01\\x05\\x14P@\\x01\\x05\\x0c(<\\x07\\x14P@\\x01\\x05\\x14P@\\x01\\x05\\x14P\\xa0Y\\xc0\\x80\\xa2\\x99\\xce\\x15\\x15P@\\x01\\x05\\x14P@\\x01\\x05\\x14P\\xc0\\x80\\xc2s@\\x01\\x05\\x14P@\\x01\\x05\\x14P@\\x01\\x05\\x9a\\x05\\x0c(\\x9a\\xe9\\\\Q\\x01\\x05\\x14P@\\x01\\x05\\x14P@\\x01\\x05\\x0c(<\\x07\\x14P@\\x01\\x05\\x14P@\\x01\\x05\\x14P\\xa0Y\\xc0\\x80\\xa2\\x99\\xce\\x15\\x15P@\\x01\\x05\\x14P@\\x01\\x05\\x14P\\xc0\\x80\\xc2s@\\x01\\x05\\x14P@\\x01\\x05\\x14P@\\x01\\x05\\x9a\\x05\\x0c(\\x9a\\xe9\\\\Q\\x01\\x05\\x14P@\\x01\\x05\\x14P@\\x01\\x05\\x0c(<\\x07\\x14P@\\x01\\x05\\x14P@\\x01\\x05\\x14P\\xa0Y\\xc0\\x80\\xa2\\x99\\xce\\x15\\x15P@\\x01\\x05\\x14P@\\x01\\x05\\x14P\\xc0\\x80\\xc2s@\\x01\\x05\\x14P@\\x01\\x05\\x14P@\\x01\\x05\\x9a\\x05\\x0c(\\x9a\\xe9\\\\Q\\x01\\x05\\x14P@\\x01\\x05\\x14P@\\x01\\x05\\x0c(<\\x07\\x14P@\\x01\\x05\\x14P@\\x01\\x05\\x14P\\xa0Y\\xc0\\x80\\xa2\\x99\\xce\\x15\\x15P@\\x01\\x05\\x14P@\\x01\\x05\\x14P\\xc0\\x80\\xc2s@\\x01\\x05\\x14P@\\x01\\x05\\x14P@\\x01\\x05\\x9a\\x05\\x0c(\\x9a\\xe9\\\\Q\\x01\\x05\\x14P@\\x01\\x05\\x14P@\\x01\\x05\\x0c(<\\x07\\x14P@\\x01\\x05\\x14P@\\x01\\x05\\x14P\\xa0Y\\xc0\\x80\\xa2\\x99\\xce\\x15\\x15P@\\x01\\x05\\x14P@\\x01\\x05\\x14P\\xc0\\x80\\xc2s@\\x01\\x05\\x14P@\\x01\\x05\\x14P@\\x01\\x05\\x9a\\x05\\x0c(\\x9a\\xe9\\\\Q\\x01\\x05\\x14P@\\x01\\x05\\x14P@\\x01\\x05\\x0c(<\\x07\\x14P@\\x01\\x05\\x14P@\\x01\\x05\\x14P\\xa0Y\\xc0\\x80\\xa2\\x99\\xce\\x15\\x15P@\\x01\\x05\\x14P@\\x01\\x05\\x14P\\xc0\\x80\\xc2s@\\x01\\x05\\x14P@\\x01\\x05\\x14P@\\x01\\x05\\x9a\\x05\\x0c(\\x9a\\xe9\\\\Q\\x01\\x05\\x14P@\\x01\\x05\\x14P@\\x01\\x05\\x0c(<\\x07\\x14P@\\x01\\x05\\x14P@\\x01\\x05\\x14P\\xa0Y\\xc0\\x80\\xa2\\x99\\xce\\x15\\x15P@\\x01\\x05\\x14P@\\x01\\x05\\x14P\\xc0\\x80\\xc2s@\\x01\\x05\\x14P@\\x01\\x05\\x14P@\\x01\\x05\\x9a\\x05\\x0c(\\x9a\\xe9\\\\Q\\x01\\x05\\x14P@\\x01\\x05\\x14P@\\x01\\x05\\x0c(<\\x07\\x14P@\\x01\\x05\\x14P@\\x01\\x05\\x14P\\xa0Y\\xc0\\x80\\xa2\\x99\\xce\\x15\\x15P@\\x01\\x05\\x14P@\\x01\\x05\\x14P\\xc0\\x80\\xc2s@\\x01\\x05\\x14P@\\x01\\x05\\x14P@\\x01\\x05\\x9a\\x05\\x0c(\\x9a\\xe9\\\\Q\\x01\\x05\\x14P@\\x01\\x05\\x14P@\\x01\\x05\\x0c(<\\x07\\x14P@\\x01\\x05\\x14P@\\x01\\x05\\x14P\\xa0Y\\xc0\\x80\\xa2\\x99\\xce\\x15\\x15P@\\x01\\x05\\x14P@\\x01\\x05\\x14P\\xc0\\x80\\xc2s@\\x01\\x05\\x14P@\\x01\\x05\\x14P@\\x01\\x05\\x9a\\x05\\x0c(\\x9a\\xe9\\\\Q\\x01\\x05\\x14P@\\x01\\x05\\x14P@\\x01\\x05\\x0c(<\\x07\\x14P@\\x01\\x05\\x14P@\\x01\\x05\\x14P\\xa0Y\\xc0\\x80\\xa2\\x99\\xce\\x15\\x15P@\\x01\\x05\\x14P@\\x01\\x05\\x14P\\xc0\\x80\\xc2s@\\x01\\x05\\x14P@\\x01\\x05\\x14P@\\x01\\x05\\x9a\\x05\\x0c(\\x9a\\xe9\\\\Q\\x01\\x05\\x14P@\\x01\\x05\\x14P@\\x01\\x05\\x0c(<\\x07\\x14P@\\x01\\x05\\x14P@\\x01\\x05\\x14P\\xa0Y\\xc0\\x80\\xa2\\x99\\xce\\x15\\x15P@\\x01\\x05\\x14P@\\x01\\x05\\x14P\\xc0\\x80\\xc2s@\\x01\\x05\\x14P@\\x01\\x05\\x14P@\\x01\\x05\\x9a\\x05\\x0c(\\x9a\\xe9\\\\Q\\x01\\x05\\x14P@\\x01\\x05\\x14P@\\x01\\x05\\x0c(<\\x07\\x14P@\\x01\\x05\\x14P@\\x01\\x05\\x14P\\xa0Y\\xc0\\x80\\xa2\\x99\\xce\\x15\\x15P@\\x01\\x05\\x14P@\\x01\\x05\\x14P\\xc0\\x80\\xc2s@\\x01\\x05\\x14P@\\x01\\x05\\x14P@\\x01\\x05\\x9a\\x05\\x0c(\\x9a\\xe9\\\\Q\\x01\\x05\\x14P@\\x01\\x05\\x14P@\\x01\\x05\\x0c(<\\x07\\x14P@\\x01\\x05\\x14P@\\x01\\x05\\x14P\\xa0Y\\xc0\\x80\\xa2\\x99\\xce\\x15\\x97\\xba\\xc0v\\xdbm\\x97V\\xae\\\\\\x99\\xb6\\xddv\\xdbt\\x8es\\x9c#\\xadX\\xb1b\\x8bC\\xdaf\\x9bm\\xd2Yg\\x9d\\x95\\x9f\\xe7\\xb6|\\xcc\\x93<W?\\x1f\\xcb\\xb3\\xcdQ\\x85\\xed\\xd4%\\xd6\\x8b\\xe7\\x87-\\x13\\xaf\\r\\xbb\\xad\\x97\\xaf\\xb77l\\x9d\\xb9<w\\xe6\\x99g\\xa6\\x7f\\xff\\xfb\\xdf\\xe9\\xef\\x7f\\xff{\\xda\\xb4iS:\\xe3\\x8c3\\xe6\\xb2\\xba\\xcb*\\xa0\\x80\\x02\\n(\\xa0\\xc02\\x150\\xa0X\\xa6\\x1f\\xac\\x875Z\\x80\\x8a\\xfe\\xf9\\xcf\\x7f\\xfe\\xb4\\xfd\\xf6\\xdb\\xe7\\x00a\\xf4\\x92\\xbe2J\\x80`\\xe5\\xd4SOM\\x7f\\xfd\\xeb_s\\x901j9\\x9fW@\\x01\\x05\\x14P@\\x81\\xe5/`@\\xb1\\xfc?c\\x8f\\xb0\\x108\\xe79\\xcf\\x99.t\\xa1\\x0b\\xa5U\\xabV\\x15\\xcfz\\xb7U\\xe0\\xf4\\xd3OO\\xa7\\x9crJ\\xda\\xbcys\\xeb&\\\\O\\x01\\x05\\x14P@\\x01\\x05\\x96\\xb8\\x80\\x01\\xc5\\x12\\xff\\x00\\xdd\\xfd\\xb9\\t\\\\\\xf8\\xc2\\x17\\xce=\\x13s[\\xcb\\xa5\\xc7\\t\\xd0Sq\\xf2\\xc9\\'\\x8f[\\xc4\\xd7\\x14P@\\x01\\x05\\x14P`\\x19\\x0b\\x18P,\\xe3\\x0f\\xd7C\\x9b)\\xc0\\x98\\x89\\xd5\\xabW\\xe7\\xf1\\x123_\\xf1\\xd1|\\x04\\x18W\\xb1q\\xe3F\\xc7T\\xcc\\x07\\xd1u\\x15P@\\x01\\x05\\x14X\\xc2\\x02\\x06\\x14K\\xf8\\xc3s\\xd7\\xe7&@\\xaa\\x13c\\',\\xdd\\x0b0\\x96\\x82\\xd4\\'\\x8b\\x02\\n(\\xa0\\x80\\x02\\n\\xf4O\\xc0\\x80\\xa2\\x7f\\x9fyo\\x8fx\\xc7\\x1dw\\xcc3:\\xf5\\x16`\\x8a\\x07\\xce\\xccO\\'\\x9ex\\xe2\\x14\\xdf\\xc1M+\\xa0\\x80\\x02\\n(\\xa0\\xc0b\\x150\\xa0X\\xac\\x9f\\x8c\\xfb\\xd5\\xb9\\xc0\\xda\\xb5k;\\xdf\\xa6\\x1b\\xfc\\xbf\\xc0/\\x7f\\xf9\\xcb\\xff?\\xf0\\x9e\\x02\\n(\\xa0\\x80\\x02\\n\\xf4F\\xc0\\x80\\xa27\\x1f\\xf5\\xec\\x07z\\xa5+])]\\xefz\\xd7K\\xeb\\xd7\\xaf_\\x96\\xad\\xcd\\x06\\x14\\xb3\\x9f\\x03\\xf3Y\\xc2\\x80b>z\\xae\\xab\\x80\\x02\\n(\\xa0\\xc0\\xd2\\x15\\xe8u@\\xc1\\xf5\\x08^\\xf7\\xba\\xd7\\r>=\\xa6\\xc0|\\xfc\\xe3\\x1f?x\\xdc\\xa7;\\xf7\\xbe\\xf7\\xbd\\xd3s\\x9f\\xfb\\xdc|\\xc8\\x0c\\xb2\\xdds\\xcf=\\xd3\\xf7\\xbf\\xff\\xfd%K\\xc0E\\xde\\x1e\\xfd\\xe8G\\xe7\\x0b\\xd7}\\xecc\\x1fK?\\xfa\\xd1\\x8f\\x92\\x01\\xc5t?N\\x02\\n\\xc6\\xa8<\\xeca\\x0f\\xcbot\\xd8a\\x879\\xaebB\\xf2K]\\xeaR\\xe9\\x9e\\xf7\\xbcg^\\xfa\\xf3\\x9f\\xff|\\xda\\xb0a\\xc3\\x84k\\xba\\x98\\x02\\n(\\xa0\\x80\\x02[_\\xa0\\xd7\\x01\\x05\\xd7$\\xf8\\xe9O\\x7f:\\xf8\\x14\\xfe\\xf2\\x97\\xbf\\xa4k\\\\\\xe3\\x1a\\x83\\xc7}\\xbaC\\xaf\\xc4\\xbau\\xeb\\x06\\x87|\\xf8\\xe1\\x87\\xa7\\xa7?\\xfd\\xe9\\x83\\xc7K\\xed\\xce\\xdd\\xef~\\xf7t\\xf0\\xc1\\x07\\xa7\\xdf\\xfe\\xf6\\xb7\\xe9\\x96\\xb7\\xbce\\xfa\\xc7?\\xfea@1\\xe5\\x0f1z(\\x08\\xd2ou\\xab[\\xa5w\\xbf\\xfb\\xdd\\xe9\\xa9O}\\xea\\x94\\xdfuyl\\xfe\\xba\\xd7\\xbdn\\xe2o\\x8e\\xf2\\xa2\\x17\\xbdhFC\\xc7\\xf28B\\x8fB\\x01\\x05\\x14P`9\\x0b\\x18P\\x18P\\xe4\\xf3\\xfb%/yI\\xee\\x95\\x88\\x93\\xfd\\xc0\\x03\\x0fL\\xefx\\xc7;\\xe2\\xe1\\xe0\\x96\\x94(\\x02\\xb1(_\\xfe\\xf2\\x97\\x17\\xdd\\x95\\x92\\xcfw\\xbe\\xf3\\xa5c\\x8e9&q\\xcd\\x89G>\\xf2\\x91\\xe9\\x93\\x9f\\xfcd\\xde]{(\\xe2S\\x9b\\xcem\\x04\\x14\\xb4\\xb6\\x1fu\\xd4Q\\xf9<\\xb9\\xf3\\x9d\\xef\\xbc\\xa4{\\xba\\xa6#\\xb5\\xe5V\\r(\\xb64\\xf1\\x19\\x05\\x14P@\\x81\\xa5#`@a@\\x91\\xcf\\xd65k\\xd6\\xa4g<\\xe3\\x19\\xe9:\\xd7\\xb9N\\xfa\\xf8\\xc7?\\x9e\\x9e\\xf5\\xacg%R\\xc0\\xea\\xf2\\xdd\\xef~7\\x9d\\xf7\\xbc\\xe7\\x1d<}\\xf5\\xab_=1e\\xe8b*\\xf4\\xac<\\xf0\\x81\\x0fL?\\xf9\\xc9O\\xd2\\x1e{\\xec1\\xd8\\xb5K_\\xfa\\xd2i\\xc5\\x8a\\x15\\x83\\xc7\\xde\\xe9V \\x02\\n\\xb6\\xfa\\x82\\x17\\xbc \\xed\\xb5\\xd7^\\xe9[\\xdf\\xfaV\\xa2\\xb7\\xe8\\xac\\xb3\\xce\\xea\\xf6\\xcd\\x96\\xd9\\xd6\\x0c(\\x96\\xd9\\x07\\xea\\xe1(\\xa0\\x80\\x02=\\x130\\xa00\\xa0\\x98q\\xca3\\xae\\x841\\x14\\xa3\\xcab\\x0f(.s\\x99\\xcb\\xe4\\x1e\\t\\x8e\\xe3\\xc5/~qz\\xedk_;8\\x94\\xf9\\x06\\x14\\x8f}\\xecc\\xd3%.q\\x89\\xbc\\xbd\\xe7=\\xefy\\x8b.\\x90\\x1a\\x1c\\xe8\\x84w\\xba>\\x9e2\\xa0\\xa0\\'\\xeb]\\xefzW\\xde\\x93\\'<\\xe1\\t\\xe9#\\x1f\\xf9\\xc8\\x84{\\xd5\\xcf\\xc5\\x0c(\\xfa\\xf9\\xb9{\\xd4\\n(\\xa0\\xc0r\\x110\\xa00\\xa0\\x98\\xd3\\xb9\\xbc\\xd8\\x03\\x8a\\xfd\\xf6\\xdb/\\xa79qP7\\xbe\\xf1\\x8d\\xf3\\x18\\x8a8@Rq\\x084Z\\x0bc\\x03.{\\xd9\\xcb\\xe6\\xd5\\x19@\\xfb\\xa7?\\xfd\\xa9uS\\x8bb\\xbd\\xae\\x8f\\xa7\\x0c(\\xe8\\t\\xfa\\xd2\\x97\\xbe\\x94.z\\xd1\\x8b\\xa6\\xaf|\\xe5+\\xe9>\\xf7\\xb9\\xcf\\xa28\\xe6\\xc5\\xba\\x13\\x06\\x14\\x8b\\xf5\\x93q\\xbf\\x14P@\\x01\\x05&\\x11\\x98\\x11PP\\t\\xb8\\xc0\\x05.0X\\x8f\\x96\\xea2\\x9d\\x85\\xca\\x01).\\xa4\\xc2\\x8c\\xcb\\x9d\\xbf\\xdc\\xe5.\\x97.y\\xc9K\\xa6\\x8b\\\\\\xe4\"\\xe9\\xe4\\x93O\\xce\\x95\\xba\\x1f\\xff\\xf8\\xc7sJ{`\\x96\\x9e\\x8b_\\xfc\\xe2\\xb9\\x02\\xc7\\x15\\x8e\\x8f?\\xfe\\xf8<\\x80\\x9a\\x0bh\\xcd\\xa5\\\\\\xf0\\x82\\x17\\xcc\\x83qw\\xd8a\\x87\\xbc\\x1f?\\xff\\xf9\\xcf\\xd3\\xa6M\\x9b\\xf2&\\xe63(\\x9bc\\x8c\\xd9l\\xd8\\xd8[\\xde\\xf2\\x96\\xb1\\xb9\\xe2+W\\xae\\xcc3\\x0e\\xc5\\xbe\\xb3\\x0f\\xb1\\x1f\\xf1\\x1c\\xb7Tx\\xcb\\xab9s\\xbcg\\x9cqF\\xb9H\\xbe\\x8f\\x0f\\xc7\\x16\\xa5\\xfc\\xacZ>\\xc7\\xed\\xb6\\xdbn\\xc6E\\xdf\\xfe\\xf6\\xb7\\xbf\\xa5\\x7f\\xfe\\xf3\\x9fy\\xf3\\xe5k\\xcc@\\xb3j\\xd5\\xaax\\xdb\\xb4\\xfb\\xee\\xbb\\xa7SO=5?fy\\xd6\\x1bU\\xba8/Fm;\\x9e\\xff\\xc4\\'>\\x91.\\x7f\\xf9\\xcb\\xa7o\\x7f\\xfb\\xdb\\xe9\\xaew\\xbdk<\\x9do9\\'\\xcb\\xf1\\x1f3^\\x9c\\xe0A\\xd7\\x15\\xf0\\t\\xder\\xaa\\x8bt}<e@\\xc1\\x8eG\\xea\\xd9\\xe6\\xcd\\x9b\\xd35\\xafy\\xcdt\\xdai\\xa7u~<\\xe7>\\xf7\\xb9\\xd3y\\xces\\x9eY\\xb7\\xcd9\\xcc\\xdfV\\xeb>\\xf0\\x1e\\xfc\\xbd\\xf1}\\xf6\\xaf\\x7f\\xfd\\xab\\xf98\\xf8\\x1e`_\\xd8NYZ\\x02\\n\\xfe\\xceW\\xaf^\\x9d\\xff\\xe6\\x86}G\\x94\\xdb\\x1fu\\x9fm\\xf0\\xfd\\xca\\xfe\\x98\\x966J\\xc9\\xe7\\x15P@\\x01\\x05f\\x13\\x98\\x11P\\xd0\\x82\\xfb\\xb9\\xcf}n\\xb0\\x0eSm\\xde\\xeev\\xb7Kw\\xba\\xd3\\x9d\\xd2\\xa3\\x1e\\xf5\\xa8\\xb4\\xcb.\\xbb\\x0c^\\xbb\\xda\\xd5\\xae6\\xa8H\\xf2$\\x15\\\\r\\xa6\\xc9]/\\x97\\x8b\\x15~\\xf5\\xab_\\xa5\\xb7\\xbd\\xedm\\xe9\\xedo\\x7f{:\\xf3\\xcc3\\xe3\\xe9-n\\xf9\\x81<\\xe8\\xa0\\x83\\xd2Moz\\xd3\\xfc\\xc3[.@\\xa5\\xf9\\x84\\x13NH\\xafy\\xcdk\\xd2\\x87>\\xf4\\xa1\\xf2\\xa5-\\xee\\xef\\xb4\\xd3N\\x89T\\x0b\\xf6\\xbd\\xacDR\\x19\\xa0\\xf2\\xff\\xeaW\\xbf:QYo\\x9d\\xe5\\xe9\\x867\\xbca>\\x96x\\xe3\\x87?\\xfc\\xe1y j<\\xaeo\\xefx\\xc7;\\xa6\\x97\\xbf\\xfc\\xe5\\x83\\xa7I\\x07a\\xccB]\\xf0~\\xd5\\xab^5x\\x9a\\n\\xfc\\x03\\x1e\\xf0\\x80\\xc1\\xe3\\xb8s\\xe5+_9}\\xf4\\xa3\\x1f\\x8d\\x87\\xf9\\xbd\\xd9\\x07J\\xcb\\xe7\\xc8\\x94\\xb1L\\x1d\\x1b\\x85\\xe9sc\\xfb\\xf5k\\xb1L}\\xcb\\xd8\\x0b\\xa6j-KW\\xe7E\\xb9\\xcdQ\\xf7\\t@\\xbf\\xf8\\xc5/\\xe6\\x97\\xa9,3[NY\\x96K@A%0\\xc6\\xb1p\\x0eG\\xe0W\\x1e\\xeb$\\xf7\\xa7\\x1dP0\\xd3\\x13\\xefA!\\xbd\\xea\\xc8#\\x8f\\x9cd\\xb7\\xb6X\\x86\\xde\\xa0\\x07?\\xf8\\xc1\\xf9\\xf9}\\xf7\\xdd7\\xd1K\\xb6\\xcf>\\xfb\\xa4\\x9b\\xdd\\xecf\\xe9Z\\xd7\\xbaV\\x0e\\x84\\x99\\xcd\\xeb\\xfd\\xef\\x7f\\x7f\\xfen \\x80\\xa1Pq\\xe7o\\x82\\xef\\x80HU\\xa3A\\x81`\\xf3\\xd0C\\x0fM\\xbf\\xfe\\xf5\\xaf\\xf3r\\xa3\\xfe\\xa37\\xea\\xbe\\xf7\\xbdo\\xba\\xcdmn\\x93\\x1bGX\\x8eJ\\xf7\\x1f\\xff\\xf8\\xc7\\xc4T\\xc4\\xfc\\r\\xcf\\xb6\\r\\xd6\\xa1\\xc2\\xce\\xf7\"\\x01.\\x8d2\\x14\\x1aj\\xbe\\xf1\\x8do$&C\\xa0\\xb1e\\xd2\\x80\\x82\\xef2\\xbeK\\xf6\\xde{\\xef\\x1c8\\x13PQ\\xfe\\xfc\\xe7?\\xe7T\\xbf7\\xbf\\xf9\\xcd\\x89c\\x1cWh\\xb0x\\xc4#\\x1e\\x91\\xf8\\x0e\\xe7\\xda34\\x10\\xd0H\\xc4~|\\xf3\\x9b\\xdfL\\xaf|\\xe5+\\x876b\\x8c\\xdb\\xa6\\xaf)\\xa0\\x80\\x02\\n\\xf4[`\\xd6\\x80\\x82\\x14\\x12*\\xef\\xf1\\xc3\\x15\\\\e@\\xb1\\xed\\xb6\\xdb\\xe6|u*\\xc3\\xb3\\x15\\x02\\x16*\\x17\\xc3Z\\xb2\\xf9\\xe1&7\\xbdly\\x1f\\xb5=*\\x04/}\\xe9K\\x87\\xb6\\xaaQ\\x11 p\\x89\\x1f\\xefa\\xdb X\"\\x00\\xa2r\\x12e.\\xd3\\xc6\\xce5\\xa0`\\xc6\\xa1\\xaf}\\xedk9\\xf0\\xe2\\xfd~\\xf8\\xc3\\x1f\\xa6\\xdb\\xdf\\xfe\\xf6\\xf1\\xd6\\x83\\xdb\\xe7<\\xe793\\xd2Chy\\xc4:*I\\xb1 \\x15\\x9dg?\\xfb\\xd9\\xf10\\x07\\'\\x91\\xb3>,\\xa0\\x98\\xeds\\xac\\x83\\x86.\\x02\\x8a\\xae\\xce\\x8b\\xc1A\\xcer\\xe7\\xfe\\xf7\\xbf\\x7f\\x0eFY\\x8c\\x00\\x98\\xde\\x8a\\xb2,\\xd6\\x80\\x82\\n\\x1d\\x010\\x15\\xbdSN9%\\x07\\xcd\\xe3\\x82n>_\\x82b\\xca\\x1b\\xde\\xf0\\x86\\xf4\\x9e\\xf7\\xbc\\xa7<\\xcc\\x89\\xefO;\\xa0\\xb8\\xd8\\xc5.\\x96{2\\xd9!\\xc6P\\x10\\xe0\\xb7\\x14\\x82\\x82\\xfd\\xf7\\xdf?\\xafJ\\xd0\\xcb\\xc4\\x01\\x8f{\\xdc\\xe3\\x86n\\x8aJ\\xfa\\xbd\\xeeu\\xaf\\xdcr\\xff\\x81\\x0f| \\xbb\\x0e[\\xf0w\\xbf\\xfb]\\xfe\\xfb\\xff\\xfd\\xef\\x7f?\\xec\\xe5\\x1cH0\\xd3\\xd9\\xb8\\x149\\x82\\xb9\\'?\\xf9\\xc99\\xb8\\x18\\xba\\x91\\xb3\\x9f\\xbc\\xc2\\x15\\xae\\x90\\x1bR\\xe8\\xad\\x1dV\\xf8\\x9c\\xf9\\xdb\\xa32?\\xdb\\xb4\\xb1|/\\xbe\\xf1\\x8do\\x1c;\\xb55\\xdf\\x13\\xec\\xd3\\xa8\\x06\\x17\\x02\\x08\\x1ad\\xf8[\\x18Uh\\xfc\\xe1\\xb3\\xfa\\xcew\\xbe3j\\x11\\x9fW@\\x01\\x05\\x14P`\\x86\\xc0\\xd8\\x80\\xe2\\xa4\\x93N\\xca-Wk\\xd7\\xae\\x9d\\xb1\\x12\\x0f\\xca\\x80\\x82\\x8a=\\xd3C\\x96\\x854\\x98\\xe3\\x8e;.\\xff\\xa0\\xd6?\\xa6L\\xe3\\xc9t\\x9ee!%\\x89\\xd6\\xe5s\\x9d\\xeb\\\\\\x83\\xa7\\xf9\\xb1\\xa5\\xb5\\x8d\\x9e\\t~\\x98\\xebB\\xeb\\x1e\\x81EYHM\\xf8\\xd4\\xa7>\\x95[\\xe9\\xcb\\xe7\\xb9O\\xeb\"-\\xe6Q\\xd8\\x0f\\x82\\x98(\\xd3\\x0c(x\\x0fZh\\xafx\\xc5+\\xe6\\xb7\\xe3\\x98\\xaez\\xd5\\xabn\\xd1\\x12x\\xf4\\xd1G\\xa7\\x9dw\\xde9v)\\xdf\\xde\\xednw\\xcb\\xb3\\xe5\\x94O\\xd6\\xd3\\xbc\\xd2ZKE\\x80R\\x07\\x14\\x93|\\x8e\\xe3\\x02\\x8ag>\\xf3\\x99\\xb9\\xf2\\xc5\\xb6I\\xd9(\\x0b\\x95\\xaaH\\x95\\xc0\\xfd\\x89O|\\xe2\\xe0\\xe5.\\xce\\x8b\\xc1\\xc6&\\xb8\\xf3\\xa67\\xbd)\\xb7Z\\xb3h=~\\x82\\xe7p\\x19WAd\\x99qe\\xae\\x15pZ\\xcf\\x0f8\\xe0\\x80-6I\\xba \\x9f\\x1f\\xe9\\x85\\x0fy\\xc8C\\xf25\\x1b\\xe8u\\x88r\\xc8!\\x87l\\x11\\x0c\\xc5k\\xdc.\\x95\\x80\\x82}%\\x88\\xa6\\xd7\\x91\\x16t\\xd2\\x9eZJ\\x19P\\xbc\\xef}\\xefK\\xfc=\\xb0]\\xfeV\\x18\\xc7\\xc2w\\xd1=\\xeeq\\x8fA\\x8f\\xe6\\xeb_\\xff\\xfa\\xb4\\xdbn\\xbb\\xe5\\xf4\\xccc\\x8f=6\\x7f\\xaf\\x10@\\xd0\\xabG\\xeb>\\xc1\\x1b\\x85J\\xfcmo{\\xdb-v\\x89\\xd6\\x7f\\x82\\t\\n\\xe7\\xf6\\x0f~\\xf0\\x83\\xc4v\\xb8\\xd0#)\\x9f7\\xba\\xd1\\x8d\\x12\\xe9{Q\\x1e\\xf3\\x98\\xc7\\xe4\\xab\\xcb\\xc7\\xe3\\xb8\\xe5;\\x8d\\xbf\\x89Ha\\xe4;\\x91\\xef8z\\x1dy\\x8e\\xbf\\xd9k_\\xfb\\xday\\xe61\\x02\\xc4\\xe8\\x85\\x19v\\x1d\\n\\x82sz\\x0c\\xa3\\xf7\\xf7\\x0f\\x7f\\xf8C\\xde\\x16\\xe3S\\xe8}\\xb9\\xfe\\xf5\\xaf\\x9f\\xb7\\x15\\xe7w9]r\\xec\\x0f\\r-l\\x83\\xefH\\xbe[\\x99\\x16\\x9a}\\xa1\\xc7\\x05C\\x06\\xd2\\xd3(\\xc4w$\\xfb\\xca6[S\\xa9\\xe2=\\xbdU@\\x01\\x05\\x14\\xe8\\x87\\xc0\\xd8\\x80\"\\x08\\xa8\\xa8\\xd2\\nJ\\x80\\xc0\\x0f\\x19-\\xff\\xb4\\x04\\xd2\\x1av\\xf3\\x9b\\xdf<\\xb7\\x9a\\xc5\\xb2\\xa4\\x14\\xf1\\x03\\xfb\\x99\\xcf|f0[\\x10\\x17\\x8b\\xe3\\x07\\x93\\xeb\\x03D\\xa9\\x7f\\xf0\\xca\\xc1\\xb4,C\\x8b&9\\xd81u)\\xef\\xc9\\x0f}\\xa4\\xf5\\xb0\\x0c\\x95\\tR\\x05\\xa2B\\xcbsl\\x97m\\x95\\x85\\x1fq.\\xb2E\\xa5`\\xc7\\x1dw\\xcc?\\xe4\\x8c\\x7f(\\xc7\\x8b\\xb0\\xfc\\xb4\\x03\\nZ\\x0e\\xcbq\\x17\\xb4\\xb6~\\xf5\\xab_\\x1d\\xec*\\xc7H\\x05\\xa1.T\\xccI\\xd1*\\xcbg?\\xfb\\xd9\\xc4\\xacE\\x94\\xdf\\xfc\\xe67\\xe9&7\\xb9\\xc9\\xe0\\xe5:\\xa0\\x88\\x17\\xc6}\\x8e\\xe3\\x02\\x8aX\\x9f\\xdbI\\x07ewu^\\x94\\xef=\\xdb}*oT\\x9aFU^\\x17:\\xa0\\xe0\\xdc\\xa4\\xc7\\xad.T\\xe2^\\xf8\\xc2\\x17\\xa6\\x97\\xbd\\xeceC\\x03\\xe5\\xe5\\x14P\\x94A\\x1e\\x15\\xfa\\x96\\nj\\x19P`IZ\\x0f\\xe7kY\\x08\\xce\\xa9 G*\\x18\\xaf\\x91:\\x88qYh\\x99\\x7f\\xef{\\xdf;\\xe8\\xbd$\\xc8\\xe1|\\x89\\xc29B\\xcfV\\x04\\xce\\x04\\xc8\\x1f\\xfe\\xf0\\x87\\xe3\\xe5\\xc1-\\x81`\\x04\\x8b\\xac\\xcf\\xc5\\x13\\xe9]*\\xcb+^\\xf1\\x8at\\x87;\\xdc!?Ej\\xe5]\\xeer\\x97-\\x8e\\x9f\\xf3\\x95\\xde\\x04\\xd2\\xb3\\xa2\\x0c\\x0b(\\xe8\\xa1\\x89\\xef>\\xa6\\xe2e\\x90;\\x17k,\\x0b)U\\xcclF\\xe1\\xbb\\xf1\\x16\\xb7\\xb8\\xc5\\x8c1#\\\\\\xe8\\x91)|)Oy\\xcaS\\xb2C~P\\xfc\\xc7\\x85\\x08#\\xb0!%3z=\\x8bE\\xbc\\xab\\x80\\x02\\n(\\xa0\\xc0\\x16\\x02\\xb3\\x06\\x14\\xb4\\xca\\x91\\xaf\\\\\\xffX\\xc6\\x96\\xf8\\xc1\\xa1e+\\xca\\x93\\x9e\\xf4\\xa4D\\xaaA]H\\x11\"\\xa8\\x88\\x164ZiI\\xdb\\x89\\xc28\\x01r\\x8d)\\xb4z\\x93\\xca1l\\xf0\\xe3\\x17\\xbe\\xf0\\x85A>4\\xcb\\xd2\\x12\\xb9q\\xe3F\\xee\\xe6RV\\xb4y\\x82\\xfd\\xa7E\\xb3\\xce3g\\x8c\\xc6a\\x87\\x1d6\\xe3\\xba\\x04\\xd3\\x0e(np\\x83\\x1b\\xcc\\xb8X\\\\]q \\xd7;*@\\xb4\\xa82&\\x80R\\xcf\\x92C\\xea\\x03\\xb9\\xceQ\\xea+\\x12\\x0f\\x0b(f\\xfb\\x1c\\xbb\\x0e(\\xba:/\\xe2\\x18\\'\\xb9%\\xc8\\xe5\\x1c\\xe2Xi\\x89\\xae\\xcb|\\xa7\\x8d\\x9dk\\x0f\\x05\\x01\\xf4\\x9a5k\\xf2nPA\\xe5\\xda\\x0c\\x14\\x02\\nZ\\xbd\\xa3\\x97\\x8e|z\\x82=\\x02t>s*\\xc6u\\xbaV^\\xf1\\x7f\\xff\\xf1\\xf9.\\x85\\x94\\'v\\x97\\xb4\\xbc\\xf8;\\xe7on\\x921\\x07\\xe5\\xb1r\\xbf\\x0c(\\x18\\xff\\xc0\\xdfs\\xd9\\x88\\x10\\xcb\\x97=b\\xfc}D\\xe59^\\x8f[\\xbe\\xa3\\x18C@alC9n\\x8cJt\\x8cYb\\xcc\\x17\\xd7c\\x19U\\x08X\"\\xcd\\xb3\\xfe[\\xa6q\\x80\\xef8Z\\xfbI\\xef\\xe4|<\\xe1\\xec\\xf1_\\xc3\\n\\xbd$e\\x83A\\xbd-\\x82$\\x8e\\x87\\xde[\\xfc\\x08LF}\\x1f\\x97\\xc7V\\x07\\x044\\xd2\\xec\\xba\\xeb\\xae\\xb9\\xa1\\x87[\\xbeg\\xeb\\xc2\\x18\\r\\x82 \\xbe\\xa7I\\x07\\xe3\\x18,\\n(\\xa0\\x80\\x02\\n\\xcc&0k@\\xc1\\x8f\\xd7\\xa8\\\\ZR\\x19ha\\x8ft\\x8d\\x13O<1Qi\\x1eU\\xea\\x94\\x1fr\\xa1G\\xfd0\\x8e\\xda\\x06?\\xf2\\xa4\\x1cD\\xe1\\x07\\x9d\\xf1\\x10\\x14R\\xb3\\xe8\\x19\\x89B\\xa5\\x83J\\x0c-\\xf8\\xc3\\n\\xa9<\\x04KQ\\xa6\\x1dP\\x90j@\\x85\\x88\\xf4\\x05\\xca\\xa7?\\xfd\\xe9\\x19=\\x16\\xb4Z\\x93\\xbaA\\xa1\\'\\x83\\xc1\\x91\\xacCK$)\\t\\xd1\"I\\xaa\\x04-\\xbfQ\\xea\\xf1\\x02\\xc3\\x02\\x8aq\\x9f#\\xdb\\xe92\\xa0\\xd8\\x1a\\xe7\\x05\\xe7 \\xad\\xc0\\xdc\\xd2\\x13\\xc5x\\x8a\\xbap~\\xcc\\xa7\\xcc5\\xa0(\\xdf\\x8b\\xe0\"Z\\xba\\xf9\\x9b!\\xf0\\xa1\\x82H\\xe5\\xb1\\x9c\\x18\\x80u\\xa8\\xd4\\xd5cf\\xcam-\\xa5\\x80\\x82\\\\|z,)\\xb4\\xa0s\\xfe\\xcf\\xb5\\x94\\x01\\x05\\xad\\xfe\\xfc\\x1bV\\xcaqE\\xc3z\\'b\\x1d\\xbe3b\\xe2\\x03\\x82<\\xc6%P\\xa8\\xfc3\\xd5-c?h\\xcc\\xa0GeX\\xa3Fl\\x87T\\xce\\r\\x1b6\\xe4\\x87u\\x10K\\x0f\\x02\\xe3\\xa1(\\xe3\\xf6%/p\\xf6\\x7fe\\x00^\\x07\\x14eC\\x03\\xbdW\\x8c\\x81\\x18U\\xcaq+\\x1c\\xcb\\xfd\\xeew\\xbf\\xc1\\xa2\\\\\\x93\\xe5\\xd6\\xb7\\xbeu~L\\xb0U6J\\x0c\\x16\\xf2\\x8e\\x02\\n(\\xa0\\x80\\x02\\r\\x02c\\x03\\n\\xd2\\x8d\\xa8\\xc8\\x92\\xef?\\xacPY\\'\\xfd \\n\\xad\\xeaeJO<\\x1f\\xb7t\\xc7\\xaf[\\xb7.\\x1e\\xe6\\x16\\xc4I~\\xd4H\\x07\\xa0B\\xb6\\xfd\\xf6\\xdb\\xe7\\xde\\x8f2\\xad\\x81\\xd64Z{)\\xfcX\\x96\\x172c\\xe6\\x17r\\xe9G\\x95r\\x16\\x1a\\x96\\xa9\\x03\\n*\\xc6\\xa3.\\xc8E\\xeaT]\\x08\\xa8\\x86\\x15\\x06\\x89F\\xcbl\\x19\\x10\\xd1\\xb3B\\x0fK\\x14Z\\xaeI\\xc9\\xa07\\x05wzP\\xc8c\\xa6PA\\x89t(\\xd20b6%r\\xa1\\xc9\\xd5g\\xdf\\xa3\\xd4\\x01\\xc5l\\x9f#\\xebu\\x19P,\\xd4y\\x11\\xc7\\xcb-\\x83\\xde\\xbf\\xfe\\xf5\\xaf\\xe7\\xa7\\x08\\\\\\x19\\xf8_\\x97\\xf9\\x06\\x14\\xe4\\xbbG\\xda\\x1e\\x95\\xb5\\x08\\xf0\\xea\\xf7\\x19\\xf6\\xb8\\x0c(x\\x9d)V\\xa9(\\x8f\\x0b\\x1c\\xa8\\xe0\\xd6\\x93!\\xb0.\\xe7\\x08\\xe3\\x04(\\xfc\\xfd1\\xbbQ]\\xd8\\xee\\xa8\\xbf\\xdbXv>\\xc7\\x13\\xdb(o\\xebicy\\x8d\\xd6\\xfe\\x98\\xcd\\x8c4\\xa12\\xe0/\\xd7\\x1dw\\xbf\\x0c(\\xea\\x1e\\x85r\\xbd2\\xe5\\x87A\\xdb\\xcc\\xc44\\xac\\xd0\\x90q\\xc4\\x11G\\xe4\\x97\\xca\\xca;c+\\x08F)\\xf5U\\xd6\\xf3\\x93C\\xfe\\x8b^1^b\\x9cW\\xf4\\x84R\\xf1\\'\\x88\\xa7\\xd4\\xe9\\x9d\\xf9\\xc9\\xea\\xbf\\xa7=\\xedi\\xe9A\\x0fzP~\\xb6\\xdc\\'\\x9e\\x88\\xab\\x8es\\x1fO\\xbe\\'\\xc6\\x15R\\xa2H\\xe7\\xac\\xbf\\xcf\\xca\\xcf\\x82^\\x13f\\x9dcLE\\xd9\\xc3;n\\xbb\\xbe\\xa6\\x80\\x02\\n(\\xa0\\xc0(\\x81\\xb1\\x01EL\\x1b;jeZ\\xd3iUo-u\\xcb:\\xdb\\xa1U\\x90J69\\xd1\\xfc#\\x05$\\xd2\\xa4\\x86\\xbdO\\x19P0&\\x81\\x8aq\\x94c\\x8e9f\\x90\\x0f\\x1c\\xcf\\x95\\xb7u\\xc5\\xbb\\xfe\\x01\\x1e5\\xa6\\xa1\\xdc\\xc6$\\xf7\\x19O\\x10\\x95-\\xf2\\x93\\xc9S\\x8e\\xc2\\xd8\\x07zP\\xca)O#\\xc5\\xa9\\xacH\\x91\\x12AJ\\x07\\xe5\\x9d\\xef|\\xe7 \\xd0`LC= \\xbe>\\xae\\xd9>G\\xb6\\xd9e@1\\x8d\\xf3\\x82}\\x1cW\\xc8Eg\\x0c\\x05\\x85\\xd6\\xde\\xa8\\xc4\\x96\\xeb\\xcc7\\xa0(\\xb75\\xd7\\xfbu@Aj\\n\\x15\\xbfq\\x85\\xab~\\x93\\xfa\\xd7R\\xde\\xfa\\xd6\\xb7\\xceH\\xafk\\xd9\\xc6\\\\\\xd6!\\xb0\\x8dI\\x01\\xca\\xf5\\xa8TS\\xb9\\xa6\\x8c\\xca\\xdb/\\x97\\x1fv\\xbf\\xfc;\\xa8\\xc7\\x1d\\x95\\xcb\\x93\\nEe\\x9c2.\\xa0\\x185E+\\xdf71;\\x12\\xc1\\xc8\\xa8\\x99\\xa4\\xca\\xf7,{\\x16H\\xeb\\x8cY\\xa3HI\\x8bqM\\x8ce\\xf8\\xc5/~Q\\xae\\xb6\\xc5\\xfdr\\xdf\\xeb\\x80\\xa2\\x1c\\x87\\xc2\\x00\\xea\\xd9zu\\xcbF\\x1b\\x06\\x8fG\\xd0J\\x8f\\x18\\x93X\\xb0?Q\\xf8\\xdc\\xf8~ \\x18\\'\\x98\"X\\x99-\\x10\\x8du\\xbdU@\\x01\\x05\\x14P \\x04\\xe6\\x15P\\xd0\\x1b\\xc1@\\xe3\\xd6B\\xc5\\x9a\\xfc\\x7f\\n\\xa9*\\xb4\\xbc\\x93\\xdbL\\xcb\\xec\\xa4\\xa5\\x0c(\\xea\\xfda\\xea\\xd8\\x83\\x0e:h\\xe4\\xa6\\x08TH7\\x89\\xf7[\\x88\\x80\\x82VL\\xae\\xd7\\x10%\\xa6g-+\\x14\\xf4\\xe4\\xd0\\xd3Bp\\x15\\xd7\\x82\\x88\\x9cp\\x9cHA\\x8b^\\x1a\\xd2\\x1f\\xa2\\xc2\\x16\\xdb\\xdc\\xda\\x01E\\xfd9\\xc4~Mz[\\x9e\\x17\\x93\\xae\\xc3\\xc5\\xecb\\xdc\\x01c\\x10b\\x96\\x9er\\xfd\\xc5\\x12P\\xd0:L\\x1a\\xcble)\\x05\\x14TB\\xa3\\x17\\xae<.\\x82\\xdd\\x08\\x84[>W\\xb6\\xb5P\\x01E\\xd9\\xb36I\\x9a\\x12\\xfb\\xf6\\xfc\\xe7??q\\x9d\\x0c\\n\\xe3$H}\\xa2\\x90\\xdev\\x95\\xab\\\\%\\x8f\\xf5\\xa0R?[%\\x9d\\xc1\\xe1\\xcc`E\\xa9\\x03\\n\\x82\\x1c\\x82\\x9d\\x96B/Ty\\x11=\\xd2\\xe9\\xf8\\xfb\\xe4\\xfb&&u(\\xb7\\xcb\\xb2\\xf4\\xca\\xd2\\x80Q\\xf6z\\x96\\xcbx_\\x01\\x05\\x14P@\\x81Z`^\\x01E\\xdd\\x12\\xcd\\x0c.Qy\\xa8\\xdf\\x88\\xc7\\xa4oDJ\\x00\\x8fi\\x11\\x8b\\xfcqZb\\xcb\\x963~\\x80\\xa98\\xd3\\xb2\\xcf\\x0f\\x1b\\xd3\\x182x\\xb5\\x1e$Y\\x06\\x14\\xfc\\xb0\\xf3\\x03\\x1f\\x85\\xd6\\xb6\\x18`\\x19\\xcf\\x95\\xb7T0\\xcb\\x14\\x8c:\\xa0 m fM)\\xd7\\xe3>\\xad\\x91\\x8co(K\\xb9\\xad\\xf2yf\\xab\\xa2e\\x91B\\xf0B\\xde5\\xe9T\\x14Z\\x92\\x19\\xb8ZN\\x03K%\\x8c\\x9e\\x07\\x82\\x07Z\\x0e\\x19\\x84M+#iPL\\x11\\xc9t\\xb7QH\\xa7\\x8a<\\xeexnk\\x07\\x14]\\x9e\\x17qL\\xb3\\xdd\\xe2\\xc9T\\xa2\\x94Q\\xad\\xcb\\x8b%\\xa0 \\x9d&\\x06d\\x8f;.\\xc6Y\\xec\\xb9\\xe7\\x9e[,B\\xea_\\\\\\xc3\\x84\\xbf\\x11\\xaeiR\\x17\\x02\\xd0Qc\\x9f\\xeae\\xbbx<*\\xa0`\\x8c\\x12c\\x95(Td\\x1974\\xd7\\xb2P\\x01\\x05\\xb3\\xd1E\\xfa\\x18\\x13K\\xd0\\x8b4[\\xe1\\xef7\\xd2*\\tH\"\\xa8\"\\xa8\\x8d\\xf1d\\xc3\\xa60\\xae\\xb7K0\\x12\\x17\\xbe\\xac\\x03\\x8ar[|\\x97\\xcc6S\\x16\\xdf\\x1b\\x11\\xc0\\xf0]1*5\\x8fTI\\xf6\\x8d\\xa0\\x83\\xef\\x96\\xf2\\xfb\\x8c)u\\x19\\x7fQ\\x06#\\xf5>\\xfbX\\x01\\x05\\x14P@\\x81\\x10\\x98W@Q\\xb6\\xe8\\xb1A*\\xd4\\xe4I\\xcf\\xb50\\x1e\\x81\\x9c\\xf4(\\x04\\x0fT\\x98\\x18\\x03Q\\x97r\\x0c\\x02\\xaf\\x95\\x01\\x05S7Fn9\\xaf1\\xc5m\\x8cA\\xe0q]\\xb8\\x06E9\\xc0\\xb1\\x0e(\\xea\\xe5\\xcb\\xc7s\\xbd\\xb0]\\xb9n9\\x1bM\\xa4,1\\x9b\\n\\x03*\\t\\x9ah\\xad$\\x15\\x81BKi\\xcc$C\\xe5\\x0c\\xab\\x98-\\x88\\x8a\\x05\\xf3\\xe2\\xd7\\x03G\\xb7v@\\xd1\\xd5yQ\\x9a\\xcdv\\x9f\\xde&*\\xeaT\\xa6\\x98\\t\\x0c\\xab\\xba,\\x96\\x80\\x82s=*\\xd9\\xf5>N\\xf2\\x98\\xcf\\xb7\\x8bY\\x9e&y\\xafI\\x97!\\xe0\\x1d6\\xf9\\x01iC\\x91:D\\xab\\xf8li^\\xc3\\xdeo\\xa1\\x02\\x8a\\xf2\\xef\\xa6\\x1ed=l\\xbfx.\\xfen\\xb9\\xcfE\\xe36m\\xda\\xc4\\xdd<[[\\xf4B\\x91\\xe6H\\xfa\\xe5\\xb8R\\xce\\xceT\\x07\\x14\\xe5\\xf7\\xc5\\xb4\\x06S3\\x0b\\xd9\\xee\\xbb\\xef\\x9e{\\x89\\xe3\\xef\\x84^\\x96\\xf2\\xba2\\xe3\\xf6\\xdf\\xd7\\x14P@\\x01\\x05\\xfa-0\\xaf\\x80\\x82Va\\xf2\\xfdc\\x8c\\xc3l\\x15\\xf8Q\\xd4\\xb4\\xb2\\x97\\xf3\\xf5\\x93\\xe7K\\x8b}]x\\x1fZ\\xa1\\xcb+i\\x97\\x01E9\\x0e!\\xd6e\\xa0\\xf6\\xf1\\xc7\\x1f\\x1f\\x0fg\\xdc\\x96\\x83\\x1dya\\xa1\\x02\\x8a2\\xaf\\x9c\\x8a\\x18\\xc1S\\xf4:0\\x0e \\xa6\\xb4d\\x9f\\xca^\\x17\\x82%Z\\xadc:L\\xa6\\xbbd\\x90j]\\xca\\x8a\\x11\\xafMs\\x0c\\x05S\\x06G\\xefK\\xecGW\\xe7Elo\\xd2[Z\\xe597\\xbe\\xf7\\xbd\\xef\\rM)\\x8a\\x8a\\xd2\\xa4\\xdb\\xebr\\xb9r\\x0c\\x05\\x01O\\xdd\\xd36\\x97\\xf7ZJ\\x01\\x05)\\x871\\xe3\\x16\\x81f\\xb4\\xe0\\xcf\\xe5x\\x17*\\xa0(\\xbf_\\x98R\\x95\\x94\\xc3\\x08\\xec\\x87\\xed/\\x17\\xa7\\x8bY\\xab\\xe8Ie\\xacT\\x94\\xf2:\\x15\\x91\\xc2\\x18\\xaf\\r\\xbb-\\xc7I\\xd4\\x01E9\\xee\\x8a\\xdeLzE\\xa6U\\xd6\\xacY\\x93/\\x18H`\\xde\\xfa}>\\xad}s\\xbb\\n(\\xa0\\x80\\x02\\x8bW`^\\x01\\x05\\x87U\\x0e\\x10\\xe61)G\\xccN4\\xac\\xd0\\xdaE\\xae{\\x14\\x06irQ(\\xa6\\x95dz\\xc9(TB\\x18\\xffP\\x97z\\x16\\'^/\\x03\\n\\x1e\\x93G_\\xbe\\x07W\\xda\\xa6\\xa5\\xb0N\\x13(\\xa7\\x8ed=\\xcaB\\x05\\x14\\\\A\\xb7\\xbc\\xa0\\xddQG\\x1d\\x95\\xaf\\x96\\xcc>\\xd4s\\xc7\\x93\\xe2D\\x05\\x94Bz\\x18i\\t\\x91\\xfb\\xcc\\xb4\\x94\\xd1R\\x9d\\x17\\xf8\\xdf\\x7f\\xd3\\x0c(\\xa2\\xd2\\x1e\\xef\\x17c@\\xe2q\\xdcvq^\\xc4\\xb6&\\xbd\\x8d\\x0b\\xdbqQ/f\\xf2\\xa9\\x8b\\x01E-\\xd2\\xdd\\xe3Q=\\x14L\\xb5\\xcblj\\x14*\\xe8\\xf5\\xdf\\xe1${\\xb0P\\x01\\x05\\xfbRN\\xdd\\xcc\\xfdq\\x83\\xe2\\xcb\\x99\\x99\\xeaF\\x10*\\xe6\\xd1+A\\xc5\\x9cF\\x83Q\\x83\\xa9I=:\\xfc\\xf0\\xc3\\xf3t\\xc1\\xecC\\x1dP\\x94\\xdf\\x01\\xf4h\\xd2\\xc80\\xec\\x1a\\x12\\xacK\\xd9c\\x8f=\\xf2\\xf7\\x04=\\xbd\\xb1\\x0f\\x04\\xda\\xf4fR\\xe8I\\x1a\\xd5\\xc8\\xc2\\xeb\\x8c\\xf1b\\xac\\x17\\xc1\\x14\\xb7|\\xb6\\x16\\x05\\x14P@\\x01\\x05\\xc6\\t\\xcc;\\xa0\\xa8\\xd3[\\xb8\\xf6\\x03\\xad\\xaf\\xe4\\xb1\\xc7\\x15h\\xf91\\xa3K?\\x06/\\xb2C\\xa4\\n\\xc4\\x05\\xaf\\xca\\xdce^\\xe3\\x07\\x98\\x8a*\\x95Wr\\x81\\xa9D\\x13\\x14P\\x81f\\xa6\\x92\\xb2\\xd4\\x01E9\\x17},G.99\\xd1\\\\1\\x9b^\\x0c\\xf6\\x99iX\\xcb\\xab\\xd3\\xb2\\xecB\\x05\\x14\\xbc\\x17=\\x12\\x0c\\xd6\\xac\\x0bi\\x07\\'\\x9cp\\xc2\\x8c\\xa7\\xeb\\x8b\\xf5\\xc5\\x8b\\xa3z_\\xa6\\x19P|\\xf0\\x83\\x1f\\xcc\\xf9\\xd6\\xb1\\x0f\\xf4~Pi\\xe4\\xf3\\xa4\\xe2A\\xca\\x16\\xa5\\x8b\\xf3\"\\xdec\\xd2\\xdb2\\x9f}X\\xcf\\x89\\x01\\xc5\\xa4\\x92s_n\\xd4\\x18\\n\\xd2\\xbbH\\xd3\\xa3rK\\x9e~KY\\xc8\\x80\\x82\\xa0\\x87A\\xd0\\xf4VpL\\xf4\\xae\\xc4t\\xcd\\xe5\\xbe\\x13 p\\x9d\\x18\\niN\\xa4O\\xd6)_\\xe5\\x0cP\\xfc}\\xec\\xbd\\xf7\\xde\\x83\\xb1\\r\\xb1-\\xaee\\xc1w%\\x8d\\x0cQ\\xea\\x80\\x82\\xe7\\xb9VF\\xf4\\x80\\xd0\\x00\\xc1\\x18\\x9ca\\xbd\\'\\xf4n\\xc6\\xd8\\x8f2\\xc8\\xe1\\xbb\\x8eF\\x0c&s8\\xed\\xb4\\xd3\\xf2\\xf7i\\xfd=\\xc3\\xfb\\xec\\xbc\\xf3\\xcey\\x9c\\x0bc\\xbd~\\xf6\\xb3\\x9f\\r\\x82A^\\xa3\\x10\\xac0\\xbd-c,\\xb8\\x08\\xa7c,\\xfe\\xeb\\xe2\\xff\\n(\\xa0@\\xdf\\x05\\xe6\\x1dP\\x00x\\xf0\\xc1\\x07\\x0f\\xd2p\\x02\\x94\\xc0\\x82\\x16u.\\xe2\\xc6\\xbc\\xf9t\\xa1G\\xe1\\x07\\x8d\\x81\\xbb\\xe4\\xbcS\\xf8\\xf1&x`\\xb0iY\\xa8\\x9c\\xf2#M+\\x19\\xb3\\x93\\xd0\\xba\\xc9\\x0c9\\xe5\\x8fo\\x1dP\\xb0-fF*\\xa7N,\\xb7Y\\xdeg6\\x93\\xc8s\\xe6\\xf9\\x85\\x0c(\\xca\\xd6\\xcd\\xd8\\'\\xae\\xe3Q^\\xb4/\\x9e\\'\\x90\"\\x00*\\xcb\\xb8t\\x84i\\x06\\x14\\x04\\x8b\\xe5\\xc5\\xb2\\xca}\\xa2e3\\xae\\x8f\\xc1\\xf3\\xf3=/\\xcamOr\\x9f\\xf4/\\x06\\xadR\\x1e\\xfa\\xd0\\x87\\xe6\\xd4\\x8dr\\xbd\\xad\\x11P\\xd0\\xbaL!\\xe5)\\xae\\x86Lz\\x0c\\xbdpe!m\\xac\\x1e\\x0bS\\xbe^\\xde_\\x8c)OTn\\xebic\\xcbk\\x83\\xd4\\xe7Fy<\\xb3\\xdd_\\xc8\\x80\\x82}\\xd9\\x7f\\xff\\xfd\\xf3\\xccR\\xdc\\xe7\\x1a.\\xb4\\xf2\\xd3K\\xc8\\xf5nh\\xe5g 3\\x01s\\x0cb\\x1e\\xd5S\\xb8\\xcb.\\xbb\\xa4\\xf5\\xeb\\xd7\\x0f\\x1aA\\x18<\\x7f\\xf4\\xd1G\\xe7m\\xf1]\\xc7\\x05*\\x19\\xf7\\xc5\\xd8)\\xc6+\\xc4\\xf4\\xcf\\xc3\\x02\\n\\xa6\\xb0&\\x90\\xe0<\\xa2\\x1cw\\xdcq\\xf9\\n\\xdf\\x04;\\xf4V0#\\x18\\xa9\\x90L\\x89K\\xe1\\x9a8|7\\x96\\xbd\"\\xe5\\x85<\\t&\\x18\\xecM\\n)\\xdf\\xd3\\x9c\\xa7\\x8c7\\xdbo\\xbf\\xfd\\x12\\xa9\\\\\\x14z\\x94\\xe3b\\x8c<f\\x9fy?\\xc6[P\\x86\\xcd0\\x97_\\xf0?\\x05\\x14P@\\x81\\xde\\tt\\x12P\\xd0k@E\\xb3\\xec\\x81\\x18%I\\xa5\\x9d\\xd9^\\xe2\"d\\xb1\\x1c\\xbd\\x14\\xa4J1\\xb3\\xd2\\xb0B\\x85\\x85\\x8a\\x05\\xf3\\xd0\\xf3c\\x1e\\xa5\\x0e(x\\x9e\\x1fhR\\xa6\\xf8A\\x1fU\\xc8}\\xa6b\\x1c\\xd3<\\xb2\\xdcB\\x06\\x14\\xccQ_\\xa7+1m\\xe4\\xb0ix\\xeb\\xc1\\xe3\\xec\\xeb\\xb8Yh\\xa6\\x19P\\xd0\\xdbD\\xef\\n-\\xabu\\xa9+\\x8d]\\x9c\\x17\\xf5{\\x8c{L*\\x18\\xbd9\\x94a\\xd3~.t@A+/\\x15\\xc8I\\n\\x7f\\x13\\xb4\\x08OR\\xf8\\x1b\\xd9k\\xaf\\xbd\\xf2\\xa2\\xb4:S\\xb9\\xdc\\xdaeX@\\xc1\\xdfi\\\\\\xf8r\\xdf}\\xf7\\x1d\\\\\\xe3a\\xae\\xfb\\xba\\xd0\\x01\\x05\\x8d\\x12\\x07\\x1cp\\xc0\\xd0\\xf1I\\xe5\\xbe\\xd3hB+}\\x04\\x8a\\xe5kq\\x1f\\x03z\\n\\xa2\\x12\\x1e\\xcf\\x97\\xb7\\x8c\\x8dbF:\\xd2\\x9e(\\xc3\\x02\\n\\x9e\\xdfu\\xd7]s\\n\\x16\\xc1\\xc5\\xb8B0Q^L3\\x96\\xe5\\xbca\\xdc\\x18=\\x9be\\xe18b\\xeal\\x9e\\xa7\\xe1\\x86\\xd4\\xcb\\xb8&G,K\\xd0\\xc1\\xb8\\xadh\\x1cbF,\\x82/\\x8b\\x02\\n(\\xa0\\x80\\x02\\x9d\\x04\\x14\\xc1\\xc8\\x0f\\x15)\\x02\\xb4\\x92\\x95?P\\xbcN\\xfa\\x13y\\xf5\\x04\\r\\xf4P\\x0c+\\xb4\\xb2\\xd1\\x8aFjD\\xb4\\xc4\\xb1\\x1cW\\xa3\\xe5G\\x96[*(\\xb3\\x05\\x14\\xac\\xc3\\x8f\\'\\xad\\xd4\\xb4\\xec\\x97\\xdb\\xa2\\x87\\x83\\x1fp\\xf6\\x83\\x94\\x86\\x98\\xb6\\x96u\\xe6\\x12P\\x90:EE?\\n\\xd3a\\xcee\\xc0)\\x15\\x0c\\x82\\x9a\\xf2J\\xc8\\xa3.\\xc6E\\x8b!=8\\xf1C\\xce{2\\xe6d\\xd4U\\xbc\\xa7\\x19P\\xf0\\xde\\xf4\\x10\\xd1\\x1b\\xc0\\xe7M\\xe5\\x86^(\\n\\xe9P\\xb4p\\xd6e\\xbe\\xe7E\\xbd\\xbdq\\x8fi\\xc5%\\x90\\xa4\\xa2M\\xf0Y\\x96\\xe5\\x12P\\x94\\xc7\\xb4\\x98\\xee\\xc7\\xc5\\x1bc\\x9f\\xa2\\xa5\\x9f\\xbf3.V\\x19)\\x90\\xf1\\xfa\\xa4\\xb7\\x0b\\x1dP\\xc4~\\xd1\\x83\\xc0yN\\xcb}\\xf9}F\\xf0D\\xe0\\xca@\\xear,T\\xacW\\xdf\\xd2\\xc3\\xca\\x95\\xdb\\x19KR\\xfe\\r\\xd3\\xa3\\xc38\\r\\xc6\\xfe\\x8c\\xba\\xd8^\\xbd-\\x02yR\\x8e\\xe8\\x8d \\xb8/\\x0b\\xbd\\\\4R\\xf0=;n\\xac\\n\\xb3m1\\x9d6\\xdf\\xb7\\xe5\\xf7\\x0f\\xbd\\x9eLh@\\xcf\\xe2\\xa8\\x0b\\xf11\\xeem\\x9f\\xb3gP\\xe3\\xbb\\x8e\\xde\\xc8\\xf2\\xfb\\xb3\\xdc\\x17\\xef+\\xa0\\x80\\x02\\n\\xf4K`F@\\xd1\\xd5\\xa13\\x13\\x11\\xadYT6\\xc9\\xb1\\xa5\\xa21\\x97\\xca\\x04?\\xdeT\\n\\xc9\\xfbe]\\xf2\\xaf[\\x0b\\xa9RT\\xfe\\xd9\\x17R\\x8a\\xb8\\x92--r\\x96\\xee\\x04\\x08\\xd8H\\xd7\\x197P\\x94w\\x9b\\xefy1\\xc9\\x1e\\xd3\\xc3Ck?\\x95>*\\x82\\'\\x9dt\\xd2`\\xb5\\x85\\x0e(\\x06o\\xdc\\x93;u@Ak6\\xc1-\\r\\x01\\xa48.\\xd5B\\xaa\\x0f\\xdf!\\x9c\\xbf\\x0c\\xf8\\xe7{\\x84T\\xa8\\xb9\\x16\\xc6/\\xac9{\\xb0\\xf6\\xaaU\\xab\\x12\\x93El\\xdc\\xb8q\\xae\\x9b\\x18,O/\\xcaN;\\xed\\x94\\xff\\xf1wG\\nS\\x8c_\\x1a,4\\xcb\\x1d\\xb6\\xc1\\xfe\\x90\\x9a\\xc6 \\xedI\\xbf\\xa39\\x0e\\x1af,\\n(\\xa0\\x80\\x02\\n\\x84\\xc0T\\x02\\x8a\\xd8\\xb8\\xb7\\n,\\xb4\\x00\\xad\\xc1G\\x1eydn\\t\\xaes\\xdb\\r(\\xa6\\xfbi\\x94\\x01\\x05\\xbd\\x8c\\xf4XQ\\x18/t\\xc4\\x11GL\\xf7\\xcd\\xdd\\xba\\x02\\n(\\xa0\\x80\\x02\\nl5\\x01\\x03\\x8a\\xadF\\xef\\x1bOK \\xae/\\xc2\\xd8\\x82\\xf2J\\xd3\\x06\\x14\\xd3\\x12\\xff\\xefv\\xcb\\x80\"\\x06\\x003\\x1b\\x10\\xe3\\x9cH{\\xb2(\\xa0\\x80\\x02\\n(\\xa0\\xc0\\xf2\\x140\\xa0X\\x9e\\x9fk\\xaf\\x8f\\x8a\\xd4\\x14r\\xdcI\\xc5bL\\xcf\\xb1\\xc7\\x1e\\x9b=\\x0c(\\xa6{ZD@\\xc1\\x18\\x1bfF\"e\\x91\\xc1\\xc1\\x1b6l\\x98\\xee\\x1b\\xbbu\\x05\\x14P@\\x01\\x05\\x14\\xd8\\xaa\\x02\\x06\\x14[\\x95\\xdf7\\x9f\\x96\\x00\\x83N\\x99\\xa9\\x86\\x99\\x93\\x98;\\x9f\\x16r\\xae\\x87\\x10\\x03\\xc8\\xa7\\xf5\\xbe}\\xdd.y\\xfc\\xcc.D9\\xe4\\x90C\\x12W\\x83\\'\\xf5\\x8c\\xc1\\xc8\\x16\\x05\\x14P@\\x01\\x05\\x14X\\xde\\x02\\x06\\x14\\xcb\\xfb\\xf3\\xed\\xed\\xd11\\xe0\\xf4\\xc0\\x03\\x0f\\xcc\\x01\\x04S\\x083=0=\\x171\\xc7~oa\\xa6t\\xe0\\x0c\\x08\\xe6\\x9a\\x07\\xf82f\\x82\\xc2\\x94\\xaa\\x11dL\\xe9m\\xdd\\xac\\x02\\n(\\xa0\\x80\\x02\\n,\\x02\\x01\\x03\\x8aE\\xf0!\\xb8\\x0b\\x0b#@\\n\\xce\\xea\\xd5\\xab\\xf3\\x85\\x14\\x17\\xe6\\x1d\\xfb\\xf1.\\xf4\\xfe0c\\xd1\\xb8\\xa9J\\xfb!\\xe1Q*\\xa0\\x80\\x02\\n(\\xd0O\\x01\\x03\\x8a~~\\xee\\xbd=j\\xa6\\xc8\\xac\\xaf\\xc8\\xde[\\x8c\\x8e\\x0e\\x9ci\\x9d\\x99\\x1e\\xda\\xa2\\x80\\x02\\n(\\xa0\\x80\\x02\\xfd\\x140\\xa0\\xe8\\xe7\\xe7\\xde\\xdb\\xa3\\xe6\\xba$\\xa4>q-\\x00\\xcb\\xfc\\x05\\xb8\\x1e\\x03\\xa9N\\x9b7o\\x9e\\xff\\xc6\\xdc\\x82\\x02\\n(\\xa0\\x80\\x02\\n,I\\x01\\x03\\x8a%\\xf9\\xb1\\xb9\\xd3\\xf3\\x11`|\\x05\\xb9\\xfe\\xf4T\\x94W@\\x9e\\xcf6\\xfb\\xb6.\\x17\\x87\\xa4g\\x82\\xb1\\x13N\\t\\xdb\\xb7O\\xdf\\xe3U@\\x01\\x05\\x14P`\\xa6\\x80\\x01\\xc5L\\x0f\\x1f\\xf5H\\x801\\x15+W\\xae\\xcc\\x03\\xb7\\t2V\\xacX\\xd1\\xe9\\xd1\\xd7\\xc1\\xca\\\\\\xaf\\xd0^/_o\\x8f\\x9d\\xad\\x97)\\x0f ^\\x8b[\\xd6\\xe7>\\xb7\\xe5\\xb6\\xca\\xe7Y?\\x1e\\x97\\xdb\\xe2>W\\x1f\\'x`F\\xa7M\\x9b69f\\xa2\\x06\\xf2\\xb1\\x02\\n(\\xa0\\x80\\x02=\\x150\\xa0\\xe8\\xe9\\x07\\xefa+\\xa0\\x80\\x02\\n(\\xa0\\x80\\x02\\n(\\xd0\\x85\\x80\\x01E\\x17\\x8anC\\x01\\x05\\x14P@\\x01\\x05\\x14P@\\x81\\x9e\\n\\x18P\\xf4\\xf4\\x83\\xf7\\xb0\\x15P@\\x01\\x05\\x14P@\\x01\\x05\\x14\\xe8B\\xc0\\x80\\xa2\\x0bE\\xb7\\xa1\\x80\\x02\\n(\\xa0\\x80\\x02\\n(\\xa0@O\\x05\\x0c(z\\xfa\\xc1{\\xd8\\n(\\xa0\\x80\\x02\\n(\\xa0\\x80\\x02\\nt!`@\\xd1\\x85\\xa2\\xdbP@\\x01\\x05\\x14P@\\x01\\x05\\x14P\\xa0\\xa7\\x02\\x06\\x14=\\xfd\\xe0=l\\x05\\x14P@\\x01\\x05\\x14P@\\x01\\x05\\xba\\x100\\xa0\\xe8B\\xd1m(\\xa0\\x80\\x02\\n(\\xa0\\x80\\x02\\n(\\xd0S\\x01\\x03\\x8a\\x9e~\\xf0\\x1e\\xb6\\x02\\n(\\xa0\\x80\\x02\\n(\\xa0\\x80\\x02]\\x08\\x18Pt\\xa1\\xe86\\x14P@\\x01\\x05\\x14P@\\x01\\x05\\x14\\xe8\\xa9\\x80\\x01EO?x\\x0f[\\x01\\x05\\x14P@\\x01\\x05\\x14P@\\x81.\\x04\\x0c(\\xbaPt\\x1b\\n(\\xa0\\x80\\x02\\n(\\xa0\\x80\\x02\\n\\xf4T\\xc0\\x80\\xa2\\xa7\\x1f\\xbc\\x87\\xad\\x80\\x02\\n(\\xa0\\x80\\x02\\n(\\xa0@\\x17\\x02\\x06\\x14](\\xba\\r\\x05\\x14P@\\x01\\x05\\x14P@\\x01\\x05z*`@\\xd1\\xd3\\x0f\\xde\\xc3V@\\x01\\x05\\x14P@\\x01\\x05\\x14P\\xa0\\x0b\\x01\\x03\\x8a.\\x14\\xdd\\x86\\x02\\n(\\xa0\\x80\\x02\\n(\\xa0\\x80\\x02=\\x150\\xa0\\xe8\\xe9\\x07\\xefa+\\xa0\\x80\\x02\\n(\\xa0\\x80\\x02\\n(\\xd0\\x85\\x80\\x01E\\x17\\x8anC\\x01\\x05\\x14P@\\x01\\x05\\x14P@\\x81\\x9e\\n\\x18P\\xf4\\xf4\\x83\\xf7\\xb0\\x15P@\\x01\\x05\\x14P@\\x01\\x05\\x14\\xe8B\\xc0\\x80\\xa2\\x0bE\\xb7\\xa1\\x80\\x02\\n(\\xa0\\x80\\x02\\n(\\xa0@O\\x05\\x0c(z\\xfa\\xc1{\\xd8\\n(\\xa0\\x80\\x02\\n(\\xa0\\x80\\x02\\nt!\\xd0\\x8b\\x80b\\x9f}\\xf6I;\\xec\\xb0C:\\xfd\\xf4\\xd3\\xd3\\xa1\\x87\\x1e\\xda\\x85\\x9b\\xdbP@\\x01\\x05\\x14P@\\x01\\x05\\x14P@\\x81\\xb3\\x05z\\x11P\\xac_\\xbf>\\xad[\\xb7.m\\xdc\\xb81\\xed\\xb6\\xdbn~\\xf0\\n(\\xa0\\x80\\x02\\n(\\xa0\\x80\\x02\\n(\\xd0\\x91\\xc0\\x7f\\x00\\x00\\x00\\xff\\xffA~\\x00\\xb7\\x00\\x00\\'rIDAT\\xed\\xdd{\\xbcWS\\xfe\\xc7\\xf1\\xcf)E\"\\xba\\x18\\x97\\x84Le\\xd2\\xb8N\\xcamta\\xc8\\xb5!\\x86\\x18\\x13bT\\x18w\\n1j\\x94\\\\g\\x0c\\x91\\xd2\\xb8TL3\\x85\\x12&\\xe32RDn12\\x8a!\\xa6\\xd0M\\xf7P\\xce\\xaf\\xf7\\xfa=\\xf6\\xf7\\xb1\\xce>\\xfb{=\\xe7\\xbbO\\xdf}^\\xeb\\xf1\\xe8|\\xbf\\xdf}_\\xcf\\xdd\\x1f\\xfb\\xb3\\xd7\\xfa\\xacU\\xd6\\xb2e\\xcbr\\x0b\\x95\\xb6m\\xdb\\xdaf\\x9bmf\\xeb\\xd7\\xaf\\xb79s\\xe6\\x84\\xd6\\x96\\xde\\xcf)S\\xa6\\x98\\xea\\xb4x\\xf1b\\xeb\\xd0\\xa1C\\x8dW\\xa0I\\x93&\\xd6\\xbcysw\\x1d\\xff\\xfb\\xdf\\xffl\\xe9\\xd2\\xa55~M\\\\\\x00\\x02\\x08 \\x80\\x00\\x02\\x08 \\x80\\x00\\x02\\x85\\x08\\x94E\\x05\\x14\\xaf\\xbf\\xfe\\xba5k\\xd6l\\x93y\\x00/\\xa4b\\xfe>\\x9bZ@q\\xc6\\x19g\\xd8\\xe0\\xc1\\x83\\xdd%\\x0e\\x1c8\\xd0\\xc6\\x8e\\x1d\\xeb_.\\xdf\\x11@\\x00\\x01\\x04\\x10@\\x00\\x01\\x04\\x10(\\x19\\x01\\x02\\x8a\\x1a\\xb8U\\x04\\x145\\x80\\xce)\\x11@\\x00\\x01\\x04\\x10@\\x00\\x01\\x04\\x8a\"@@Q\\x14\\xd6\\xcc\\x07%\\xa0\\xc8\\xec\\xc3Z\\x04\\x10@\\x00\\x01\\x04\\x10@\\x00\\x81\\xd2\\x11\\xa8\\xf6\\x80\\xa2N\\x9d:\\xae\\xbb\\xd4\\xaaU\\xabl\\xcd\\x9a5\\x05I\\xe8\\x18\\xca3X\\xb2d\\x89\\x95\\x97WJ\\xf1\\xc8\\xfb\\x98\\x99\\xba<\\xd5\\xad[7\\xd5\\xbdk\\xc3\\x86\\ry\\x1f\\xbb\\x90\\x1d\\xaa\\x12Pl\\x8a\\xbe\\x85\\x18\\xb0\\x0f\\x02\\x08 \\x80\\x00\\x02\\x08 \\x80@2\\x04R\\x01E\\xdf\\xbe}\\xadG\\x8f\\x1e\\xaeV\\xbb\\xee\\xba\\xab\\xe9A[\\x0f\\xd8\\x9f}\\xf6Y\\xaa\\xa6\\x93\\'O\\xb6?\\xfd\\xe9O\\xa9\\xdf\\xc1\\x17%p\\x9fp\\xc2\\t\\xd6\\xabW/\\xdbc\\x8f=\\xac~\\xfd\\xfan\\xd5\\xb2e\\xcb\\xec\\xd9g\\x9f\\xb5\\xd1\\xa3G\\xdb\\xc7\\x1f\\x7f\\x1cl\\x1e\\xf9\\xb9\\xcd6\\xdb\\x98\\xaea\\xdf}\\xf7\\xb5v\\xed\\xdaY\\xc3\\x86\\rm\\xf5\\xea\\xd5\\xf6\\xe1\\x87\\x1f\\xda\\x9bo\\xbeiw\\xdduW\\xc1\\x01J8\\xa0(++\\xb3_\\xfe\\xf2\\x97\\xd6\\xbbwok\\xd5\\xaa\\x95\\xbb^%\\xa0\\xeb\\\\\\xbaV\\xd53\\x1c\\\\\\xe8\\xfc{\\xee\\xb9\\xa7\\x0bpN?\\xfdt[\\xb4hQd=\\x82\\x857\\xdex\\xa3\\x1dr\\xc8!\\xee\\xe7\\xd9g\\x9f\\xed\\x12\\xaf\\x9f|\\xf2I\\xf7\\xbbQ\\xa3F.\\x88\\xd1\\x0f%\\x8a\\xafX\\xb1\\xc2-\\xd7\\x9fSN9\\xc5\\xe4\\xe6\\x97M\\xdd\\xd7\\xbfV\\xbe#\\x80\\x00\\x02\\x08 \\x80\\x00\\x02\\x08\\xd4.\\x81T@\\xa1\\xe4`=\\xf8f*\\xe3\\xc6\\x8d\\xb3\\xeb\\xae\\xbb\\xae\\xc2&\\x8d\\x1b7\\xb6\\x91#G\\xda\\xfe\\xfb\\xef_a\\xb9\\xffC\\x0f\\xebW_}\\xb5=\\xfe\\xf8\\xe3\\xfe\\xe2\\xd4w\\x05\\x10\\xc3\\x87\\x0f\\xb7\\x16-Z\\xa4\\x96\\x85\\xbf(\\xb0\\xb9\\xf4\\xd2K\\xed\\x9dw\\xde\\t\\xaf\\xca\\xfa\\xdb\\x0f(\\x0e>\\xf8`{\\xf0\\xc1\\x07M\\x9f\\xe9\\xca\\x8b/\\xbeh\\x17\\\\p\\x81\\xad[\\xb7.\\xb5\\x89ld\\xa4r\\xfd\\xf5\\xd7\\xdb\\x981cR\\xeb\\xc2_\\xb6\\xd8b\\x0b\\x9b5k\\x96m\\xb9\\xe5\\x96.H9\\xe6\\x98cLAD.\\xd7\\xde\\xb1c\\xc7\\n\\xc1J)\\xf8\\x86\\xeb\\xcfo\\x04\\x10@\\x00\\x01\\x04\\x10@\\x00\\x81\\xda#\\x90\\n(\\x14\\x10\\xfc\\xe4\\'?q5\\xef\\xdf\\xbf\\xbfm\\xb5\\xd5V\\xa6nK7\\xdf|sJc\\xee\\xdc\\xb9\\xf6\\xc6\\x1bo\\xa4~\\xeb\\xc1y\\xd2\\xa4I\\xee-\\xbf\\x16~\\xf9\\xe5\\x976m\\xda4{\\xf5\\xd5Wm\\xe7\\x9dwv\\x0f\\xed\\x07\\x1cp\\x80k\\xed\\xd0\\xfa~\\xfd\\xfa\\xb9\\x16\\x0b}\\x0fJ\\xeb\\xd6\\xad\\xdd16\\xdf|s\\xfb\\xe1\\x87\\x1f\\xec\\x91G\\x1e\\xb1\\x7f\\xfd\\xeb_\\xf6\\xd5W_\\xb9\\xd6\\x8a\\x83\\x0e:\\xc8\\x8e=\\xf6XS\\xab\\x82\\xde\\xe4+\\x10\\xc8\\xb7+U\\x10P\\xe8\\xcd\\xff\\xd4\\xa9S\\xed\\xd4SOu\\xad\\x00:\\xcf\\xcb/\\xbfl;\\xec\\xb0\\x83u\\xe9\\xd2\\xc5\\x05Ej\\x99Qy\\xee\\xb9\\xe7\\xec\\xfc\\xf3\\xcf\\x0f.\\xd3\\x9a6mj\\xaf\\xbd\\xf6\\x9a\\xab\\xcb\\xcc\\x993\\xadg\\xcf\\x9e\\xa9u\\xe1/\\xdd\\xbaus\\x01\\x92\\x96\\x0f\\x192\\xc4F\\x8d\\x1ae\\xf5\\xea\\xd5s\\xad\\x0fZ\\xa6\\xa1k\\xd5\\xa2\\xa3\"?\\x8d\\xaa\\x15\\x94\\x89\\x13\\'\\xa6\\x02\\x99R\\xf1\\r\\xae\\x9dO\\x04\\x10@\\x00\\x01\\x04\\x10@\\x00\\x81\\xda\\'\\x90\\n(\\xfc\\xaa\\xe7:l\\xecUW]e}\\xfa\\xf4q\\xbb\\xbe\\xf5\\xd6[\\xa6\\xdc\\x80o\\xbf\\xfd\\xd6?\\x94\\xebFu\\xeb\\xad\\xb7\\xbae\\xea&t\\xc4\\x11G\\xd8\\xca\\x95+S\\xdb\\x0c\\x1b6,\\xf5\\xa0\\xad@f\\xfc\\xf8\\xf1\\xa9u\\xc1\\x97k\\xae\\xb9\\xc6\\xce=\\xf7\\\\\\xf7\\xb3\\x90aV\\x83\\x80\"8\\x9e\\xea\\xa7k\\rwkRP\\xf5\\xd8c\\x8f\\xb998\\xb4\\xad\\x02\\n\\x05\\x16AQ`\\xd0\\xb5kW\\x17\\xf8(\\xd0I\\xd7\\xedI\\xdd\\xa3\\x8e;\\xee8w|\\x05@\\xe1\\xedr\\xcd\\xa1(\\x15\\xdf\\xc0\\x87O\\x04\\x10@\\x00\\x01\\x04\\x10@\\x00\\x81\\xda\\'Pp@\\xa1\\x16\\x0c\\xe56\\xe8\\xcd\\xfb\\xfc\\xf9\\xf3\\xed\\xa4\\x93NJ;A\\xdb\\x95W^\\xe9\\xf2#\\xc4\\x1b\\x0e\\x08\\x94W\\xb0\\xd7^{\\xb9\\x87o}\\xfa\\xdd\\x8c\\x82\\xdb\\xa1\\x1c\\x82\\xe3\\x8f?\\xde\\xb5\\x0e,X\\xb0\\xc0f\\xcc\\x98\\x11\\xac\\xca\\xe9\\xd3\\x0f(\\xd4\\xf2\\xa1c)w!\\xaa\\x9cu\\xd6Y\\xaeK\\x93\\xd6)\\xf08\\xed\\xb4\\xd3R\\x9b\\x1d}\\xf4\\xd1v\\xcf=\\xf7\\xb8\\xdf\\xe9\\xba=\\xf9\\xdd\\x9d^z\\xe9%;\\xe7\\x9csR\\xfb\\x07_r\\t(J\\xc97\\xa8\\x17\\x9f\\x08 \\x80\\x00\\x02\\x08 \\x80\\x00\\x02\\xb5O\\xa0\\xe0\\x80\\xa2{\\xf7\\xeev\\xe7\\x9dw:\\xb1\\xdbn\\xbb-\\xd5\\xc5\\'\\x8aP]\\x8a\\x82 `\\xfa\\xf4\\xe9v\\xe6\\x99g\\xa66\\xbb\\xf7\\xde{\\xed\\xa8\\xa3\\x8er\\xbf\\x95\\x90\\xac \\xa5\\xba\\x8b\\x1fP\\xa8\\xb5C\\xad\\x10\\x99\\xca\\x0b/\\xbc`\\xbb\\xed\\xb6\\x9b\\x0br\\xd4=)H\\x92V\\xb2\\xb9\\xba;)\\x81<]\\xb7\\'\\xd5EuR\\xb9\\xf8\\xe2\\x8b]\\x82w\\xf8\\\\\\xb9\\x04\\x14\\xa5\\xe4\\x1b\\xae\\x1f\\xbf\\x11@\\x00\\x01\\x04\\x10@\\x00\\x01\\x04j\\x8f@\\xc1\\x01\\xc5\\xd0\\xa1C].\\x82\\xa8\\x94\\xb0\\xac|\\x84LE]\\xa2\\xb6\\xddv[\\xfb\\xe6\\x9bo*$p\\xfb\\xc9\\xce\\xca\\xd9\\xf8\\xe3\\x1f\\xff\\xe8\\xf2\\n\\xd2\\xb5 d:G\\xbau~@\\xa1\\xd1\\x9df\\xcf\\x9e\\x9dnS\\xb7\\\\\\xad\\x10j\\x8dPQ\\x0b\\x83Z\\x1a\\x82\\xa2\\x19\\xae\\x15\\x10(\\xdf\\xe3\\xc0\\x03\\x0f\\xac\\xd4\\xd2\\xa1Q\\xb0\\xd4\\x02\\xa2\\xba(\\x18\\x89jq\\xc9%\\xa0(%\\xdf\\xc0\\x86O\\x04\\x10@\\x00\\x01\\x04\\x10@\\x00\\x81\\xda\\'Pp@\\xf1\\xc0\\x03\\x0f\\xb8Df\\x91\\xa9\\x1b\\xd1\\xd2\\xa5K3\\xea\\xb5m\\xdb6\\xb5\\xbeM\\x9b6\\xa6\\x91\\x9fT\\xd4eJ\\x0f\\xf0\\xca\\xad\\x08\\x8a\\x1e\\xd6\\xe7\\xcc\\x99\\xe3\\x12\\xc0_y\\xe5\\x15\\x17\\xac\\x84\\xf3\\x1d\\x82ms\\xf9\\x0c\\x02\\n\\x1dW\\xdd\\xaa\\xd6\\xae]\\x9bq7\\xb5,\\xe8\\x9f\\x8a\\xbakM\\x980!\\xb5\\xfd~\\xfb\\xed\\x97\\xfa\\x1d\\xee\\xf6\\xe4wwR.\\x88rB\\xa2J.\\x01E)\\xf9F\\xd5\\x91e\\x08 \\x80\\x00\\x02\\x08 \\x80\\x00\\x02\\xb5C\\xa0\\xe0\\x80BC\\xc0\\xee\\xb3\\xcf>\\x05)i\\xe4\\'MZ\\x17\\x14\\xe5H(\\x01\\xfa\\xe4\\x93O6\\xcd\\x81\\x11.\\xdaV\\xb9\\x16w\\xdf}\\xb7k\\xe1\\x08\\xaf\\xcf\\xf6;\\x08(4\\nU\\xa6\\xe1b\\x83\\xe3h\\x04&\\xb5\\x94\\xa8\\xdct\\xd3M\\xa6\\x87{\\xbf<\\xff\\xfc\\xf3\\xd6\\xb2eK7\\xea\\x93\\xe6\\xa4\\x08\\x8a\\xdf\\xddI#I\\xf9#b\\x05\\xdb\\xe83\\x97\\x80\\xa2\\x94|\\xfd\\xba\\xf1\\x1d\\x01\\x04\\x10@\\x00\\x01\\x04\\x10@\\xa0v\\t\\x14\\x1cPhx\\xd7`\\xe26\\xcdM\\x91m(W\\xcd\\xf0\\x1c\\xb42h\\xb2\\xbb\\xf0hP\\x01{\\xfb\\xf6\\xed\\xed\\xb0\\xc3\\x0e3\\x05\\x1d\\x9a\\xe4N\\xc3\\xc9\\x06E\\x13\\xcf)\\xff\\xc2\\x0fF\\x82u\\x99>\\x83\\x80B\\xad\"\\x9a\\xf3\\xe2\\xfb\\xef\\xbf\\xcf\\xb4\\xb9\\x1b\\xb9J#,\\xa9D\\x8d<\\xa59*.\\xbf\\xfc\\xf2J\\xdd\\x9e\\x82\\xeeN\\x9f\\x7f\\xfe\\xb9u\\xee\\xdc9\\xed,\\xdf\\xb9\\x04\\x14\\xa5\\xe4\\x9b\\x11\\x93\\x95\\x08 \\x80\\x00\\x02\\x08 \\x80\\x00\\x02\\x89\\x16(8\\xa0\\xb8\\xe3\\x8e;\\xdcl\\xd3\\xd2)V2u\\x83\\x06\\r\\xdc0\\xad\\x97]v\\x99k\\x11\\xd0\\xb9\\x9ex\\xe2\\t\\xd3\\xef|J\\x10Ph\\x1fM2\\xa7\\xc0$SQ\\xb2\\xb9\\x92\\xa2U4\\\\\\xad\\x92\\xb4\\xfd\\xd2\\xbcys7\\x7f\\x85\\xe6\\xc6\\x08\\xba=)\\xf0QB\\xb9&\\xb3\\xd3\\xb0\\xb1A\\x0b\\x87\\xbf_\\xf0=\\x97\\x80\\xa2\\x94|\\x83z\\xf1\\x89\\x00\\x02\\x08 \\x80\\x00\\x02\\x08 P\\xfb\\x04\\n\\x0e(\\xf4\\xa0\\xad\\x11\\x93T\\x06\\r\\x1ad\\x0fn\\x9c}\\xbaXE#.\\xfd\\xf3\\x9f\\xff4\\xb5r\\xe4\\xdam\\xc9\\xbf\\x16?\\xa0\\xd0l\\xdb\\xea>\\x95\\xa9<\\xfd\\xf4\\xd3\\xa9I\\xfe\\xd4\\n\\xb3p\\xe1\\xc2J\\x9b\\x8f\\x1d;\\xd64\\x17\\x85&\\xbbS\\xb7\\'\\xbf\\xbb\\x93&\\xc9\\xd3\\xcc\\xde\\xe9J.\\x01E)\\xf9\\xa6\\xab\\'\\xcb\\x11@\\x00\\x01\\x04\\x10@\\x00\\x01\\x04\\x92/\\x10\\x19Ph\\xa6\\xeb\\xed\\xb7\\xdf\\xdeuK\\xf2\\x93\\xa9}\\x0e\\xcd\\x84\\xadY\\xa6U4j\\x92\\xe6k\\x88\\x1a\\xd1(\\xd8G\\xa3&\\xe9-\\xbef\\xbb\\x0e\\xde\\xf87n\\xdc\\xd8\\x94\\xe4\\xac\\xa2nB\\x9a\\x89;]\\t\\x1e\\xf2\\x95X\\xad\\x19\\xbd\\x83\\xa4\\xeet\\xdb\\xfb\\xcb\\xfd\\x80\\xe2\\xa3\\x8f>rsf\\xa4\\xeb\\xa2\\xe5\\x07\\x06\\xef\\xbf\\xff~jFk\\xffx\\xfa\\xde\\xa3G\\x0f\\xd3\\x84}\\xc1hO\\x9a_C\\xa3;\\xa9\\x95B-6\\x99\\x8a\\xac4\\x83\\xb6\\xca-\\xb7\\xdcb\\xf7\\xddw_\\xa5\\xcdK\\xc9\\xb7\\xd2\\xc5\\xb3\\x00\\x01\\x04\\x10@\\x00\\x01\\x04\\x10@\\xa0\\xd6\\x08D\\x06\\x14\\x13\\'Nt\\xf9\\x0bRP\\x82\\xb2\\x1e\\xac\\xa3\\xca\\xc8\\x91#\\xed\\xf0\\xc3\\x0fw\\xab\\xa6N\\x9dj\\xfd\\xfa\\xf5s\\x0f\\xd8\\xe1m\\xfb\\xf6\\xed\\xebFK\\xd2r\\x8d\\xe8t\\xfb\\xed\\xb7\\xbbM\\xd4=Ho\\xf85\\x89\\x9bf\\xcfV7\\xa3O?\\xfd\\xd4\\xad\\xf3\\xff\\xec\\xbe\\xfb\\xeen\\xc6ju1\\x9a7o\\x9e\\x1dy\\xe4\\x91\\xfe\\xea\\xac\\xdf\\xfd\\x80B\\x1bO\\x9e<95\\x8a\\x93\\xbf\\xb3ZB&M\\x9a\\xe4\\xaeG\\xcb3\\xcdY\\xa1k\\xd7\\xc4w\\xfaT\\xe2\\xf6%\\x97\\\\b\\r\\x1b6\\xb4k\\xaf\\xbd\\xd6\\x1e}\\xf4Q\\xff\\xb0\\x95\\xbew\\xea\\xd4\\xc9\\xfe\\xf2\\x97\\xbf\\xb8\\xe5J\\xf0>\\xef\\xbc\\xf3*m\\xa3\\x05\\x9b\\x8ao\\x93&M\\\\73\\x05\\x97JPWpGA\\x00\\x01\\x04\\x10@\\x00\\x01\\x04\\x10@@\\x02\\x91\\x01\\x85\\xde\\x9ak\\xc4%\\x15%@?\\xf5\\xd4S\\xa6\\t\\xe94K\\xf5\\x07\\x1f|\\xe0\\x96\\xeb\\x8fZ1\\x14Hl\\xbd\\xf5\\xd6n\\xd9\\xbb\\xef\\xbe\\xeb\\xe6lP\\x0b\\x87Z+~\\xfc\\xe3\\x1f\\xbb\\xb7\\xf5\\x9a\\xafAE]\\x87\\xf4\\x16\\xdf\\x1fbV9\\x08\\x9a\\x9dZE\\xc1\\x84\\x92\\x91\\xf5\\xa0\\xae\\x96\\x04\\xbd\\xa5\\xd7\\xa8LW\\\\q\\x85\\x9bLN\\xdb(\\x7fBy\\x14\\xf9\\x94 \\xa0P\\xeb\\xc8\\xacY\\xb3\\\\^\\xc6\\xdbo\\xbf\\xedZJ\\xd4\\xca\\xb2\\xe3\\x8e;\\xba$\\xea_\\xfc\\xe2\\x17\\xd6\\xb4iSwh\\xd5E\\xb3\\x7f\\x97\\x97\\x97\\xa7=\\x95\\x02\\xa3\\x13O<1\\xb5\\xfe\\xbb\\xef\\xbessO\\xe8<\\x99\\x8a\\x9f\\x83\\xa1\\xed\\x14T\\xc9\\xf8\\xeb\\xaf\\xbf\\xb6i\\xd3\\xa6\\xa5\\x12\\xd67\\x15_\\xf9+XT\\xd1\\x90\\xbb\\xea\\xea\\x95\\xad\\x8enc\\xfe \\x80\\x00\\x02\\x08 \\x80\\x00\\x02\\x08$^ 2\\xa0\\xd0\\xd0\\xad\\x1a\\x89\\xc9\\x1faI\\x12\\xe3\\xc6\\x8d3\\x8d\\xe8\\xe4\\x17\\xcd\\xebp\\xff\\xfd\\xf7\\xbb\\xe0\\xc2_\\x1e\\xfe\\xae`\\xa2g\\xcf\\x9e6\\x7f\\xfe\\xfc\\n\\xab4\\xd9\\x9d&qSW#\\xbf\\xe8A^-\\x12AQ\\x17%u+\\xd2p\\xaa\\xf9\\x96 \\xa0\\xd0dy\\xcaoP\\x0bL\\xeb\\xd6\\xad\\xd3\\x1eFI\\xdb\\xbdz\\xf5\\xb2E\\x8b\\x16\\xa5\\xddF+\\x14\\xec\\x8c\\x193&\\xb5\\x8d\\xde\\xdc_x\\xe1\\x85\\xa9\\xdf\\x99\\xbe\\xf8\\x13\\xd7\\xf9\\xdbu\\xec\\xd8\\xb1\\xc2y7\\x05_?\\xc0T\\x17/\\x8d`\\xf5\\xc5\\x17_\\xf8\\x97\\xcdw\\x04\\x10@\\x00\\x01\\x04\\x10@\\x00\\x81Z*\\x10\\x19P\\xc8\\xe2\\xa7?\\xfd\\xa9k\\r\\xd0\\xf0\\xad\\xea\\xca\\xa3\\xa2Dd=\\xd4\\x87\\xcbv\\xdbmg\\xbd{\\xf7v\\xad\\x11\\xca\\x8b\\xf0\\x8b&\\xbdS\\xf7\\x1e=x\\xa7\\xcb[\\xd0\\xf6j\\x11\\xd1\\xac\\xd9j\\xd5\\xa8_\\xbf~\\xea\\x10J\\xc2~\\xef\\xbd\\xf7l\\xd8\\xb0a\\xf6\\xc9\\'\\x9f\\xa4\\x96\\xe7\\xf3\\xc5\\x0f(4{\\xb5\\xba)\\xa9\\x1b\\x96f\\xc1\\xd6HRAY\\xbe|\\xb9\\xbbN\\x05H\\xea\\x82\\x95\\xad(I\\\\-\\nj\\xe1P\\x89\\x1a\\x11*\\xdd14\\t\\x9e\\x82\\x16%hk\\xff\\xbau\\xeb\\xbaMu}\\xe1Y\\xc2k\\xdaW\\xc1\\x97\\xba\\xaa\\xed\\xb2\\xcb.\\xf6\\xd0C\\x0f\\xb9\\x000]\\xbdX\\x8e\\x00\\x02\\x08 \\x80\\x00\\x02\\x08 P\\xbb\\x04\\xd2\\x06\\x14>C\\xa3F\\x8d\\\\k\\x85\\xba?\\xe9\\ru\\xba\\xa2\\x87\\xe2\\x9dv\\xda\\xc9\\xfdS\\x97\\'ua\\xd2Cz>E\\xc7P.\\x83\\xba\\x1e)I{\\xd9\\xb2e\\xf9\\xec\\x9e\\xd7\\xb6:W\\x8b\\x16-\\xdc\\x03\\xbd\\x02\\x17\\xbdu\\xcf6GE\\xf8\\x04J0\\xd7\\xf5\\xcaF]\\xbb\\x82\\xb96\\xc2\\xdbe\\xfa\\xad\\xebh\\xd6\\xac\\x99\\x0bb2\\x05]5\\xed\\xab\\\\\\x97U\\xabVe\\xaa\\n\\xeb\\x10@\\x00\\x01\\x04\\x10@\\x00\\x01\\x04j\\x99@N\\x01E-3\\xc9\\xb9\\xba\\x1a\\xa1j\\xc2\\x84\\tn\\xfb\\x11#F\\xb8V\\x94\\x9cwfC\\x04\\x10@\\x00\\x01\\x04\\x10@\\x00\\x01\\x04\\x12 @@Q\\xe0MTk\\xc1\\xc3\\x0f?\\xec\\x12\\x94\\xd5*\\xa1\\xdc\\x0c\\xf2\\n\\n\\xc4d7\\x04\\x10@\\x00\\x01\\x04\\x10@\\x00\\x81\\x92\\x15 \\xa0\\xc8\\xe3\\xd6)\\x97A\\x13\\xdd\\xb5i\\xd3\\xc6\\xbau\\xeb\\xe6\\xba:iw\\xe5\\x88\\x0c\\x1e<8\\x8f#\\xb1)\\x02\\x08 \\x80\\x00\\x02\\x08 \\x80\\x00\\x02\\xc9\\x10 \\xa0\\xc8\\xe3>\\xb6o\\xdf\\xde\\xc6\\x8f\\x1f_a\\x0f\\x8d:5`\\xc0\\x00\\xd3\\x90\\xb1\\x14\\x04\\x10@\\x00\\x01\\x04\\x10@\\x00\\x01\\x04j\\x9b\\x00\\x01E\\x1ew\\xbc]\\xbbv\\xa6\\\\\\t%\\x9a+a|\\xc6\\x8c\\x19\\x95\\x02\\x8c<\\x0e\\xc7\\xa6\\x08 \\x80\\x00\\x02\\x08 \\x80\\x00\\x02\\x08\\x94\\xbc\\x00\\x01E\\xc9\\xdfB*\\x80\\x00\\x02\\x08 \\x80\\x00\\x02\\x08 \\x80@\\xcd\\t\\x10P\\xd4\\x9c=gF\\x00\\x01\\x04\\x10@\\x00\\x01\\x04\\x10@\\xa0\\xe4\\x05\\x08(J\\xfe\\x16R\\x01\\x04\\x10@\\x00\\x01\\x04\\x10@\\x00\\x01\\x04jN\\x80\\x80\\xa2\\xe6\\xec93\\x02\\x08 \\x80\\x00\\x02\\x08 \\x80\\x00\\x02%/@@Q\\xf2\\xb7\\x90\\n \\x80\\x00\\x02\\x08 \\x80\\x00\\x02\\x08 Ps\\x02\\x04\\x145g\\xcf\\x99\\x11@\\x00\\x01\\x04\\x10@\\x00\\x01\\x04\\x10(y\\x01\\x02\\x8a\\x92\\xbf\\x85T\\x00\\x01\\x04\\x10@\\x00\\x01\\x04\\x10@\\x00\\x81\\x9a\\x13 \\xa0\\xa89{\\xce\\x8c\\x00\\x02\\x08 \\x80\\x00\\x02\\x08 \\x80@\\xc9\\x0b\\x10P\\x94\\xfc-\\xa4\\x02\\x08 \\x80\\x00\\x02\\x08 \\x80\\x00\\x02\\x08\\xd4\\x9c\\x00\\x01E\\xcd\\xd9sf\\x04\\x10@\\x00\\x01\\x04\\x10@\\x00\\x01\\x04J^\\x80\\x80\\xa2\\xe4o!\\x15@\\x00\\x01\\x04\\x10@\\x00\\x01\\x04\\x10@\\xa0\\xe6\\x04\\x08(j\\xce\\x9e3#\\x80\\x00\\x02\\x08 \\x80\\x00\\x02\\x08 P\\xf2\\x02\\x04\\x14%\\x7f\\x0b\\xa9\\x00\\x02\\x08 \\x80\\x00\\x02\\x08 \\x80\\x00\\x025\\'@@Qs\\xf6\\x9c\\x19\\x01\\x04\\x10@\\x00\\x01\\x04\\x10@\\x00\\x81\\x92\\x17 \\xa0(\\xf9[H\\x05\\x10@\\x00\\x01\\x04\\x10@\\x00\\x01\\x04\\x10\\xa89\\x01\\x02\\x8a\\x9a\\xb3\\xe7\\xcc\\x08 \\x80\\x00\\x02\\x08 \\x80\\x00\\x02\\x08\\x94\\xbc\\x00\\x01E\\xc9\\xdfB*\\x80\\x00\\x02\\x08 \\x80\\x00\\x02\\x08 \\x80@\\xcd\\t\\x94\\x1dz\\xe8\\xa1\\xe5u\\xeb\\xd6\\xadt\\x05eee\\x95\\x96U\\xd7\\x82B\\x8e]^^^\\xf0\\xe9\\x0b9_\\xc1\\'\\xcbc\\xc7\\xaa^WUL\\xf2\\xb8\\xccMf\\xd3\\x1f~\\xf8\\xc16l\\xd8`\\xeb\\xd6\\xad\\xb3\\xb5k\\xd7\\xda\\x9a5k6\\x99k\\xe3B\\x10@\\x00\\x01\\x04\\x10@\\x00\\x81\\xda*P\\xd6\\xb5k\\xd7\\xc2\\x9f\\xd4k\\xab\\x1a\\xf5\\xaeq\\x01\\x05S+W\\xae\\xb4\\xe5\\xcb\\x97\\xdb\\xfa\\xf5\\xebk\\xfcz\\xb8\\x00\\x04\\x10@\\x00\\x01\\x04\\x10@\\xa0\\xb6\\n\\x10P\\xd4\\xd6;\\x9f\\x90z\\xaf^\\xbd\\xda\\x96.]JP\\x91\\x90\\xfbI5\\x10@\\x00\\x01\\x04\\x10@\\xa0\\xf4\\x04\\x08(J\\xef\\x9eq\\xc5!\\x81\\x15+V\\xd8\\x92%KBK\\xf9\\x89\\x00\\x02\\x08 \\x80\\x00\\x02\\x08 \\x10\\x87\\x00\\x01E\\x1c\\xca\\x9c\\xa3\\xa8\\x02\\xca\\xadX\\xb4h\\x119\\x15EU\\xe6\\xe0\\x08 \\x80\\x00\\x02\\x08 \\x80@\\xb4\\x00\\x01E\\xb4\\x0bKKL@\\xb9\\x14\\xea\\xfaDA\\x00\\x01\\x04\\x10@\\x00\\x01\\x04\\x10\\x88W\\x80\\x80\"^o\\xceV$\\x01\\x8d\\xfc\\xb4p\\xe1\\xc2\"\\x1d\\x9d\\xc3\"\\x80\\x00\\x02\\x08 \\x80\\x00\\x02\\x08\\xa4\\x13 \\xa0H\\'\\xc3\\xf2\\x92\\x13\\xf8\\xef\\x7f\\xff[r\\xd7\\xcc\\x05#\\x80\\x00\\x02\\x08 \\x80\\x00\\x02\\xa5.@@Q\\xeaw\\x90\\xebO\\t\\x10P\\xa4(\\xf8\\x82\\x00\\x02\\x08 \\x80\\x00\\x02\\x08\\xc4&@@\\x11\\x1b5\\'*\\xb6\\x00\\x01E\\xb1\\x859>\\x02\\x08 \\x80\\x00\\x02\\x08 PY\\x80\\x80\\xa2\\xb2\\tKJT\\x80\\x80\\xa2Do\\x1c\\x97\\x8d\\x00\\x02\\x08 \\x80\\x00\\x02%-@@Q\\xd2\\xb7\\xaf\\xf0\\x8b\\xdfg\\x9f}l\\xd0\\xa0AVVVf\\xd3\\xa7O\\xb7a\\xc3\\x86\\x15~\\xb0<\\xf6\\xacS\\xa7\\x8e\\xdd}\\xf7\\xdd\\xd6\\xa2E\\x0b7\\xcc\\xeb\\x85\\x17^\\xe8\\x86|\\xcd\\xe3\\x10i7%\\xa0HK\\xc3\\n\\x04\\x10@\\x00\\x01\\x04\\x10@\\xa0h\\x02\\x04\\x14E\\xa3\\xddt\\x0f\\xbc\\xf5\\xd6[\\xdb\\xc8\\x91#m\\xbb\\xed\\xb6\\xb3\\xef\\xbf\\xff\\xde\\xce:\\xeb,\\xfb\\xf2\\xcb/\\xf3\\xba\\xe0\\xcd7\\xdf\\xdc\\x1a4h`\\xdf|\\xf3M^\\xfbi\\xe3\\x8e\\x1d;\\xda\\x90!C\\xdc~\\xb3g\\xcf\\xb6\\xcb/\\xbf\\xdc4\\x97DU\\x0b\\x01EU\\x05\\xd9\\x1f\\x01\\x04\\x10@\\x00\\x01\\x04\\x10\\xc8_\\x80\\x80\"\\x7f\\xb3\\x92\\xdf\\xe3\\xfa\\xeb\\xaf\\xb7N\\x9d:\\xb9z\\x8c\\x1d;\\xd6F\\x8f\\x1e\\x9dS\\x9d\\x14@\\xfc\\xe67\\xbf\\xb1\\xbd\\xf7\\xde\\xdbZ\\xb5je\\x9bm\\xb6\\x99-X\\xb0\\xc0\\xfe\\xfd\\xef\\x7f\\xdb\\xdf\\xff\\xfew\\x9b7o^N\\xc7\\xd1F\\n(\\x14X\\xa8\\x8c\\x1a5\\xca\\x1e}\\xf4Q\\xf7\\xbd*\\x7f\\x08(\\xaa\\xa2\\xc7\\xbe\\x08 \\x80\\x00\\x02\\x08 \\x80@a\\x02\\x04\\x14\\x85\\xb9\\xe5\\xbc\\xd7\\xef~\\xf7;\\xeb\\xde\\xbd\\xbb\\xdb\\xbeO\\x9f>6w\\xee\\xdc\\x9c\\xf7-\\xc6\\x86-[\\xb6t\\x0f\\xf0:\\xf6\\xe2\\xc5\\x8b\\xadW\\xaf^\\xa69\\x1c\\xb2\\x95m\\xb6\\xd9\\xc6\\x86\\x0e\\x1dj{\\xec\\xb1G\\xe4\\xa6k\\xd6\\xac\\xb1\\x81\\x03\\x07\\xda;\\xef\\xbc\\x13\\xb9>\\xbcp\\xe7\\x9dw\\xb6\\x07\\x1ex\\xc0\\x05%+W\\xae\\xb4\\xd3N;-\\xa7\\xeb\\x08\\x1f\\xc7\\xffM@\\xe1k\\xf0\\x1d\\x01\\x04\\x10@\\x00\\x01\\x04\\x10\\x88G\\x80\\x80\\xa2\\xc8\\xce\\x9bZ@q\\xf5\\xd5W\\xdb\\x91G\\x1e\\xe9j}\\xff\\xfd\\xf7\\xdb_\\xff\\xfa\\xd7\\xac\\x02\\xea\\xde4b\\xc4\\x08\\x97\\xf7\\xa0\\x8d\\xe7\\xcf\\x9fo/\\xbf\\xfc\\xb2\\xeb\\xeet\\xc0\\x01\\x07\\xa4Z\\x1a\\xd4}\\xea\\xca+\\xaf\\xb4\\xf7\\xde{/\\xeb1\\xb5\\xc1\\xb5\\xd7^k]\\xbbvu\\xdb\\xdes\\xcf=6q\\xe2\\xc4\\x9c\\xf6K\\xb7\\x11\\x01E:\\x19\\x96#\\x80\\x00\\x02\\x08 \\x80\\x00\\x02\\xc5\\x13 \\xa0(\\x9e\\xad;\\xf2\\xa6\\x14P\\xa8\\x95a\\xfc\\xf8\\xf1\\xaeU@\\x17w\\xc6\\x19g\\xe4\\x94;\\xd1\\xad[7\\x17(h\\x1fuk\\xba\\xf8\\xe2\\x8b+\\xb4&\\xf4\\xee\\xdd\\xdbN?\\xfdt\\xad\\xb6\\xd7^{\\xcd\\x05\\n\\xeeG\\x96?\\x87\\x1cr\\x88K\\x0c\\xd7f\\xea:u\\xe6\\x99gf\\xd9#\\xf3j\\x02\\x8a\\xcc>\\xacE\\x00\\x01\\x04\\x10@\\x00\\x01\\x04\\x8a!\\x901\\xa0\\xd0\\x08@\\xdbo\\xbf\\xbd\\xed\\xb8\\xe3\\x8e\\xb6a\\xc3\\x06\\xfb\\xec\\xb3\\xcfl\\xf9\\xf2\\xe5\\xc5\\xb8\\x8e\\xb4\\xc7\\xdcv\\xdbm\\xad^\\xbdz\\x05\\x8d\\x04T\\xb7n]k\\xde\\xbc\\xb9\\xbb\\xf6\\xaf\\xbe\\xfa\\xca\\xd6\\xaf_\\x9f\\xf6<\\x99V(W`\\xcb-\\xb7\\xb4\\x15+Vd\\xda,r]u\\x06\\x14\\xcaaP\"\\xf5w\\xdf}\\xe7\\xba+\\xe5[\\x1f\\xe5M(\\x7fBe\\xce\\x9c9\\xa6\\x11\\x96r)\\xc3\\x87\\x0fw]\\x9d\\xca\\xcb\\xcb\\xed\\xd7\\xbf\\xfeu\\xa5 D\\xffO\\xd4\\xc2\\x10t\\x87\\xca5P\\xd1}U\\xab\\x84lUt\\xec\\x85\\x0b\\x17\\xe6rI\\x91\\xdb\\x10PD\\xb2\\xb0\\x10\\x01\\x04\\x10@\\x00\\x01\\x04\\x10(\\xaa@\\xd9\\xb2e\\xcb\\xca\\xfd3\\xe8\\xed\\xf3\\x17_|a\\x87\\x1dv\\x98\\x9d{\\xee\\xb9\\xee\\x81<X\\xbfh\\xd1\"\\xd7\\xd7=\\xf8\\xad@CC\\x80\\xaa\\xcc\\x9c9\\xd3n\\xb9\\xe5\\x96`U\\x85\\xcf\\xce\\x9d;\\xdbE\\x17]\\xe4\\x96=\\xfc\\xf0\\xc3\\xf6\\xe4\\x93OVX\\xafs\\xea|*g\\x9f}\\xb6{\\xf0\\xd7\\xc8C\\xfb\\xef\\xbf\\xbf\\xed\\xb6\\xdbnnhS\\xf5\\xd1\\x9f:u\\xaa\\xa9\\x9b\\xce\\xb7\\xdf~[a\\xff\\xf0\\x8f\\xc3\\x0f?\\xdc\\xbd1W?}\\x05\\x03*\\x1aE\\xe8\\x83\\x0f>p\\xfd\\xf65\\xb2P\\xb6\\xa2@J\\xd7\\xd0\\xbauk\\xd7\\xd5G\\xc7\\xd15|\\xf2\\xc9\\'6n\\xdc8W\\xdf\\xa8c\\x9c|\\xf2\\xc9v\\xcc1\\xc7\\xa4V5i\\xd2\\xc44\\xaa\\x92\\x8a\\x1e\\x96\\x15\\x0c\\x84\\x8blV\\xaf^\\x1d^\\x9c\\xfa\\xdd\\xa5K\\x17;\\xe5\\x94SR\\x0f\\xecZ\\xa1`B\\xc3\\xbd>\\xf8\\xe0\\x83\\xae\\x0bRj\\xe3\\x0c_\\xfc\\xe0\\xe6\\xde{\\xefu\\x89\\xd4\\x196w\\xab\\xda\\xb4ic\\xdaV\\xe5\\xc3\\x0f?\\xb4\\x0b.\\xb8\\xc0}\\x0f\\xff9\\xef\\xbc\\xf3R\\xff7\\xe4\\xa3\\xfc\\x88\\\\\\xca\\x80\\x01\\x03\\xec\\x88#\\x8ep\\x9b\\xdev\\xdbm\\xf6\\xcc3\\xcf\\xe4\\xb2[\\xe46\\x04\\x14\\x91,,D\\x00\\x01\\x04\\x10@\\x00\\x01\\x04\\x8a*P\\xb6\\xf1\\xads\\x85\\x80\\xe2\\x9cs\\xce\\xb1]w\\xdd\\xd5\\xbd\\xc9\\xd6\\x9bg\\xbf\\x84\\x03\\n=\\xb0?\\xf4\\xd0Cn\\x93W^y\\xc5n\\xb8\\xe1\\x06\\x7f\\xf3\\xd4w\\xf5\\xd9W\\xdf}\\x95\\xa8~\\xfb\\xd7\\\\s\\x8d)\\x08P\\xd1\\x83\\xb3\\xfa\\xe1w\\xe8\\xd0\\xc1\\xfd\\x0e\\xff\\xf9\\xcf\\x7f\\xfe\\xe3\\x1ejC\\x97\\xed6\\xd3C\\xff\\x8d7\\xdeh\\x07\\x1ex`x\\xb7\\n\\xbf5d\\xeac\\x8f=Va\\x99\\xffC\\x01\\xd0e\\x97]f\\r\\x1b6\\xf4\\x17W\\xf8\\xfe\\xf8\\xe3\\x8f\\xa7\\x82)\\x7f\\x85\\x82\\xb0\\x9e={\\xfa\\x8b\\xb2~?\\xf1\\xc4\\x13\\xd3\\xb6~\\x9ct\\xd2Ii\\x1f\\xe2u\\xe0%K\\x96\\x98\\x02\\x85\\\\\\x86}\\xd5hJJ\\xcaV\\xb9\\xe4\\x92Kr\\xcau8\\xfa\\xe8\\xa3\\xed\\x8a+\\xaep\\xfb(HP\\xb0\\x10.j\\x99P+FP\\xdex\\xe3\\r\\xeb\\xdf\\xbf\\x7f\\xf03\\xe3\\xa7\\xea\\x1e\\xb4\\x94(`\\xac\\xca|\\x18\\x04\\x14\\x19\\xa9Y\\x89\\x00\\x02\\x08 \\x80\\x00\\x02\\x08\\x14E\\xa0lc\\xeb@\\xb9\\x1eZ\\x83\\x16\\x82\\xdf\\xfe\\xf6\\xb7v\\xeb\\xad\\xb7\\x9a\\xfa\\xdb\\xeb-\\xb8\\xfa\\xb6\\xeba\\xb5Q\\xa3F\\xeeM\\xbb\\x86\\r\\rJ1\\x02\\n%\\xfb\\x1ez\\xe8\\xa1\\xeeM\\xb5\\xba\\xe5h\"\\xb4\\xf6\\xed\\xdb\\xa7\\xaeO\\xe7\\xd6\\xf5=\\xfb\\xec\\xb3\\xc1e\\xa4>\\xd5\\x8f_\\xfd\\xf9U\\xd4\\x8a\\xa1\\xa1H\\xd5*\\xa1nB:\\xa6\\x12\\x88\\x15t(\\x18\\xd1\\xdc\\x07\\xef\\xbe\\xfbnj\\xdf\\xe0\\x8b\\xbaX)Q9\\xd8n\\xca\\x94)\\xf6\\xf6\\xdbo\\xbb\\x16\\x0e\\xf5\\xf9\\xd7q\\xb6\\xd8b\\x0b\\xb7\\xb9\\x1e\\x9a\\xf5\\xf0\\xec\\x17M\\x18\\xd7\\xae]\\xbb\\xd4\\xa2\\x83\\x0f>\\xd8\\xda\\xb6m\\xeb~?\\xf5\\xd4S\\xa6\\xaeW\\xe12a\\xc2\\x84\\xc8V\\x17\\xffa[\\xfb\\xe9\\x81\\xfe\\xa3\\x8f>\\xb2\\xad\\xb6\\xda\\xca]\\xc7\\xa9\\xa7\\x9e\\xeaZot\\x8f\\x14Tllm\\n\\x1f\\xba\\xc2\\xef\\xc9\\x93\\'\\xa7\\xba\\x17)_A\\xfbe+\\xdaN-5*\\n\\xd6t\\x7f\\xfcr\\xdcq\\xc7\\xb9\\x80@\\xdd\\x97\\x82\\xa2V\\x1c\\xb5X\\xe4R\\xf4\\xff.\\x08D5B\\x94\\xeeK\\xa1\\x85\\x80\\xa2P9\\xf6C\\x00\\x01\\x04\\x10@\\x00\\x01\\x04\\n\\x17p9\\x14zC\\xac\\x87W\\x15\\xb58\\xa8/\\xbb\\xdeDk\\x8e\\x02\\x8d\\xdc\\x13\\x14=d\\xfb\\xfd\\xf6\\x8b\\x11P\\xe8\\xf8z\\xa8|\\xff\\xfd\\xf7\\x83\\xd3\\xbaO\\xbfKMT\\xe2\\xaf\\xba\\x16=\\xf2\\xc8#\\xeea_\\xf9\\x1e\\xea\\x9a\\x13\\x1e\\xa2UC\\xa4\\x06\\x01\\xd1K/\\xbdd\\x83\\x07\\x0f\\xaep\\x0e\\xfdP\\xff\\x7f\\xb5\\xd2\\xa8D\\xbd\\x91\\xf7\\x1f\\xb0\\x15 \\xdcy\\xe7\\x9dn\\xdbt\\x7f\\xfcnF\\xb9\\xb6\\n\\xe8X\\xea&\\xf5\\xb7\\xbf\\xfd\\xcd\\xe5\\x8fh\\xf28=\\xd4kxU\\xbf\\xf8\\x01\\x87\\xba>\\xa9\\xfe\\xe9\\x8a\\xee\\xdd?\\xfe\\xf1\\x8f\\xd4ju\\xcb\\xca\\xd6uL\\x1b\\xeb\\x9a\\x8f?\\xfex\\xb7\\x9f\\xeeK0,\\xacF~RW\\xb5\\xa3\\x8e:\\xca\\xad\\xd35*\\x18SQ\\x9e\\x8d\\x82\\xd4\\\\\\xca\\x9e{\\xeei\\x7f\\xfe\\xf3\\x9f\\xdd\\xa6\\n\\x08\\xd4\\xc2Sh!\\xa0(T\\x8e\\xfd\\x10@\\x00\\x01\\x04\\x10@\\x00\\x81\\xc2\\x05*\\x05\\x14:\\xd4M7\\xddd/\\xbc\\xf0B\\xd6\\xa3\\x16#\\xa0\\xd0\\x04iA\\x9f}\\xff\\x02\\xd4b\\x12\\x0c+\\xaaaK\\x95k\\xe1\\x17\\xb5\\x1c\\xe8\\r\\xba\\xcas\\xcf=g7\\xdf|\\xb3\\xbf\\xda}W\\xcb\\xc2}\\xf7\\xdd\\xe7\\x1e\\xd6\\xf5p\\xaec\\x84\\xbbN\\xe9\\xc1[\\xc9\\xdc*Q\\x0f\\xdcj\\xedP\\xcb\\x87\\xba\\x83iB7\\x05\\x0c\\x99J\\xa1\\x01\\x85\\xdf\\xd5(]\\x17-]\\xa7\\xban)\\x98\\x8a\\n\\xb2\\xfc\\xeb\\xd26\\nPTV\\xadZ\\x95\\x9a\\x1b\\xc3\\xdf&\\xea\\xbb\\x82.\\xb5\\xb2\\xa8\\xe8a_\\x0f\\xed\\xca\\x9d\\xf9\\xfd\\xef\\x7f\\xef&\\xb7\\xd3r\\xe5V\\xe8\\xb7r \\xf4\\x7fB\\xa6\\x1a\\x19\\xca\\x0f>\\xb5]TQ\\xaeJ\\xd0\\x8dJ\\xdd\\xb7~\\xf5\\xab_Em\\x96\\xd32\\x02\\x8a\\x9c\\x98\\xd8\\x08\\x01\\x04\\x10@\\x00\\x01\\x04\\x10\\xa8V\\x81J\\x01\\x85Z\\x06\\xf4\\xe69\\x97R\\x8c\\x80Bs\\x13\\xe8\\xe18\\xaa(\\x99[\\xdd}\\x94\\x1c\\x1d\\xbc5\\x0f\\xb6\\xd3\\xc4hA7\\x1b\\x05\\x13\\n*\\x8aU\\xf4\\xa6_\\x81\\x87F\\xbd\\nZ3\\xd2\\x9d\\xab\\xd0\\x80\\xc2\\x1f\\x8a\\xf5\\xaa\\xab\\xae\\xb27\\xdf|3\\xf2\\x14\\xea\\xfe\\xa5\\xe4uuwRBx\\xba\\xf2\\xa3\\x1f\\xfd(5\\x1b\\xb5Z\\x13z\\xf4\\xe8\\x91n\\xd3\\n\\xcbe\\xa9\\xaeb*\\n\\xc0v\\xdai\\'\\x97\\x1f\\x11$\\x9a\\xab\\x95F-\\x0c\\n\\x1e\\xd4\\xa2\\xa3$z\\x15u\\x85Z\\xbbv\\xad\\xfb\\x9e\\xe9\\x8f\\x1f\\xe8\\xe4\\xd3\\xb2\\x11>\\xa6\\x92\\xeeu?(\\x08 \\x80\\x00\\x02\\x08 \\x80\\x00\\x02\\xf1\\nT\\n(\\xf2\\x99`\\xac\\x18\\x01\\x85\\x82\\x02\\xf5\\xc1\\x8f*\\xea\\x82\\xb5\\xc3\\x0e;\\xb8\\x07U=\\xb0\\xfaEI\\xd4\\xc7\\x1e{\\xac[\\xa4\\xefQ\\xf9\\x11\\xfe\\xf6\\xd9\\xbe\\xeb\\x01\\xfcg?\\xfb\\x99\\xed\\xbe\\xfb\\xee\\xee\\x9cJ\\xd0\\xd6\\xf0\\xa6\\xfa\\xa7\\xa1hU\\x8a\\x19P\\xa8{Q0Z\\x94\\xf2@\\xd2=\\x9c+\\xc9Z\\x0f\\xe5*Jh_\\xbat\\xa9\\xfb\\x1e\\xfe\\xa3.JO?\\xfd\\xb4[\\xac\\x16\\x04uUR\\xd7\\xb0lE\\t\\xf2jmPQ.\\xc9\\xbe\\xfb\\xee\\xebZg4Z\\xd5]w\\xddUaT&\\xb5.5n\\xdc82\\xe0Kw\\x1e\\x8d\\xa2\\xa5V#\\x95\\xa8\\x96\\xa7t\\xfb\\x85\\x97\\xab.\\xda\\x9f\\x82\\x00\\x02\\x08 \\x80\\x00\\x02\\x08 \\x10\\xaf@\\xa5\\x80\"S\\x0bA\\xf8\\xd2\\x8a\\x11P\\x04\\xddj\\xc2\\xe7\\xd2\\xefL\\x01\\x85?\\x03t\\x9f>}*\\xe5OD\\x1d/j\\x99\\xba\\x11i\\xff\\x13N8!5\\xe4l\\xd4vZV\\xcc\\x80B#+\\xa9\\xdbS>%\\xdb<\\x0e\\n(\\x14X\\xa8\\xa8EG\\xa3ve+j\\x81Q^\\x89_\\x94 \\xae.NJ\\x10\\xf7K\\xd0r\\xf3\\xf9\\xe7\\x9f\\xdbY\\x1bs>r)\\x1a\\x91K]\\xecT\\xf2i\\x1d\\x0b\\x1f\\x9b\\x80\",\\xc2o\\x04\\x10@\\x00\\x01\\x04\\x10@ \\x1e\\x81J\\x01\\x85Fy\\xfa\\xf8\\xe3\\x8fs:{\\xae\\x01\\x85\\xde\\x86\\xab\\xdb\\x8eJ\\xb6ac\\x0b\\r(\\xfc7\\xfa\\xf9$?\\x87+z\\xfe\\xf9\\xe7\\xa7\\xfa\\xf1\\xeb\\x81\\xfb\\xd5W_\\xb5Y\\xb3f\\x99\\xba\\t\\xa9\\xab\\x95Z\\n\\x94\\xb8^\\xec.O\\x97^z\\xa9\\xeb6\\xa4\\xeb\\xd3P\\xaa\\xb9\\x0c\\x0b\\xab\\\\\\x86\\xa8y.\\x82:\\x06\\x01\\x99~+i]\\xdbg+\\xdd\\xbbw\\xaf\\x90\\'\"\\x0b\\x05\\x00\\xe1I\\xfe\\x94\\x90\\xad\\xd1\\xaaT\\xf2\\x19\\xadI-M\\xaa\\xab\\x8aF\\x90\\n\\xf2`\\xdc\\x82<\\xfe\\xa8\\xcb\\x95\\x02\\x19\\n\\x02\\x08 \\x80\\x00\\x02\\x08 \\x80@\\xbc\\x02\\x95\\x02\\x8aL\\x0f\\xf4\\xe1KS\\xd7\\x1fMT\\xa7\\xf2\\xd6[o\\xb9\\xf9#\\xc2\\xdb\\xe8\\xb7?rR\\xb1\\x02\\n\\x7f\\xc8\\xd8!C\\x86\\xd8\\xf3\\xcf?\\x1fu)\\x19\\x97\\xd5\\xaf_\\xdf\\x94\\x13\\xa0V\\n=\\x98k>\\t\\x05\\x12~Q2\\xb6\\xde\\xc4k\\x9bb\\xb6P\\xf8\\xf5\\xf1GW\\xf2\\xaf%\\xdf\\xefj}\\xea\\xda\\xb5\\xab\\xdbMA\\x8a\\xe6}\\xc8V\\x94?\\xe1\\'\\xb8k\\x12\\xbap\"\\xbb\\x8e\\xe1\\xcf5\\xa2\\x96\\x90\\xdbo\\xbf=\\xdb\\xa1\\xdd\\xfa~\\xfd\\xfa\\xa5\\xf29\\xd4\\xf5)H\\x1c\\xcfigo#\\x8dF\\xa6\\t\\x19)\\x08 \\x80\\x00\\x02\\x08 \\x80\\x00\\x02\\xf1\\nT)\\xa0h\\xd0\\xa0\\x81{\\x00\\xd7%\\xeb\\rz\\xb8kLP\\x15?\\xb1\\xb7X\\x01\\x85?\\x9fA\\xba\\x07Z\\xb5*\\xfc\\xe1\\x0f\\x7fp\\xa3<\\xa9\\xa5A\\xf9\\x01\\xfe\\xc3\\xb1?A[\\xba\\xb7\\xe5\\xfe0\\xa7\\xb9\\x04\\x14\\xea>\\xa5\\xdc\\x06\\x95|\\xba\\x93\\xfd\\xfc\\xe7?w\\xdd\\x8a\\xb4_U\\x1e\\xb4\\xb5\\x7fP\\x94c\\xa2\\xfc\\x12\\x15\\xb5\\xbc\\\\w\\xddu\\xc1\\xaa\\xb4\\x9f\\n\\x9c4\\nS\\xb3f\\xcd\\\\\\x90\\xa5\\xe1`\\xa3\\xf29\\x06\\r\\x1ad\\x9a\\xa7CEI\\xfd\\xe1a\\x7f\\xa3N\\xa0\\xe0L\\xc7V\\xbe\\x8aJ\\xdf\\xbe}+u\\xa3\\x8a\\xda/j\\x19-\\x14Q*,C\\x00\\x01\\x04\\x10@\\x00\\x01\\x04\\x8a/P\\xa5\\x80B\\x97\\xa7n.\\xc1\\xfc\\x03\\x03\\x06\\x0c\\xb0\\xd7_\\x7f\\xbd\\xc2Uw\\xea\\xd4\\xc9\\xcd\\xba\\x1d,,V@\\xa1\\xe1\\\\\\xd5Z\\xa2V\\x06=\\\\*\\xb9;\\x9c\\xa4\\xab\\x07{=\\xe0\\xab\\xcc\\x981\\xc3\\x06\\x0e\\x1c\\x18\\\\\\x96\\xfb\\xd4p\\xa8c\\xc6\\x8cq\\xdf\\xd52\\xa1\\x16\\n\\xbf\\x0b\\x91\\x02\\x12\\xed\\xa3!jUr\\t(4\\x03\\xb8f\\x02W\\xc9\\xf5!^\\xdb\\xaa>\\xba\\x16\\x9dS\\xd7r\\xd6\\xc6\\x9c\\x84\\xf0<\\x14J\\xc6Vb\\xb4>\\x15\\xd0id(?@\\xd2q\\xfc\\xe2\\xb7(\\xc9H\\xc1\\xc1\\xea\\xd5\\xab\\xfdM\"\\xbf\\xfbsohBA\\x8d,\\xe5\\x97\\x83\\x0e:\\xc8\\xcd\\xe9\\xa1\\x00!\\x9fI\\xed\\xfc\\xe0Lu\\xd3\\xbc\\x1a\\x99\\xae\\xdf?g\\xf8{8\\x87B\\xf9\\'\\xf2P\\xb7.\\xcd\\x15\\xa2!i)\\x08 \\x80\\x00\\x02\\x08 \\x80\\x00\\x02\\xd5/P\\xb6q\\xa2\\xb7rMl\\x17\\x0c\\r\\xaa>\\xec\\xfe(Kz\\x1b\\x9d\\xe9a\\xcc\\x1f\\x05H\\xf36h\\x96i=\\xc4\\xa9\\xf5B3\\\\k\\x84 \\x8d\\x0e\\xa4\\xa1MU\\x8a\\x15P\\xe8\\xd8z\\xe8\\xd6\\xc3\\xaf\\x8a\\x1e\\x945\\xd9\\x9b\\xe6\\x8a\\xd0\\xdbu\\xbd=\\xef\\xdc\\xb9s*)Yo\\xe7\\xf5\\x80\\xef\\x17=\\x10\\xab\\xcb\\x8dF*R\\xd1\\xf0\\xb5\\xea:5o\\xde<\\xd3hDz\\xc3\\xaf\\x87`m\\xa7\\x07\\xfd\\\\\\x02\\n\\r\\xb3\\x1aL8\\xa7\\x87e\\r\\xff\\xaa<\\x04\\x05;:\\x8e\\x02\\xa0\\xf0\\xec\\xd3\\xc15i\\x98V%Z\\xab(`\\xd0\\xfc\\x1c\\x1a\\xf1I\\x89\\xd5{\\xed\\xb5\\x97\\xeb*\\xd4\\xaaU+\\xb7^C\\xb7>\\xf1\\xc4\\x13\\xee{\\xa6?w\\xdcq\\x87i6o\\x95\\\\\\xbb=)`Qp\\x13$t\\xab\\x05H\\xdd\\xa5\\x14\\xe8\\xe8\\xff\\x8d\\x12\\xb7u\\xbfU4\\x17\\xc53\\xcf<\\xe3\\xbeg\\xfb\\xa3<\\x8e`\\x02<\\xb9\\x07\\xa3=e\\xdb/j\\xbd?l\\xacfu\\xd7\\xbd\\r\\xaei\\xf8\\xf0\\xe1\\xee\\xba\\xa2\\xf6c\\x19\\x02\\x08 \\x80\\x00\\x02\\x08 \\x80@\\xd5\\x04\\xca6>\\xe4\\x96g:\\xc4\\xf4\\xe9\\xd3+\\xb40\\x84\\xb7\\xd5\\xc3\\xba\\x92\\x945i\\\\T\\x992e\\x8aM\\x9b6-\\xd5\\x0f\\xbf\\x98\\x01\\x85\\x1ex\\xd5\\xbdj\\xef\\xbd\\xf7\\x8e\\xba\\x94\\xd42ML7j\\xd4\\xa8\\xd4o\\xff\\x8b?A\\x9e\\xbf\\\\\\xdf\\xf5V_-\\x14\\n\\xc0\\xf4\\xb6?\\x97\\x80B\\xfb\\xf9\\x81\\x81~\\xfbEo\\xd6\\x95\\x7f\\x10U\\x14l\\xe8\\xa1?[}^|\\xf1E\\xd7j\\x105\\x11_\\xf8\\xb8\\x1d:t\\xb0\\xa1C\\x87\\xba\\xc5s\\xe6\\xcc\\xb1\\x8b.\\xba(\\xa7V\\x01\\x050\\xea.\\xa6y@\\xd2\\x15\\xfd?\\x08rj\\xd2m\\x13,\\xd70\\xbc\\n\\xb44a\\xa1\\\\\\x158\\xe52\\xeaT\\xb0\\x7f\\xf8\\xd3\\x0f(4X\\xc0K\\x1bgB\\xafS\\xa7\\x8e\\xdbL\\xc3\\xd9\\x06\\x83\\x02\\x84\\xf7\\xe37\\x02\\x08 \\x80\\x00\\x02\\x08 \\x80@\\xd5\\x04\\xaa\\x1cP\\xe8\\xf4-Z\\xb4p\\xf9\\x08\\xed\\xda\\xb5K]\\xcd\\x82\\x05\\x0bl\\xe6\\xcc\\x99\\xee\\xad\\xf3~\\xfb\\xed\\x17K@\\xa1\\x93\\xeb\\xad\\xbf&\\xbdSR\\xb3\\xba\\r\\xf9\\xe5\\xd3O?\\xb5\\xd1\\xa3G\\x9b\\x82\\xa4LE]x\\xf4\\xf6\\\\]\\xa0T\\xf4\\xc0;w\\xee\\\\71\\x9c\\xf6\\xd5Cs>\\x01\\x85\\x8e\\xa1\\x1c\\x0f%4\\xcbJ\\xad\\x16j\\xe1PY\\xb7n]j\\xfe\\x0c\\xb7 \\xf4G\\xf5Q\\xcb\\x88\\xf2S\\x82\\\\\\x03m\\xa2@D\\xa3\\x1a)\\x07!\\xdf\\x04\\xf4\\x11#F\\xa4f\\xb9V\\x00\\x96\\xeb$\\x80\\x9a\\x93C\\xdd\\xb7v\\xdb8y\\x9d\\xae+(\\x9aTO&\\x93&M\\n\\x16e\\xfd\\xf4\\x93\\xb1\\xd5\\xa2\\xa1\\x96\\x8d\\xaa\\x16\\x7f\\xa6\\xec\\xfe\\xfd\\xfb\\xbb\\x16+\\xb5\\x04)\\x00\\x0c\\x0fq[\\xd5s\\xb1?\\x02\\x08 \\x80\\x00\\x02\\x08 \\x80\\xc0\\xff\\x0b\\xb8\\x1c\\x8a\\xea\\xc2\\xd0\\xdb\\xeb]v\\xd9\\xc5\\x16/^l_\\x7f\\xfduu\\x1d\\xb6\\xe0\\xe3\\xe8-\\xb8\\xaeGo\\xaf\\x15\\xe0\\x84s\\x10\\xb2\\x1dX]}\\x9a6m\\xeaZ\"\\xfc\\\\\\n\\xffa:K\\x03O\\xe4)\\xf4\\xe6\\xbc^\\xbdz\\xa6\\x91\\x89tm\\xb9\\x16M\\xaa\\xa7\\x80D\\xfb(8\\xd2\\xfe\\x85\\x14\\x05\\x06\\xea\\x06\\xa4kPw\\xb6^\\xbdzE&Z\\xa7;\\xb6f\\xc9n\\xdb\\xb6\\xadKnW\\x17\\xac\\x85\\x0b\\x17\\xa6\\xdb4r\\xb9\\xee\\x89Z\\x88\\x94\\xf0\\xad\\xff\\'\\x1a\\xaa8\\xdf{\\x13u`?\\xa0\\xd0z\\xfd\\x7f\\\\\\xb5jU\\xd4\\xa6,C\\x00\\x01\\x04\\x10@\\x00\\x01\\x04\\x10\\xa8&\\x81j\\r(\\xaa\\xe9\\x9a8L\\x0c\\x02J\\x80\\xd6\\x9b{\\x95L]\\xc0\\x8aq)\\xea\\xc6\\xa5\\xfc\\x1a\\x05F\\x1a\\x12w\\xf6\\xec\\xd9\\xd5r\\x9ap@Q-\\x07\\xe5 \\x08 \\x80\\x00\\x02\\x08 \\x80\\x00\\x02\\x19\\x05\\x08(2\\xf2${\\xa5\\x12\\xcd\\xd5\\xda\\xa2\\x96\\x8e\\xb8\\x1e\\xc6\\xd5:\\x13$\\x92\\xab\\xbbWx$\\xae\\xaa\\x88\\xc7U\\x87\\xaa\\\\#\\xfb\"\\x80\\x00\\x02\\x08 \\x80\\x00\\x02I\\x13 \\xa0H\\xda\\x1d\\xad\\xc5\\xf5!\\xa0\\xa8\\xc57\\x9f\\xaa#\\x80\\x00\\x02\\x08 \\x80@\\x8d\\t\\x10P\\xd4\\x18=\\'\\xaeN\\x01\\xb5v\\xe4\\x9b\\xcbQ\\x9d\\xe7\\xe7X\\x08 \\x80\\x00\\x02\\x08 \\x80@m\\x15 \\xa0\\xa8\\xadw>a\\xf5^\\xbe|\\xb9-]\\xba4a\\xb5\\xa2:\\x08 \\x80\\x00\\x02\\x08 \\x80\\xc0\\xa6/@@\\xb1\\xe9\\xdf#\\xae0\\x8b\\x80\\x92\\xbb5\\x87\\xc5\\x9a5k\\xb2l\\xc9j\\x04\\x10@\\x00\\x01\\x04\\x10@\\x00\\x81\\xea\\x16 \\xa0\\xa8nQ\\x8e\\x17\\xbb\\xc0\\x8a\\x15+2\\xce\\xe6\\x1e\\xfb\\x05qB\\x04\\x10@\\x00\\x01\\x04\\x10@\\xa0\\x16\\t\\x10P\\xd4\\xa2\\x9b\\x9d\\xc4\\xaa\\xae^\\xbd\\xdauu\\xd2\\xe4\\x83\\x14\\x04\\x10@\\x00\\x01\\x04\\x10@\\x00\\x81\\xf8\\x05\\x08(\\xe27\\xe7\\x8c\\xd5 \\xa0\\t\\x055\\x19\\x9er\\'\\x08&\\xaa\\x01\\x94C \\x80\\x00\\x02\\x08 \\x80\\x00\\x02\\x05\\n\\x94u\\xe9\\xd2\\xa5<\\xd8\\xd7\\x9f\\x01:X\\x96\\xcfg!\\xb3F\\xe7s\\xfcB\\xb7\\xad\\xcau\\x15bR\\x95\\xf3e\\xabc\\xa6c\\xfb\\xb3n\\x07\\xd7\\xad\\xed\\x83\\xef\\xc1\\xb1\\xf5;8N\\xd4:m\\x97n\\xbd\\xd6\\xf9\\xfb\\x04\\xdb\\x85\\x97\\xeb\\xb7_\\xd2\\xed\\xe3o\\x93\\xed\\xbb\\xea\\xb7a\\xc3\\x06\\xd3\\x88Nk\\xd7\\xae%g\"\\x1b\\x18\\xeb\\x11@\\x00\\x01\\x04\\x10@\\x00\\x81\\x18\\x04\\xcaZ\\xb6l\\x99\\n(b8\\x1f\\xa7@\\x00\\x01\\x04\\x10@\\x00\\x01\\x04\\x10@\\x00\\x81\\x04\\t\\x10P$\\xe8fR\\x15\\x04\\x10@\\x00\\x01\\x04\\x10@\\x00\\x01\\x04\\xe2\\x16 \\xa0\\x88[\\x9c\\xf3!\\x80\\x00\\x02\\x08 \\x80\\x00\\x02\\x08 \\x90 \\x01\\x02\\x8a\\x04\\xddL\\xaa\\x82\\x00\\x02\\x08 \\x80\\x00\\x02\\x08 \\x80@\\xdc\\x02\\x04\\x14q\\x8bs>\\x04\\x10@\\x00\\x01\\x04\\x10@\\x00\\x01\\x04\\x12$@@\\x91\\xa0\\x9bIU\\x10@\\x00\\x01\\x04\\x10@\\x00\\x01\\x04\\x10\\x88[\\x80\\x80\"nq\\xce\\x87\\x00\\x02\\x08 \\x80\\x00\\x02\\x08 \\x80@\\x82\\x04\\x08(\\x12t3\\xa9\\n\\x02\\x08 \\x80\\x00\\x02\\x08 \\x80\\x00\\x02q\\x0b\\x10P\\xc4-\\xce\\xf9\\x10@\\x00\\x01\\x04\\x10@\\x00\\x01\\x04\\x10H\\x90\\x00\\x01E\\x82n&UA\\x00\\x01\\x04\\x10@\\x00\\x01\\x04\\x10@ n\\x01\\x02\\x8a\\xb8\\xc59\\x1f\\x02\\x08 \\x80\\x00\\x02\\x08 \\x80\\x00\\x02\\t\\x12 \\xa0H\\xd0\\xcd\\xa4*\\x08 \\x80\\x00\\x02\\x08 \\x80\\x00\\x02\\x08\\xc4-@@\\x11\\xb78\\xe7C\\x00\\x01\\x04\\x10@\\x00\\x01\\x04\\x10@ A\\x02\\x04\\x14\\t\\xba\\x99T\\x05\\x01\\x04\\x10@\\x00\\x01\\x04\\x10@\\x00\\x81\\xb8\\x05\\x08(\\xe2\\x16\\xe7|\\x08 \\x80\\x00\\x02\\x08 \\x80\\x00\\x02\\x08$H\\x80\\x80\"A7\\x93\\xaa \\x80\\x00\\x02\\x08 \\x80\\x00\\x02\\x08 \\x10\\xb7\\x00\\x01E\\xdc\\xe2\\x9c\\x0f\\x01\\x04\\x10@\\x00\\x01\\x04\\x10@\\x00\\x81\\x04\\t\\x10P$\\xe8fR\\x15\\x04\\x10@\\x00\\x01\\x04\\x10@\\x00\\x01\\x04\\xe2\\x16 \\xa0\\x88[\\x9c\\xf3!\\x80\\x00\\x02\\x08 \\x80\\x00\\x02\\x08 \\x90 \\x01\\x02\\x8a\\x04\\xddL\\xaa\\x82\\x00\\x02\\x08 \\x80\\x00\\x02\\x08 \\x80@\\xdc\\x02\\x04\\x14q\\x8bs>\\x04\\x10@\\x00\\x01\\x04\\x10@\\x00\\x01\\x04\\x12$@@\\x91\\xa0\\x9bIU\\x10@\\x00\\x01\\x04\\x10@\\x00\\x01\\x04\\x10\\x88[\\x80\\x80\"nq\\xce\\x87\\x00\\x02\\x08 \\x80\\x00\\x02\\x08 \\x80@\\x82\\x04\\x08(\\x12t3\\xa9\\n\\x02\\x08 \\x80\\x00\\x02\\x08 \\x80\\x00\\x02q\\x0b\\x10P\\xc4-\\xce\\xf9\\x10@\\x00\\x01\\x04\\x10@\\x00\\x01\\x04\\x10H\\x90\\x00\\x01E\\x82n&UA\\x00\\x01\\x04\\x10@\\x00\\x01\\x04\\x10@ n\\x01\\x02\\x8a\\xb8\\xc59\\x1f\\x02\\x08 \\x80\\x00\\x02\\x08 \\x80\\x00\\x02\\t\\x12 \\xa0H\\xd0\\xcd\\xa4*\\x08 \\x80\\x00\\x02\\x08 \\x80\\x00\\x02\\x08\\xc4-@@\\x11\\xb78\\xe7C\\x00\\x01\\x04\\x10@\\x00\\x01\\x04\\x10@ A\\x02\\x04\\x14\\t\\xba\\x99T\\x05\\x01\\x04\\x10@\\x00\\x01\\x04\\x10@\\x00\\x81\\xb8\\x05\\x08(\\xe2\\x16\\xe7|\\x08 \\x80\\x00\\x02\\x08 \\x80\\x00\\x02\\x08$H\\x80\\x80\"A7\\x93\\xaa \\x80\\x00\\x02\\x08 \\x80\\x00\\x02\\x08 \\x10\\xb7\\x00\\x01E\\xdc\\xe2\\x9c\\x0f\\x01\\x04\\x10@\\x00\\x01\\x04\\x10@\\x00\\x81\\x04\\t\\x10P$\\xe8fR\\x15\\x04\\x10@\\x00\\x01\\x04\\x10@\\x00\\x01\\x04\\xe2\\x16 \\xa0\\x88[\\x9c\\xf3!\\x80\\x00\\x02\\x08 \\x80\\x00\\x02\\x08 \\x90 \\x01\\x02\\x8a\\x04\\xddL\\xaa\\x82\\x00\\x02\\x08 \\x80\\x00\\x02\\x08 \\x80@\\xdc\\x02\\x04\\x14q\\x8bs>\\x04\\x10@\\x00\\x01\\x04\\x10@\\x00\\x01\\x04\\x12$@@\\x91\\xa0\\x9bIU\\x10@\\x00\\x01\\x04\\x10@\\x00\\x01\\x04\\x10\\x88[\\x80\\x80\"nq\\xce\\x87\\x00\\x02\\x08 \\x80\\x00\\x02\\x08 \\x80@\\x82\\x04\\x08(\\x12t3\\xa9\\n\\x02\\x08 \\x80\\x00\\x02\\x08 \\x80\\x00\\x02q\\x0b\\x10P\\xc4-\\xce\\xf9\\x10@\\x00\\x01\\x04\\x10@\\x00\\x01\\x04\\x10H\\x90\\x00\\x01E\\x82n&UA\\x00\\x01\\x04\\x10@\\x00\\x01\\x04\\x10@ n\\x01\\x02\\x8a\\xb8\\xc59\\x1f\\x02\\x08 \\x80\\x00\\x02\\x08 \\x80\\x00\\x02\\t\\x12 \\xa0H\\xd0\\xcd\\xa4*\\x08 \\x80\\x00\\x02\\x08 \\x80\\x00\\x02\\x08\\xc4-@@\\x11\\xb78\\xe7C\\x00\\x01\\x04\\x10@\\x00\\x01\\x04\\x10@ A\\x02\\x04\\x14\\t\\xba\\x99T\\x05\\x01\\x04\\x10@\\x00\\x01\\x04\\x10@\\x00\\x81\\xb8\\x05\\x08(\\xe2\\x16\\xe7|\\x08 \\x80\\x00\\x02\\x08 \\x80\\x00\\x02\\x08$H\\x80\\x80\"A7\\x93\\xaa \\x80\\x00\\x02\\x08 \\x80\\x00\\x02\\x08 \\x10\\xb7\\x00\\x01E\\xdc\\xe2\\x9c\\x0f\\x01\\x04\\x10@\\x00\\x01\\x04\\x10@\\x00\\x81\\x04\\t\\x10P$\\xe8fR\\x15\\x04\\x10@\\x00\\x01\\x04\\x10@\\x00\\x01\\x04\\xe2\\x16 \\xa0\\x88[\\x9c\\xf3!\\x80\\x00\\x02\\x08 \\x80\\x00\\x02\\x08 \\x90 \\x01\\x02\\x8a\\x04\\xddL\\xaa\\x82\\x00\\x02\\x08 \\x80\\x00\\x02\\x08 \\x80@\\xdc\\x02\\x04\\x14q\\x8bs>\\x04\\x10@\\x00\\x01\\x04\\x10@\\x00\\x01\\x04\\x12$@@\\x91\\xa0\\x9bIU\\x10@\\x00\\x01\\x04\\x10@\\x00\\x01\\x04\\x10\\x88[\\x80\\x80\"nq\\xce\\x87\\x00\\x02\\x08 \\x80\\x00\\x02\\x08 \\x80@\\x82\\x04\\x08(\\x12t3\\xa9\\n\\x02\\x08 \\x80\\x00\\x02\\x08 \\x80\\x00\\x02q\\x0b\\x10P\\xc4-\\xce\\xf9\\x10@\\x00\\x01\\x04\\x10@\\x00\\x01\\x04\\x10H\\x90\\x00\\x01E\\x82n&UA\\x00\\x01\\x04\\x10@\\x00\\x01\\x04\\x10@ n\\x01\\x02\\x8a\\xb8\\xc59\\x1f\\x02\\x08 \\x80\\x00\\x02\\x08 \\x80\\x00\\x02\\t\\x12 \\xa0H\\xd0\\xcd\\xa4*\\x08 \\x80\\x00\\x02\\x08 \\x80\\x00\\x02\\x08\\xc4-@@\\x11\\xb78\\xe7C\\x00\\x01\\x04\\x10@\\x00\\x01\\x04\\x10@ A\\x02e]\\xbbv-OP}\\xa8\\n\\x02\\x08 \\x80\\x00\\x02\\x08 \\x80\\x00\\x02\\x08\\xc4(@@\\x11#6\\xa7B\\x00\\x01\\x04\\x10@\\x00\\x01\\x04\\x10@ i\\x02tyJ\\xda\\x1d\\xa5>\\x08 \\x80\\x00\\x02\\x08 \\x80\\x00\\x02\\x08\\xc4(@@\\x11#6\\xa7B\\x00\\x01\\x04\\x10@\\x00\\x01\\x04\\x10@ i\\x02\\x04\\x14I\\xbb\\xa3\\xd4\\x07\\x01\\x04\\x10@\\x00\\x01\\x04\\x10@\\x00\\x81\\x18\\x05\\x08(b\\xc4\\xe6T\\x08 \\x80\\x00\\x02\\x08 \\x80\\x00\\x02\\x08$M\\x80\\x80\"iw\\x94\\xfa \\x80\\x00\\x02\\x08 \\x80\\x00\\x02\\x08 \\x10\\xa3\\x00\\x01E\\x8c\\xd8\\x9c\\n\\x01\\x04\\x10@\\x00\\x01\\x04\\x10@\\x00\\x81\\xa4\\t\\x10P$\\xed\\x8eR\\x1f\\x04\\x10@\\x00\\x01\\x04\\x10@\\x00\\x01\\x04b\\x14 \\xa0\\x88\\x11\\x9bS!\\x80\\x00\\x02\\x08 \\x80\\x00\\x02\\x08 \\x904\\x01\\x02\\x8a\\xa4\\xddQ\\xea\\x83\\x00\\x02\\x08 \\x80\\x00\\x02\\x08 \\x80@\\x8c\\x02\\x04\\x141bs*\\x04\\x10@\\x00\\x01\\x04\\x10@\\x00\\x01\\x04\\x92&@@\\x91\\xb4;J}\\x10@\\x00\\x01\\x04\\x10@\\x00\\x01\\x04\\x10\\x88Q\\x80\\x80\"FlN\\x85\\x00\\x02\\x08 \\x80\\x00\\x02\\x08 \\x80@\\xd2\\x04\\x08(\\x92vG\\xa9\\x0f\\x02\\x08 \\x80\\x00\\x02\\x08 \\x80\\x00\\x021\\n\\x10P\\xc4\\x88\\xcd\\xa9\\x10@\\x00\\x01\\x04\\x10@\\x00\\x01\\x04\\x10H\\x9a\\x00\\x01E\\xd2\\xee(\\xf5A\\x00\\x01\\x04\\x10@\\x00\\x01\\x04\\x10@ F\\x01\\x02\\x8a\\x18\\xb19\\x15\\x02\\x08 \\x80\\x00\\x02\\x08 \\x80\\x00\\x02I\\x13\\xf8?9m\\xc2\\xb5\\x1f\\xabp\\xb8\\x00\\x00\\x00\\x00IEND\\xaeB`\\x82'\n"
          ]
        }
      ],
      "source": [
        "# Working with Binary file\n",
        "with open('screenshot.png', 'rb') as f:\n",
        "    print(f.read()) "
      ]
    },
    {
      "cell_type": "code",
      "execution_count": 19,
      "metadata": {
        "id": "TvYT7bVTACMw"
      },
      "outputs": [],
      "source": [
        "# working with binary file\n",
        "# creating copy of image\n",
        "with open('screenshot.png','rb') as f: # rb - read binary\n",
        "  with open('screenshot_copy.png','wb') as wf: # wb - write binary\n",
        "    wf.write(f.read())"
      ]
    },
    {
      "cell_type": "code",
      "execution_count": null,
      "metadata": {},
      "outputs": [],
      "source": [
        "with open ('screenshot.png', 'rb') as rb:\n",
        "    with open('hello.png', 'wb') as wb:\n",
        "        wb.write(rb.read())"
      ]
    },
    {
      "cell_type": "code",
      "execution_count": null,
      "metadata": {
        "id": "FyWcVm-8AFqZ"
      },
      "outputs": [],
      "source": [
        "# working with a big binary file"
      ]
    },
    {
      "cell_type": "code",
      "execution_count": null,
      "metadata": {
        "colab": {
          "base_uri": "https://localhost:8080/",
          "height": 205
        },
        "id": "2DFUFXIJ9fW0",
        "outputId": "5ef352fc-59b6-428c-c219-1466821a6e78"
      },
      "outputs": [
        {
          "ename": "TypeError",
          "evalue": "ignored",
          "output_type": "error",
          "traceback": [
            "\u001b[0;31m---------------------------------------------------------------------------\u001b[0m",
            "\u001b[0;31mTypeError\u001b[0m                                 Traceback (most recent call last)",
            "\u001b[0;32m<ipython-input-26-a8e7a73b1431>\u001b[0m in \u001b[0;36m<module>\u001b[0;34m\u001b[0m\n\u001b[1;32m      1\u001b[0m \u001b[0;31m# working with other data types\u001b[0m\u001b[0;34m\u001b[0m\u001b[0;34m\u001b[0m\u001b[0;34m\u001b[0m\u001b[0m\n\u001b[1;32m      2\u001b[0m \u001b[0;32mwith\u001b[0m \u001b[0mopen\u001b[0m\u001b[0;34m(\u001b[0m\u001b[0;34m'sample.txt'\u001b[0m\u001b[0;34m,\u001b[0m\u001b[0;34m'w'\u001b[0m\u001b[0;34m)\u001b[0m \u001b[0;32mas\u001b[0m \u001b[0mf\u001b[0m\u001b[0;34m:\u001b[0m\u001b[0;34m\u001b[0m\u001b[0;34m\u001b[0m\u001b[0m\n\u001b[0;32m----> 3\u001b[0;31m   \u001b[0mf\u001b[0m\u001b[0;34m.\u001b[0m\u001b[0mwrite\u001b[0m\u001b[0;34m(\u001b[0m\u001b[0;36m5\u001b[0m\u001b[0;34m)\u001b[0m\u001b[0;34m\u001b[0m\u001b[0;34m\u001b[0m\u001b[0m\n\u001b[0m",
            "\u001b[0;31mTypeError\u001b[0m: write() argument must be str, not int"
          ]
        }
      ],
      "source": [
        "# working with other data types\n",
        "with open('sample.txt','w') as f:\n",
        "  f.write(5)"
      ]
    },
    {
      "cell_type": "code",
      "execution_count": 23,
      "metadata": {
        "id": "z2TfIqNj93Eh"
      },
      "outputs": [],
      "source": [
        "with open('sample.txt','w') as f:\n",
        "  f.write('5')"
      ]
    },
    {
      "cell_type": "code",
      "execution_count": 24,
      "metadata": {
        "colab": {
          "base_uri": "https://localhost:8080/"
        },
        "id": "ZY2EcrdY97D5",
        "outputId": "df11e3c9-d12f-4ad5-943d-ecdb341db0cc"
      },
      "outputs": [
        {
          "name": "stdout",
          "output_type": "stream",
          "text": [
            "10\n"
          ]
        }
      ],
      "source": [
        "with open('sample.txt','r') as f:\n",
        "  print(int(f.read()) + 5)"
      ]
    },
    {
      "cell_type": "code",
      "execution_count": null,
      "metadata": {
        "id": "nOMRJ9CB-K1F"
      },
      "outputs": [],
      "source": []
    },
    {
      "cell_type": "code",
      "execution_count": 25,
      "metadata": {
        "id": "uUw_EYLs-OHF"
      },
      "outputs": [],
      "source": [
        "# more complex data\n",
        "d = {\n",
        "    'name':'nitish',\n",
        "     'age':33,\n",
        "     'gender':'male'\n",
        "}\n",
        "\n",
        "with open('sample.txt','w') as f:\n",
        "  f.write(str(d))"
      ]
    },
    {
      "cell_type": "code",
      "execution_count": 29,
      "metadata": {
        "colab": {
          "base_uri": "https://localhost:8080/",
          "height": 187
        },
        "id": "KtKxeG8_7JVB",
        "outputId": "e64366d5-7b6a-4f51-ed13-4154331340f6"
      },
      "outputs": [
        {
          "name": "stdout",
          "output_type": "stream",
          "text": [
            "{'name': 'nitish', 'age': 33, 'gender': 'male'}\n",
            "<class 'str'>\n"
          ]
        }
      ],
      "source": [
        "# Now, if i want to perform dictionary operation on save file,\n",
        "# reconverting to dict\n",
        "\n",
        "with open('sample.txt','r') as f:\n",
        "  # print(dict(f.read()))\n",
        "  print(f.read())\n",
        "  print(type(f.read()))\n",
        "\n",
        "# I can't do that,\n",
        "# When you store a dictionary in a text file as a string,\n",
        "# it is no longer a dictionary—it becomes a plain string.\n",
        "# You must convert it back to a dictionary before \n",
        "# performing dictionary operations. -> Using Json format\n",
        "\n",
        "# Like this, text mode save dict(f.read()) not allowed.\n",
        "\n"
      ]
    },
    {
      "cell_type": "markdown",
      "metadata": {
        "id": "5EZ6TUtWBfVk"
      },
      "source": [
        "### Serialization and Deserialization\n",
        "\n",
        "- **Serialization** - process of converting python data types to JSON format\n",
        "- **Deserialization** - process of converting JSON to python data types\n",
        "\n",
        "#### What is JSON?\n",
        "\n",
        "\n",
        "![image.png](data:image/png;base64,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)"
      ]
    },
    {
      "cell_type": "code",
      "execution_count": 1,
      "metadata": {
        "id": "eXEXak4X_cTK"
      },
      "outputs": [],
      "source": [
        "# serialization using json module\n",
        "# list\n",
        "import json # JavaScript Object Notation\n",
        "\n",
        "L = [1,2,3,4]\n",
        "\n",
        "with open('demo.json','w') as f:\n",
        "  json.dump(L,f)\n"
      ]
    },
    {
      "cell_type": "code",
      "execution_count": null,
      "metadata": {
        "id": "wNKgzvhk_mTJ"
      },
      "outputs": [],
      "source": [
        "# dict\n",
        "d = {\n",
        "    'name':'nitish',\n",
        "     'age':33,\n",
        "     'gender':'male'\n",
        "}\n",
        "\n",
        "with open('demo.json','w') as f:\n",
        "  json.dump(d,f,indent=4)"
      ]
    },
    {
      "cell_type": "code",
      "execution_count": 2,
      "metadata": {
        "colab": {
          "base_uri": "https://localhost:8080/"
        },
        "id": "5GfinF74Cyro",
        "outputId": "765dda65-eb1a-4700-f71a-e94f7768aec2"
      },
      "outputs": [
        {
          "name": "stdout",
          "output_type": "stream",
          "text": [
            "[1, 2, 3, 4]\n",
            "<class 'list'>\n"
          ]
        }
      ],
      "source": [
        "# deserialization\n",
        "import json\n",
        "\n",
        "with open('demo.json','r') as f:\n",
        "  d = json.load(f)\n",
        "  print(d)\n",
        "  print(type(d)) # datatype doesn't loose as we loose in text mode"
      ]
    },
    {
      "cell_type": "code",
      "execution_count": 3,
      "metadata": {
        "id": "sF29FCvtDOaA"
      },
      "outputs": [],
      "source": [
        "# serialize and deserialize tuple\n",
        "import json\n",
        "\n",
        "t = (1,2,3,4,5)\n",
        "\n",
        "with open('demo.json','w') as f:\n",
        "  json.dump(t,f)"
      ]
    },
    {
      "cell_type": "code",
      "execution_count": 7,
      "metadata": {
        "id": "IDx9yh5WECvq"
      },
      "outputs": [],
      "source": [
        "# serialize and deserialize a nested dict\n",
        "\n",
        "d = {\n",
        "    'student':'nitish',\n",
        "     'marks':[23,14,34,45,56]\n",
        "}\n",
        "\n",
        "with open('demo.json','w') as f:\n",
        "  json.dump(d,f)"
      ]
    },
    {
      "cell_type": "markdown",
      "metadata": {
        "id": "bwXefjbgHEMl"
      },
      "source": [
        "### Serializing and Deserializing custom objects"
      ]
    },
    {
      "cell_type": "code",
      "execution_count": 17,
      "metadata": {
        "id": "YMIu87osHDDZ"
      },
      "outputs": [],
      "source": [
        "class Person:\n",
        "\n",
        "  def __init__(self,fname,lname,age,gender):\n",
        "    self.fname = fname\n",
        "    self.lname = lname\n",
        "    self.age = age\n",
        "    self.gender = gender\n",
        "\n",
        "# format to printed in\n",
        "# -> Nitish Singh age -> 33 gender -> male"
      ]
    },
    {
      "cell_type": "code",
      "execution_count": 18,
      "metadata": {
        "id": "pzsTh4TlHp7I"
      },
      "outputs": [
        {
          "name": "stdout",
          "output_type": "stream",
          "text": [
            "<__main__.Person object at 0x107a132b0>\n"
          ]
        }
      ],
      "source": [
        "person = Person('Nitish','Singh',33,'male')\n",
        "print(person)"
      ]
    },
    {
      "cell_type": "code",
      "execution_count": 19,
      "metadata": {},
      "outputs": [
        {
          "ename": "TypeError",
          "evalue": "Object of type Person is not JSON serializable",
          "output_type": "error",
          "traceback": [
            "\u001b[0;31m---------------------------------------------------------------------------\u001b[0m",
            "\u001b[0;31mTypeError\u001b[0m                                 Traceback (most recent call last)",
            "Cell \u001b[0;32mIn[19], line 3\u001b[0m\n\u001b[1;32m      1\u001b[0m \u001b[38;5;66;03m# direct dump like other datatype\u001b[39;00m\n\u001b[1;32m      2\u001b[0m \u001b[38;5;28;01mwith\u001b[39;00m \u001b[38;5;28mopen\u001b[39m(\u001b[38;5;124m'\u001b[39m\u001b[38;5;124mdemo.json\u001b[39m\u001b[38;5;124m'\u001b[39m, \u001b[38;5;124m'\u001b[39m\u001b[38;5;124mw\u001b[39m\u001b[38;5;124m'\u001b[39m) \u001b[38;5;28;01mas\u001b[39;00m f:\n\u001b[0;32m----> 3\u001b[0m     \u001b[43mjson\u001b[49m\u001b[38;5;241;43m.\u001b[39;49m\u001b[43mdump\u001b[49m\u001b[43m(\u001b[49m\u001b[43mperson\u001b[49m\u001b[43m,\u001b[49m\u001b[43m \u001b[49m\u001b[43mf\u001b[49m\u001b[43m)\u001b[49m\n",
            "File \u001b[0;32m/opt/homebrew/Cellar/python@3.10/3.10.16/Frameworks/Python.framework/Versions/3.10/lib/python3.10/json/__init__.py:179\u001b[0m, in \u001b[0;36mdump\u001b[0;34m(obj, fp, skipkeys, ensure_ascii, check_circular, allow_nan, cls, indent, separators, default, sort_keys, **kw)\u001b[0m\n\u001b[1;32m    173\u001b[0m     iterable \u001b[38;5;241m=\u001b[39m \u001b[38;5;28mcls\u001b[39m(skipkeys\u001b[38;5;241m=\u001b[39mskipkeys, ensure_ascii\u001b[38;5;241m=\u001b[39mensure_ascii,\n\u001b[1;32m    174\u001b[0m         check_circular\u001b[38;5;241m=\u001b[39mcheck_circular, allow_nan\u001b[38;5;241m=\u001b[39mallow_nan, indent\u001b[38;5;241m=\u001b[39mindent,\n\u001b[1;32m    175\u001b[0m         separators\u001b[38;5;241m=\u001b[39mseparators,\n\u001b[1;32m    176\u001b[0m         default\u001b[38;5;241m=\u001b[39mdefault, sort_keys\u001b[38;5;241m=\u001b[39msort_keys, \u001b[38;5;241m*\u001b[39m\u001b[38;5;241m*\u001b[39mkw)\u001b[38;5;241m.\u001b[39miterencode(obj)\n\u001b[1;32m    177\u001b[0m \u001b[38;5;66;03m# could accelerate with writelines in some versions of Python, at\u001b[39;00m\n\u001b[1;32m    178\u001b[0m \u001b[38;5;66;03m# a debuggability cost\u001b[39;00m\n\u001b[0;32m--> 179\u001b[0m \u001b[38;5;28;01mfor\u001b[39;00m chunk \u001b[38;5;129;01min\u001b[39;00m iterable:\n\u001b[1;32m    180\u001b[0m     fp\u001b[38;5;241m.\u001b[39mwrite(chunk)\n",
            "File \u001b[0;32m/opt/homebrew/Cellar/python@3.10/3.10.16/Frameworks/Python.framework/Versions/3.10/lib/python3.10/json/encoder.py:438\u001b[0m, in \u001b[0;36m_make_iterencode.<locals>._iterencode\u001b[0;34m(o, _current_indent_level)\u001b[0m\n\u001b[1;32m    436\u001b[0m         \u001b[38;5;28;01mraise\u001b[39;00m \u001b[38;5;167;01mValueError\u001b[39;00m(\u001b[38;5;124m\"\u001b[39m\u001b[38;5;124mCircular reference detected\u001b[39m\u001b[38;5;124m\"\u001b[39m)\n\u001b[1;32m    437\u001b[0m     markers[markerid] \u001b[38;5;241m=\u001b[39m o\n\u001b[0;32m--> 438\u001b[0m o \u001b[38;5;241m=\u001b[39m \u001b[43m_default\u001b[49m\u001b[43m(\u001b[49m\u001b[43mo\u001b[49m\u001b[43m)\u001b[49m\n\u001b[1;32m    439\u001b[0m \u001b[38;5;28;01myield from\u001b[39;00m _iterencode(o, _current_indent_level)\n\u001b[1;32m    440\u001b[0m \u001b[38;5;28;01mif\u001b[39;00m markers \u001b[38;5;129;01mis\u001b[39;00m \u001b[38;5;129;01mnot\u001b[39;00m \u001b[38;5;28;01mNone\u001b[39;00m:\n",
            "File \u001b[0;32m/opt/homebrew/Cellar/python@3.10/3.10.16/Frameworks/Python.framework/Versions/3.10/lib/python3.10/json/encoder.py:179\u001b[0m, in \u001b[0;36mJSONEncoder.default\u001b[0;34m(self, o)\u001b[0m\n\u001b[1;32m    160\u001b[0m \u001b[38;5;28;01mdef\u001b[39;00m\u001b[38;5;250m \u001b[39m\u001b[38;5;21mdefault\u001b[39m(\u001b[38;5;28mself\u001b[39m, o):\n\u001b[1;32m    161\u001b[0m \u001b[38;5;250m    \u001b[39m\u001b[38;5;124;03m\"\"\"Implement this method in a subclass such that it returns\u001b[39;00m\n\u001b[1;32m    162\u001b[0m \u001b[38;5;124;03m    a serializable object for ``o``, or calls the base implementation\u001b[39;00m\n\u001b[1;32m    163\u001b[0m \u001b[38;5;124;03m    (to raise a ``TypeError``).\u001b[39;00m\n\u001b[0;32m   (...)\u001b[0m\n\u001b[1;32m    177\u001b[0m \n\u001b[1;32m    178\u001b[0m \u001b[38;5;124;03m    \"\"\"\u001b[39;00m\n\u001b[0;32m--> 179\u001b[0m     \u001b[38;5;28;01mraise\u001b[39;00m \u001b[38;5;167;01mTypeError\u001b[39;00m(\u001b[38;5;124mf\u001b[39m\u001b[38;5;124m'\u001b[39m\u001b[38;5;124mObject of type \u001b[39m\u001b[38;5;132;01m{\u001b[39;00mo\u001b[38;5;241m.\u001b[39m\u001b[38;5;18m__class__\u001b[39m\u001b[38;5;241m.\u001b[39m\u001b[38;5;18m__name__\u001b[39m\u001b[38;5;132;01m}\u001b[39;00m\u001b[38;5;124m \u001b[39m\u001b[38;5;124m'\u001b[39m\n\u001b[1;32m    180\u001b[0m                     \u001b[38;5;124mf\u001b[39m\u001b[38;5;124m'\u001b[39m\u001b[38;5;124mis not JSON serializable\u001b[39m\u001b[38;5;124m'\u001b[39m)\n",
            "\u001b[0;31mTypeError\u001b[0m: Object of type Person is not JSON serializable"
          ]
        }
      ],
      "source": [
        "# direct dump like other datatype\n",
        "with open('demo.json', 'w') as f:\n",
        "    json.dump(person, f)"
      ]
    },
    {
      "cell_type": "code",
      "execution_count": 21,
      "metadata": {
        "id": "IJdrxFTYH6o3"
      },
      "outputs": [],
      "source": [
        "# As a string\n",
        "import json\n",
        "\n",
        "# show_object method specify our custome object format\n",
        "def show_object(person):\n",
        "  if isinstance(person,Person):\n",
        "    return \"name -> {} {} age -> {} gender -> {}\".format(person.fname,person.lname,person.age,person.gender)\n",
        "\n",
        "with open('demo.json','w') as f:\n",
        "  json.dump(person,f,default=show_object)"
      ]
    },
    {
      "cell_type": "code",
      "execution_count": 37,
      "metadata": {
        "id": "3iJ8vjupJA5i"
      },
      "outputs": [],
      "source": [
        "# As a dict\n",
        "import json\n",
        "\n",
        "def show_object(person):\n",
        "  if isinstance(person,Person):\n",
        "    return {'name':person.fname + ' ' + person.lname,'age':person.age,'gender':person.gender}\n",
        "\n",
        "with open('demo.json','w') as f:\n",
        "  json.dump(person,f,default=show_object,indent=4)"
      ]
    },
    {
      "cell_type": "code",
      "execution_count": null,
      "metadata": {
        "id": "bW8lpOkOJiWU"
      },
      "outputs": [],
      "source": [
        "# indent arrtribute\n",
        "# As a dict"
      ]
    },
    {
      "cell_type": "code",
      "execution_count": 28,
      "metadata": {
        "colab": {
          "base_uri": "https://localhost:8080/"
        },
        "id": "y9k8e2ENJ_GM",
        "outputId": "353b6c36-e555-4286-8244-c641ae0933d1"
      },
      "outputs": [
        {
          "name": "stdout",
          "output_type": "stream",
          "text": [
            "{'name': 'Nitish Singh', 'age': 33, 'gender': 'male'}\n",
            "<class 'dict'>\n"
          ]
        }
      ],
      "source": [
        "# deserializing\n",
        "import json\n",
        "\n",
        "with open('demo.json','r') as f:\n",
        "  d = json.load(f)\n",
        "  print(d)\n",
        "  print(type(d))"
      ]
    },
    {
      "cell_type": "code",
      "execution_count": 29,
      "metadata": {},
      "outputs": [
        {
          "ename": "TypeError",
          "evalue": "Object of type set is not JSON serializable",
          "output_type": "error",
          "traceback": [
            "\u001b[0;31m---------------------------------------------------------------------------\u001b[0m",
            "\u001b[0;31mTypeError\u001b[0m                                 Traceback (most recent call last)",
            "Cell \u001b[0;32mIn[29], line 5\u001b[0m\n\u001b[1;32m      3\u001b[0m s \u001b[38;5;241m=\u001b[39m {\u001b[38;5;241m1\u001b[39m,\u001b[38;5;241m2\u001b[39m,\u001b[38;5;241m111\u001b[39m,\u001b[38;5;241m22\u001b[39m,\u001b[38;5;241m2\u001b[39m,\u001b[38;5;241m1\u001b[39m,\u001b[38;5;241m11\u001b[39m,\u001b[38;5;241m111\u001b[39m,\u001b[38;5;241m111\u001b[39m,\u001b[38;5;241m222\u001b[39m}\n\u001b[1;32m      4\u001b[0m \u001b[38;5;28;01mwith\u001b[39;00m \u001b[38;5;28mopen\u001b[39m(\u001b[38;5;124m'\u001b[39m\u001b[38;5;124mdemo.json\u001b[39m\u001b[38;5;124m'\u001b[39m, \u001b[38;5;124m'\u001b[39m\u001b[38;5;124mw\u001b[39m\u001b[38;5;124m'\u001b[39m) \u001b[38;5;28;01mas\u001b[39;00m f:\n\u001b[0;32m----> 5\u001b[0m     \u001b[43mjson\u001b[49m\u001b[38;5;241;43m.\u001b[39;49m\u001b[43mdump\u001b[49m\u001b[43m(\u001b[49m\u001b[43ms\u001b[49m\u001b[43m,\u001b[49m\u001b[43mf\u001b[49m\u001b[43m,\u001b[49m\u001b[43mindent\u001b[49m\u001b[38;5;241;43m=\u001b[39;49m\u001b[38;5;241;43m5\u001b[39;49m\u001b[43m)\u001b[49m\n",
            "File \u001b[0;32m/opt/homebrew/Cellar/python@3.10/3.10.16/Frameworks/Python.framework/Versions/3.10/lib/python3.10/json/__init__.py:179\u001b[0m, in \u001b[0;36mdump\u001b[0;34m(obj, fp, skipkeys, ensure_ascii, check_circular, allow_nan, cls, indent, separators, default, sort_keys, **kw)\u001b[0m\n\u001b[1;32m    173\u001b[0m     iterable \u001b[38;5;241m=\u001b[39m \u001b[38;5;28mcls\u001b[39m(skipkeys\u001b[38;5;241m=\u001b[39mskipkeys, ensure_ascii\u001b[38;5;241m=\u001b[39mensure_ascii,\n\u001b[1;32m    174\u001b[0m         check_circular\u001b[38;5;241m=\u001b[39mcheck_circular, allow_nan\u001b[38;5;241m=\u001b[39mallow_nan, indent\u001b[38;5;241m=\u001b[39mindent,\n\u001b[1;32m    175\u001b[0m         separators\u001b[38;5;241m=\u001b[39mseparators,\n\u001b[1;32m    176\u001b[0m         default\u001b[38;5;241m=\u001b[39mdefault, sort_keys\u001b[38;5;241m=\u001b[39msort_keys, \u001b[38;5;241m*\u001b[39m\u001b[38;5;241m*\u001b[39mkw)\u001b[38;5;241m.\u001b[39miterencode(obj)\n\u001b[1;32m    177\u001b[0m \u001b[38;5;66;03m# could accelerate with writelines in some versions of Python, at\u001b[39;00m\n\u001b[1;32m    178\u001b[0m \u001b[38;5;66;03m# a debuggability cost\u001b[39;00m\n\u001b[0;32m--> 179\u001b[0m \u001b[38;5;28;01mfor\u001b[39;00m chunk \u001b[38;5;129;01min\u001b[39;00m iterable:\n\u001b[1;32m    180\u001b[0m     fp\u001b[38;5;241m.\u001b[39mwrite(chunk)\n",
            "File \u001b[0;32m/opt/homebrew/Cellar/python@3.10/3.10.16/Frameworks/Python.framework/Versions/3.10/lib/python3.10/json/encoder.py:438\u001b[0m, in \u001b[0;36m_make_iterencode.<locals>._iterencode\u001b[0;34m(o, _current_indent_level)\u001b[0m\n\u001b[1;32m    436\u001b[0m         \u001b[38;5;28;01mraise\u001b[39;00m \u001b[38;5;167;01mValueError\u001b[39;00m(\u001b[38;5;124m\"\u001b[39m\u001b[38;5;124mCircular reference detected\u001b[39m\u001b[38;5;124m\"\u001b[39m)\n\u001b[1;32m    437\u001b[0m     markers[markerid] \u001b[38;5;241m=\u001b[39m o\n\u001b[0;32m--> 438\u001b[0m o \u001b[38;5;241m=\u001b[39m \u001b[43m_default\u001b[49m\u001b[43m(\u001b[49m\u001b[43mo\u001b[49m\u001b[43m)\u001b[49m\n\u001b[1;32m    439\u001b[0m \u001b[38;5;28;01myield from\u001b[39;00m _iterencode(o, _current_indent_level)\n\u001b[1;32m    440\u001b[0m \u001b[38;5;28;01mif\u001b[39;00m markers \u001b[38;5;129;01mis\u001b[39;00m \u001b[38;5;129;01mnot\u001b[39;00m \u001b[38;5;28;01mNone\u001b[39;00m:\n",
            "File \u001b[0;32m/opt/homebrew/Cellar/python@3.10/3.10.16/Frameworks/Python.framework/Versions/3.10/lib/python3.10/json/encoder.py:179\u001b[0m, in \u001b[0;36mJSONEncoder.default\u001b[0;34m(self, o)\u001b[0m\n\u001b[1;32m    160\u001b[0m \u001b[38;5;28;01mdef\u001b[39;00m\u001b[38;5;250m \u001b[39m\u001b[38;5;21mdefault\u001b[39m(\u001b[38;5;28mself\u001b[39m, o):\n\u001b[1;32m    161\u001b[0m \u001b[38;5;250m    \u001b[39m\u001b[38;5;124;03m\"\"\"Implement this method in a subclass such that it returns\u001b[39;00m\n\u001b[1;32m    162\u001b[0m \u001b[38;5;124;03m    a serializable object for ``o``, or calls the base implementation\u001b[39;00m\n\u001b[1;32m    163\u001b[0m \u001b[38;5;124;03m    (to raise a ``TypeError``).\u001b[39;00m\n\u001b[0;32m   (...)\u001b[0m\n\u001b[1;32m    177\u001b[0m \n\u001b[1;32m    178\u001b[0m \u001b[38;5;124;03m    \"\"\"\u001b[39;00m\n\u001b[0;32m--> 179\u001b[0m     \u001b[38;5;28;01mraise\u001b[39;00m \u001b[38;5;167;01mTypeError\u001b[39;00m(\u001b[38;5;124mf\u001b[39m\u001b[38;5;124m'\u001b[39m\u001b[38;5;124mObject of type \u001b[39m\u001b[38;5;132;01m{\u001b[39;00mo\u001b[38;5;241m.\u001b[39m\u001b[38;5;18m__class__\u001b[39m\u001b[38;5;241m.\u001b[39m\u001b[38;5;18m__name__\u001b[39m\u001b[38;5;132;01m}\u001b[39;00m\u001b[38;5;124m \u001b[39m\u001b[38;5;124m'\u001b[39m\n\u001b[1;32m    180\u001b[0m                     \u001b[38;5;124mf\u001b[39m\u001b[38;5;124m'\u001b[39m\u001b[38;5;124mis not JSON serializable\u001b[39m\u001b[38;5;124m'\u001b[39m)\n",
            "\u001b[0;31mTypeError\u001b[0m: Object of type set is not JSON serializable"
          ]
        }
      ],
      "source": [
        "# set/tuple can't serialize \n",
        "import json\n",
        "s = {1,2,111,22,2,1,11,111,111,222}\n",
        "with open('demo.json', 'w') as f:\n",
        "    json.dump(s,f,indent=5)\n"
      ]
    },
    {
      "cell_type": "markdown",
      "metadata": {},
      "source": [
        "### Summary\n",
        "\n",
        "JSON is great for storing simple data like:\n",
        "- Strings\n",
        "- Numbers\n",
        "- Lists\n",
        "- Dictionaries (with string keys)\n",
        "\n",
        "But JSON does NOT support complex Python objects like:\n",
        "\n",
        "❌ Tuples\n",
        "\n",
        "❌ Sets\n",
        "\n",
        "❌ Custom Python Objects (Classes)"
      ]
    },
    {
      "cell_type": "code",
      "execution_count": 32,
      "metadata": {},
      "outputs": [],
      "source": [
        "# Solution: Pickling which support any python object"
      ]
    },
    {
      "cell_type": "markdown",
      "metadata": {
        "id": "8JHA4j2NLD-0"
      },
      "source": [
        "### Pickling\n",
        "`Pickling` is the process whereby a Python object hierarchy is converted into a byte stream, and `unpickling` is the inverse operation, whereby a byte stream (from a binary file or bytes-like object) is converted back into an object hierarchy."
      ]
    },
    {
      "cell_type": "markdown",
      "metadata": {},
      "source": [
        "Pickle can serialize any Python object, including: \n",
        "\n",
        "✔️ Tuples\n",
        "\n",
        "✔️ Sets\n",
        "\n",
        "✔️ Custom Python objects (classes & instances)\n",
        "\n",
        "✔️ Functions (with limitations)"
      ]
    },
    {
      "cell_type": "code",
      "execution_count": 60,
      "metadata": {
        "id": "hg3cGP4CLC9t"
      },
      "outputs": [],
      "source": [
        "# Pickle allows serializing and deserializing Python objects\n",
        "# into binary format.\n",
        "\n",
        "class Person:\n",
        "  \n",
        "  def __init__(self,name,age):\n",
        "    self.name = name\n",
        "    self.age = age\n",
        "\n",
        "  def display_info(self):\n",
        "    print('Hi my name is',self.name,'and I am ',self.age,'years old')"
      ]
    },
    {
      "cell_type": "code",
      "execution_count": 61,
      "metadata": {
        "id": "ixYOzU0yKOcg"
      },
      "outputs": [
        {
          "name": "stdout",
          "output_type": "stream",
          "text": [
            "Hi my name is nitish and I am  33 years old\n"
          ]
        }
      ],
      "source": [
        "p = Person('nitish',33)\n",
        "p.display_info()\n"
      ]
    },
    {
      "cell_type": "code",
      "execution_count": 62,
      "metadata": {
        "id": "GYQNrY33Mg6U"
      },
      "outputs": [],
      "source": [
        "# pickle dump\n",
        "import pickle\n",
        "with open('person.pkl','wb') as f:\n",
        "  pickle.dump(p,f)\n",
        "# Dump(save) in binary format"
      ]
    },
    {
      "cell_type": "code",
      "execution_count": 65,
      "metadata": {
        "colab": {
          "base_uri": "https://localhost:8080/"
        },
        "id": "TMWLxIzOMpz4",
        "outputId": "4cc1f97f-c792-46d5-c05b-14afce0b9ec2"
      },
      "outputs": [
        {
          "name": "stdout",
          "output_type": "stream",
          "text": [
            "Hi my name is nitish and I am  33 years old\n"
          ]
        }
      ],
      "source": [
        "# pickle load\n",
        "# can access the object attribute and vairable if we want by \n",
        "# deserializing object, as we can't do above using json\n",
        "\n",
        "import pickle\n",
        "with open('person.pkl','rb') as f:\n",
        "  p = pickle.load(f)\n",
        "\n",
        "p.display_info()"
      ]
    },
    {
      "cell_type": "markdown",
      "metadata": {
        "id": "fclATrAsNP_i"
      },
      "source": [
        "### Pickle Vs Json\n",
        "\n",
        "- Pickle lets the user to store data in binary format. JSON lets the user store data in a human-readable text format."
      ]
    },
    {
      "cell_type": "code",
      "execution_count": null,
      "metadata": {
        "id": "MPoPhy41NO_t"
      },
      "outputs": [],
      "source": []
    },
    {
      "cell_type": "code",
      "execution_count": null,
      "metadata": {},
      "outputs": [],
      "source": []
    },
    {
      "cell_type": "code",
      "execution_count": null,
      "metadata": {
        "id": "CIJbmhiOM_iT"
      },
      "outputs": [],
      "source": []
    }
  ],
  "metadata": {
    "colab": {
      "provenance": []
    },
    "kernelspec": {
      "display_name": "Python 3",
      "name": "python3"
    },
    "language_info": {
      "codemirror_mode": {
        "name": "ipython",
        "version": 3
      },
      "file_extension": ".py",
      "mimetype": "text/x-python",
      "name": "python",
      "nbconvert_exporter": "python",
      "pygments_lexer": "ipython3",
      "version": "3.10.16"
    }
  },
  "nbformat": 4,
  "nbformat_minor": 0
}
