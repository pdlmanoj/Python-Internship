{
 "cells": [
  {
   "cell_type": "markdown",
   "id": "465bca50",
   "metadata": {},
   "source": [
    "1. What is the difference between a class variable and an instance variable? Show\n",
    "with code."
   ]
  },
  {
   "cell_type": "code",
   "execution_count": 35,
   "id": "cedc24a9",
   "metadata": {},
   "outputs": [
    {
     "name": "stdout",
     "output_type": "stream",
     "text": [
      "1000\n",
      "2000\n"
     ]
    }
   ],
   "source": [
    "class MyAtm:\n",
    "    user_name = \"Hari\" # class variable\n",
    "    # but, for every instance of class, user_name will be Hari only\n",
    "    \n",
    "    def __init__(self, balance):\n",
    "        self.balance = balance # Instance variable\n",
    "        # Means: with different instance/object of class, balance will be different\n",
    "\n",
    "\n",
    "a1 = MyAtm(1000)\n",
    "print(a1.balance)\n",
    "a2 = MyAtm(2000)\n",
    "print(a2.balance)"
   ]
  },
  {
   "cell_type": "code",
   "execution_count": 36,
   "id": "5dd02f06",
   "metadata": {},
   "outputs": [
    {
     "data": {
      "text/plain": [
       "'Hari'"
      ]
     },
     "execution_count": 36,
     "metadata": {},
     "output_type": "execute_result"
    }
   ],
   "source": [
    "a1.user_name"
   ]
  },
  {
   "cell_type": "code",
   "execution_count": 74,
   "id": "b602bac6",
   "metadata": {},
   "outputs": [
    {
     "data": {
      "text/plain": [
       "'Hari'"
      ]
     },
     "execution_count": 74,
     "metadata": {},
     "output_type": "execute_result"
    }
   ],
   "source": [
    "MyAtm.user_name"
   ]
  },
  {
   "cell_type": "markdown",
   "id": "92ecfdf7",
   "metadata": {},
   "source": [
    "2. Explain the difference between staticmethod, classmethod, and instance methods,\n",
    "with proper code examples."
   ]
  },
  {
   "cell_type": "code",
   "execution_count": null,
   "id": "535d3f33",
   "metadata": {},
   "outputs": [],
   "source": [
    "class MyClass:\n",
    "    \n",
    "    def __init__(self):\n",
    "        pass \n",
    "    \n",
    "    def instance_method(self):\n",
    "        return 'This is instance method'\n",
    "    \n",
    "    @classmethod\n",
    "    def class_method(cls):\n",
    "        return 'This is class method'\n",
    "    \n",
    "    @staticmethod\n",
    "    def staticmethod():\n",
    "        return 'This is static method'\n"
   ]
  },
  {
   "cell_type": "markdown",
   "id": "3bf0b5ee",
   "metadata": {},
   "source": [
    "1. instance: take self as argument, we can access object values from this.\n",
    "2. class: take class reference (cls). We can modify class level attributes\n",
    "3. static: like a regular function, usally we don't pass argument, but can take argument. Use as utility function\n",
    "\n",
    "We can class class and static method without creating a object of a class"
   ]
  },
  {
   "cell_type": "code",
   "execution_count": 72,
   "id": "70404880",
   "metadata": {},
   "outputs": [
    {
     "data": {
      "text/plain": [
       "'This is class method'"
      ]
     },
     "execution_count": 72,
     "metadata": {},
     "output_type": "execute_result"
    }
   ],
   "source": [
    "MyClass.class_method()"
   ]
  },
  {
   "cell_type": "code",
   "execution_count": null,
   "id": "06b38990",
   "metadata": {},
   "outputs": [
    {
     "ename": "TypeError",
     "evalue": "MyClass.instance_method() missing 1 required positional argument: 'self'",
     "output_type": "error",
     "traceback": [
      "\u001b[0;31m---------------------------------------------------------------------------\u001b[0m",
      "\u001b[0;31mTypeError\u001b[0m                                 Traceback (most recent call last)",
      "Cell \u001b[0;32mIn[73], line 1\u001b[0m\n\u001b[0;32m----> 1\u001b[0m \u001b[43mMyClass\u001b[49m\u001b[38;5;241;43m.\u001b[39;49m\u001b[43minstance_method\u001b[49m\u001b[43m(\u001b[49m\u001b[43m)\u001b[49m\n",
      "\u001b[0;31mTypeError\u001b[0m: MyClass.instance_method() missing 1 required positional argument: 'self'"
     ]
    }
   ],
   "source": [
    "MyClass.instance_method() # need to create instance if not can't access"
   ]
  },
  {
   "cell_type": "code",
   "execution_count": null,
   "id": "26049569",
   "metadata": {},
   "outputs": [],
   "source": []
  },
  {
   "cell_type": "markdown",
   "id": "c5b73b68",
   "metadata": {},
   "source": [
    "3. What are constructors and destructors in Python?"
   ]
  },
  {
   "cell_type": "markdown",
   "id": "677e59b7",
   "metadata": {},
   "source": [
    "1. Constructor: \n",
    "- special type of function initalize using __init___ (magic method) which automatically run when we create a instance (object) of a class.\n",
    "- Useful when we need to load some feature in the application without the intervention of user like data base connection, configuration related code"
   ]
  },
  {
   "cell_type": "code",
   "execution_count": null,
   "id": "aad1e79c",
   "metadata": {},
   "outputs": [
    {
     "name": "stdout",
     "output_type": "stream",
     "text": [
      "Connecting to database\n"
     ]
    }
   ],
   "source": [
    "class Person:\n",
    "    def __init__(self, name, age):\n",
    "        self.name = name\n",
    "        self. age = age\n",
    "        self.__connect_database()\n",
    "        \n",
    "    def __connect_database(self):\n",
    "        print(\"Connecting to database\")\n",
    "\n",
    "\n",
    "p1 = Person('hari', 12)"
   ]
  },
  {
   "cell_type": "markdown",
   "id": "e77eeb78",
   "metadata": {},
   "source": [
    "2. Destructor\n",
    "- Opposite to constructor, it automatically invoke when an object of  class  reference is deleted. \n",
    "- Destructor only called, Only if, no object is referencing to that class. \n",
    "- Mostly, it automatically called by python garbage collector. "
   ]
  },
  {
   "cell_type": "code",
   "execution_count": null,
   "id": "530e5f03",
   "metadata": {},
   "outputs": [
    {
     "name": "stdout",
     "output_type": "stream",
     "text": [
      "<__main__.Person object at 0x104935ae0>\n",
      "<__main__.Person object at 0x104935ae0>\n"
     ]
    }
   ],
   "source": [
    "a = p1\n",
    "print(a)\n",
    "print(p1)\n",
    "\n",
    "del p1 # only deleting this p1 object will not called destructor \n",
    "# as a is still referencing to that Person class\n"
   ]
  },
  {
   "cell_type": "markdown",
   "id": "1d8dfaf4",
   "metadata": {},
   "source": [
    "4. What is method overriding vs overloading? Does Python support both? Illustrate."
   ]
  },
  {
   "cell_type": "code",
   "execution_count": 31,
   "id": "e321965a",
   "metadata": {},
   "outputs": [],
   "source": [
    "# Method overrriding -> Yes python support this\n",
    "class Car:\n",
    "    def start(self):\n",
    "        return \"Car is starting.....\"\n",
    "\n",
    "class BMW(Car):\n",
    "    def top_speed(self):\n",
    "        return \"Top speed 400 km/hr\"\n",
    "    \n",
    "    ## Method overrriding -> parent class method override in child class\n",
    "    def start(self):\n",
    "        return \"BMW is starting....\"\n",
    "    \n"
   ]
  },
  {
   "cell_type": "code",
   "execution_count": 32,
   "id": "15848f4f",
   "metadata": {},
   "outputs": [
    {
     "name": "stdout",
     "output_type": "stream",
     "text": [
      "Top speed 400 km/hr\n",
      "BMW is starting....\n"
     ]
    }
   ],
   "source": [
    "bmw_obj = BMW()\n",
    "print(bmw_obj.top_speed())\n",
    "## BMW as a child of Car (Parent) class it can use the parent class method\n",
    "print(bmw_obj.start())"
   ]
  },
  {
   "cell_type": "code",
   "execution_count": null,
   "id": "1b9d3d91",
   "metadata": {},
   "outputs": [],
   "source": [
    "## Method overloading -> No, python doesn't support this\n",
    "## _> with in a same class, same method name but different parameter\n",
    "## Python doesn't support this but we can use *args or ** kwargs "
   ]
  },
  {
   "cell_type": "markdown",
   "id": "54eca4a4",
   "metadata": {},
   "source": [
    "5. Write a class that overloads the + operator for adding two objects."
   ]
  },
  {
   "cell_type": "code",
   "execution_count": 79,
   "id": "9f57528b",
   "metadata": {},
   "outputs": [],
   "source": [
    "class Point:\n",
    "    def __init__(self, x, y):\n",
    "        self.x = x\n",
    "        self.y = y\n",
    "        \n",
    "    # + operator\n",
    "    def __add__(self, others):\n",
    "        return Point(self.x + others.x, self.y + others.y)\n",
    "    \n",
    "    def __repr__(self):\n",
    "        return f\"Point {self.x}, {self.y}\"\n",
    "        "
   ]
  },
  {
   "cell_type": "code",
   "execution_count": 80,
   "id": "e845bc72",
   "metadata": {},
   "outputs": [
    {
     "name": "stdout",
     "output_type": "stream",
     "text": [
      "Point 101, 201\n"
     ]
    }
   ],
   "source": [
    "p1 = Point(1,1)\n",
    "p2 = Point(100,200)\n",
    "\n",
    "print(p1 + p2)"
   ]
  },
  {
   "cell_type": "markdown",
   "id": "adcdc128",
   "metadata": {},
   "source": [
    "6. Write a class BankAccount with methods deposit(), withdraw(),\n",
    "get_balance()."
   ]
  },
  {
   "cell_type": "code",
   "execution_count": null,
   "id": "8a9ff82c",
   "metadata": {},
   "outputs": [],
   "source": [
    "class BankAccount:\n",
    "    \n",
    "    def __init__(self):\n",
    "        self.__balance = 0\n",
    "    \n",
    "    def deposit(self, deposit_amount):\n",
    "        if deposit_amount <=0:\n",
    "            return \"Invalid: Can't deposit 0 or negative value\"\n",
    "        else: \n",
    "            self.__balance += deposit_amount\n",
    "            return f'Rs. {deposit_amount} deposit successfully'\n",
    "        \n",
    "    def withdraw(self, withdraw_amount):\n",
    "        if self.__balance < withdraw_amount:\n",
    "            return 'Insufficent balance'\n",
    "        else:\n",
    "            self.__balance -= withdraw_amount\n",
    "            return f'Amount Rs. {withdraw_amount} | Remaining balance Rs. {self.__balance}'\n",
    "    \n",
    "    def get_balance(self):\n",
    "        return f\"Current balance Rs. {self.__balance}\"\n",
    "    \n",
    "    "
   ]
  },
  {
   "cell_type": "code",
   "execution_count": null,
   "id": "76d6952a",
   "metadata": {},
   "outputs": [
    {
     "name": "stdout",
     "output_type": "stream",
     "text": [
      "Current balance Rs. 0\n",
      "Rs. 40000 deposit successfully\n",
      "Amount Rs. 100 | Remaining balance Rs. 39900\n"
     ]
    }
   ],
   "source": [
    "a1 = BankAccount()\n",
    "print(a1.get_balance())\n",
    "print(a1.deposit(40000))\n",
    "print(a1.withdraw(100))"
   ]
  },
  {
   "cell_type": "code",
   "execution_count": null,
   "id": "318a1bfa",
   "metadata": {},
   "outputs": [],
   "source": []
  },
  {
   "cell_type": "markdown",
   "id": "920629d9",
   "metadata": {},
   "source": [
    "7. What is multiple inheritance? Is it supported in Python? If yes, demonstrate with\n",
    "example. Explain diamond problem of inheritance. How does Python solve it?"
   ]
  },
  {
   "cell_type": "markdown",
   "id": "dc582854",
   "metadata": {},
   "source": [
    "Multiple inhertance: means one child class inheriting from 2 or more parent class. Unlike, Java or C#, Yes, python have support for multiple inheritance."
   ]
  },
  {
   "cell_type": "code",
   "execution_count": null,
   "id": "6e1afb5e",
   "metadata": {},
   "outputs": [
    {
     "name": "stdout",
     "output_type": "stream",
     "text": [
      "Class A - Parent\n"
     ]
    }
   ],
   "source": [
    "## Diamond problem\n",
    "class A:\n",
    "    def hello(self):\n",
    "        return \"Class A - Parent\"\n",
    "\n",
    "class B:\n",
    "    def hello(self):\n",
    "        return \"Class B - Parent\"\n",
    "\n",
    "class C(A,B):\n",
    "    pass\n",
    "\n",
    "c1 = C()\n",
    "print(c1.hello())"
   ]
  },
  {
   "cell_type": "markdown",
   "id": "4aef0cd1",
   "metadata": {},
   "source": [
    "- If we are inheriting form 2 partent class, then child class inherit parent class method based on MRO\n",
    "- C(A,B) -> the Parent class which initizalize frist when inheriting that class method will be inherit by the child class"
   ]
  },
  {
   "cell_type": "code",
   "execution_count": null,
   "id": "0870be2d",
   "metadata": {},
   "outputs": [],
   "source": []
  },
  {
   "cell_type": "markdown",
   "id": "86157ea3",
   "metadata": {},
   "source": [
    "\n",
    "8. Explain encapsulation and how it is done in Python."
   ]
  },
  {
   "cell_type": "markdown",
   "id": "f26f106a",
   "metadata": {},
   "source": [
    "Encapsulation: \n",
    "- Basically, we bundle data and method together and only exposing only the essential functionalities. \n",
    "- For example: In bank application, we make variable like balance, pin, deposit and other method private because we do not want anyone to directly modify this as modifing this might result application failure."
   ]
  },
  {
   "cell_type": "code",
   "execution_count": 60,
   "id": "b40ca207",
   "metadata": {},
   "outputs": [],
   "source": [
    "## For example\n",
    "\n",
    "class User:\n",
    "    \n",
    "    def __init__(self, id, password):\n",
    "        self.__userid = id\n",
    "        self.__user_password = password\n",
    "        # we make the user id and password hidden from the direct access using encapsulation\n",
    "    \n",
    "\n",
    "u1 = User(111, '123')\n",
    "        "
   ]
  },
  {
   "cell_type": "code",
   "execution_count": null,
   "id": "300e3bd6",
   "metadata": {},
   "outputs": [
    {
     "ename": "AttributeError",
     "evalue": "'User' object has no attribute '__userid'",
     "output_type": "error",
     "traceback": [
      "\u001b[0;31m---------------------------------------------------------------------------\u001b[0m",
      "\u001b[0;31mAttributeError\u001b[0m                            Traceback (most recent call last)",
      "Cell \u001b[0;32mIn[62], line 1\u001b[0m\n\u001b[0;32m----> 1\u001b[0m \u001b[43mu1\u001b[49m\u001b[38;5;241;43m.\u001b[39;49m\u001b[43m__userid\u001b[49m\n",
      "\u001b[0;31mAttributeError\u001b[0m: 'User' object has no attribute '__userid'"
     ]
    }
   ],
   "source": [
    "u1.__userid # we cannot access the userid from outside"
   ]
  },
  {
   "cell_type": "code",
   "execution_count": null,
   "id": "363ceedf",
   "metadata": {},
   "outputs": [
    {
     "data": {
      "text/plain": [
       "111"
      ]
     },
     "execution_count": 63,
     "metadata": {},
     "output_type": "execute_result"
    }
   ],
   "source": [
    "### But if we want we can access the private variable from the outside, \n",
    "## Internally, when we make userid to __userid, python has internally just change \n",
    "# the name of userid to _ClassName__userid like _User__userid\n",
    "# So, we can access the private variable if we want\n",
    "\n",
    "u1._User__userid "
   ]
  },
  {
   "cell_type": "code",
   "execution_count": 65,
   "id": "51cf8473",
   "metadata": {},
   "outputs": [],
   "source": [
    "u1.__User__userid = 3333"
   ]
  },
  {
   "cell_type": "code",
   "execution_count": null,
   "id": "07da3fa2",
   "metadata": {},
   "outputs": [
    {
     "data": {
      "text/plain": [
       "3333"
      ]
     },
     "execution_count": 66,
     "metadata": {},
     "output_type": "execute_result"
    }
   ],
   "source": [
    "u1.__User__userid # ID changed"
   ]
  },
  {
   "cell_type": "code",
   "execution_count": null,
   "id": "1df001aa",
   "metadata": {},
   "outputs": [],
   "source": []
  }
 ],
 "metadata": {
  "kernelspec": {
   "display_name": "Python 3",
   "language": "python",
   "name": "python3"
  },
  "language_info": {
   "codemirror_mode": {
    "name": "ipython",
    "version": 3
   },
   "file_extension": ".py",
   "mimetype": "text/x-python",
   "name": "python",
   "nbconvert_exporter": "python",
   "pygments_lexer": "ipython3",
   "version": "3.10.16"
  }
 },
 "nbformat": 4,
 "nbformat_minor": 5
}
