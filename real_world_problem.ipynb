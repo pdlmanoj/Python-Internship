{
 "cells": [
  {
   "cell_type": "markdown",
   "id": "9201cdbb",
   "metadata": {},
   "source": [
    "1. Given a list of transactions [(id, amount)], calculate total spent per user ID."
   ]
  },
  {
   "cell_type": "code",
   "execution_count": null,
   "id": "546289cf",
   "metadata": {},
   "outputs": [
    {
     "name": "stdout",
     "output_type": "stream",
     "text": [
      "{1: 9000, 2: 11000, 3: 5000}\n"
     ]
    }
   ],
   "source": [
    "def total_spend(transaction): \n",
    "    total_spend = {}\n",
    "    for id,amount in transaction:\n",
    "        if id not in total_spend:\n",
    "            total_spend[id] = amount\n",
    "        else:\n",
    "            total_spend[id] += amount\n",
    "    return total_spend\n",
    "\n",
    "transaction = [(1, 5000), (2, 5000), (1, 4000), (2, 6000), (3, 5000)]\n",
    "\n",
    "print(total_spend(transaction)) "
   ]
  },
  {
   "cell_type": "markdown",
   "id": "5327fdbf",
   "metadata": {},
   "source": [
    "2. Write a program that simulates a basic ATM machine ( deposit, withdraw, check\n",
    "balance)."
   ]
  },
  {
   "cell_type": "code",
   "execution_count": 9,
   "id": "fc2b4efd",
   "metadata": {},
   "outputs": [],
   "source": [
    "class MyAtm:\n",
    "    \n",
    "    def __init__(self):\n",
    "        self.__balance = 0\n",
    "        self.__pin = ''\n",
    "        \n",
    "    def create_account(self, pin, balance):\n",
    "        self.__pin = pin\n",
    "        self.__balance = balance\n",
    "\n",
    "        return f'Account Created successfully with inital balance {self.__balance}'\n",
    "        \n",
    "    def deposit(self, deposit_amount):\n",
    "        if deposit_amount <=0:\n",
    "            return \"Invalid: Can't deposit 0 or negative value\"\n",
    "        else: \n",
    "            self.__balance += deposit_amount\n",
    "            return f'Rs. {deposit_amount} deposit successfully'\n",
    "        \n",
    "    def withdraw(self, withdraw_amount):\n",
    "        if self.__balance == 0:\n",
    "            return f\"Balance Rs. {self.__balance}, can't withdraw\"\n",
    "        elif self.__balance < withdraw_amount:\n",
    "            return 'Insufficent balance'\n",
    "        else:\n",
    "            self.__balance -= withdraw_amount\n",
    "            return f'Amount Rs. {withdraw_amount} | Remaining balance Rs. {self.__balance}'\n",
    "        \n",
    "    def check_balance(self):\n",
    "            return f\"Your balance Rs. {self.__balance}\"\n",
    "    "
   ]
  },
  {
   "cell_type": "code",
   "execution_count": 10,
   "id": "ada99257",
   "metadata": {},
   "outputs": [
    {
     "name": "stdout",
     "output_type": "stream",
     "text": [
      "Account Created successfully with inital balance 4000\n",
      "Amount Rs. 3000 | Remaining balance Rs. 1000\n",
      "Rs. 40000 deposit successfully\n",
      "Insufficent balance\n",
      "Amount Rs. 4000 | Remaining balance Rs. 37000\n"
     ]
    }
   ],
   "source": [
    "account1 = MyAtm()\n",
    "print(account1.create_account('123', 4000))\n",
    "print(account1.withdraw(3000))\n",
    "print(account1.deposit(40000))\n",
    "print(account1.withdraw(4000000))\n",
    "print(account1.withdraw(4000))\n"
   ]
  },
  {
   "cell_type": "markdown",
   "id": "f906b18a",
   "metadata": {},
   "source": [
    "3. Write a function that compresses a string ( aaabb → a3b2)."
   ]
  },
  {
   "cell_type": "code",
   "execution_count": 16,
   "id": "a669c2d9",
   "metadata": {},
   "outputs": [
    {
     "data": {
      "text/plain": [
       "{'a': 3, 'b': 2}"
      ]
     },
     "execution_count": 16,
     "metadata": {},
     "output_type": "execute_result"
    }
   ],
   "source": [
    "s1 = 'aaabb'\n",
    "\n",
    "d = {}\n",
    "\n",
    "for i in s1:\n",
    "    if i not in d:\n",
    "        d[i] = 1\n",
    "    else:\n",
    "        d[i] +=1 \n",
    "        \n",
    "d\n",
    "        "
   ]
  },
  {
   "cell_type": "code",
   "execution_count": 21,
   "id": "73cab182",
   "metadata": {},
   "outputs": [
    {
     "name": "stdout",
     "output_type": "stream",
     "text": [
      "a3b2"
     ]
    }
   ],
   "source": [
    "for i,v in d.items():\n",
    "    print(i,v, sep='', end = '')"
   ]
  },
  {
   "cell_type": "markdown",
   "id": "ee41313d",
   "metadata": {},
   "source": [
    "4. Implement a simple Todo app using a class. Each Todo has task, status. Add\n",
    "methods to add, mark done, list tasks."
   ]
  },
  {
   "cell_type": "code",
   "execution_count": 1,
   "id": "cd143fa9",
   "metadata": {},
   "outputs": [],
   "source": [
    "class Task:\n",
    "    def __init__(self):\n",
    "        self.__menu()\n",
    "    \n",
    "    def __menu(self):\n",
    "        user_choice = input(\"\"\"\"\n",
    "            TODO APP\n",
    "            1. Add Task\n",
    "            2. Mark Task\n",
    "            3. List Task\n",
    "            4. Any key to exit\n",
    "    \"\"\")\n",
    "        \n",
    "        if user_choice == '1':\n",
    "            self.__add_tasks()\n",
    "        elif user_choice == '2':\n",
    "            self.__mark_done()\n",
    "        if user_choice == '3':\n",
    "            self.__list_tasks()\n",
    "        else:\n",
    "            exit()\n",
    "        \n",
    "    def __add_tasks(self): \n",
    "        print('*' * 15)\n",
    "        print(\"ADD TASK SECTION\")\n",
    "        print('*' * 15) \n",
    "        \n",
    "        self.__task = {}\n",
    "        while True: \n",
    "            user_task = input(\"Enter task name: (0 to exit) \").lower().strip()\n",
    "\n",
    "            if user_task == '0':\n",
    "                break\n",
    "            else:\n",
    "                self.__task[user_task] = 'NOT DONE'\n",
    "            print(\"Task added successfully\")\n",
    "                \n",
    "        self.__menu()\n",
    "        \n",
    "    \n",
    "    def __mark_done(self):\n",
    "        print('*' * 15)\n",
    "        print(\"MARK TASK SECTION\")\n",
    "        print('*' * 15)\n",
    "        for index, val in enumerate(self.__task):\n",
    "            print(f\"{index+1}. {val}\")\n",
    "    \n",
    "        while True: \n",
    "            user_mark = input(\"Enter task to mark (0 to exit)\").lower().strip()\n",
    "            if user_mark == '0': \n",
    "                break\n",
    "            elif user_mark in self.__task:\n",
    "                self.__task[user_mark] = 'Done'\n",
    "            else:\n",
    "                print(\"Task doesn't exit, Try again\")\n",
    "            \n",
    "        self.__menu()\n",
    "\n",
    "    def __list_tasks(self):\n",
    "        print('*' * 15)\n",
    "        print(\"LIST TASK SECTION\")\n",
    "        print('*' * 15)\n",
    "        print('*' * 25)\n",
    "        print('Task\\t\\tStatus')\n",
    "        print('*' * 25)\n",
    "        for t, status in self.__task.items():\n",
    "            print(f\"{t}\\t\\t{status}\")\n",
    "        \n",
    "        self.__menu()\n",
    "            \n"
   ]
  },
  {
   "cell_type": "code",
   "execution_count": null,
   "id": "cee2d4a7",
   "metadata": {},
   "outputs": [
    {
     "name": "stdout",
     "output_type": "stream",
     "text": [
      "***************\n",
      "ADD TASK SECTION\n",
      "***************\n",
      "Task added successfully\n",
      "Task added successfully\n",
      "Task added successfully\n",
      "***************\n",
      "LIST TASK SECTION\n",
      "***************\n",
      "*************************\n",
      "Task\t\tStatus\n",
      "*************************\n",
      "task 1\t\tNOT DONE\n",
      "task 2\t\tNOT DONE\n",
      "task 3\t\tNOT DONE\n",
      "***************\n",
      "MARK TASK SECTION\n",
      "***************\n",
      "1. task 1\n",
      "2. task 2\n",
      "3. task 3\n",
      "***************\n",
      "LIST TASK SECTION\n",
      "***************\n",
      "*************************\n",
      "Task\t\tStatus\n",
      "*************************\n",
      "task 1\t\tNOT DONE\n",
      "task 2\t\tDone\n",
      "task 3\t\tDone\n"
     ]
    },
    {
     "ename": "",
     "evalue": "",
     "output_type": "error",
     "traceback": [
      "\u001b[1;31mThe Kernel crashed while executing code in the current cell or a previous cell. \n",
      "\u001b[1;31mPlease review the code in the cell(s) to identify a possible cause of the failure. \n",
      "\u001b[1;31mClick <a href='https://aka.ms/vscodeJupyterKernelCrash'>here</a> for more info. \n",
      "\u001b[1;31mView Jupyter <a href='command:jupyter.viewOutput'>log</a> for further details."
     ]
    }
   ],
   "source": [
    "t1 = Task()"
   ]
  },
  {
   "cell_type": "code",
   "execution_count": null,
   "id": "fe231251",
   "metadata": {},
   "outputs": [
    {
     "name": "stdout",
     "output_type": "stream",
     "text": [
      "ADD TASK SEcTION\n"
     ]
    }
   ],
   "source": [
    "\n",
    "    \n",
    "        "
   ]
  },
  {
   "cell_type": "code",
   "execution_count": 3,
   "id": "6c6c8839",
   "metadata": {},
   "outputs": [
    {
     "data": {
      "text/plain": [
       "{'': 'NOT DONE', 'abc': 'NOT DONE', 'ddd': 'NOT DONE', 'dd': 'NOT DONE'}"
      ]
     },
     "execution_count": 3,
     "metadata": {},
     "output_type": "execute_result"
    }
   ],
   "source": [
    "task"
   ]
  },
  {
   "cell_type": "code",
   "execution_count": null,
   "id": "4b84b6c1",
   "metadata": {},
   "outputs": [
    {
     "name": "stdout",
     "output_type": "stream",
     "text": [
      "MARK DONE SECTION\n",
      "1. \n",
      "2. abc\n",
      "3. ddd\n",
      "4. dd\n",
      "Task doesn't exit\n",
      "{'': 'NOT DONE', 'abc': 'NOT DONE', 'ddd': 'Done', 'dd': 'NOT DONE'}\n"
     ]
    }
   ],
   "source": []
  },
  {
   "cell_type": "code",
   "execution_count": 11,
   "id": "88098705",
   "metadata": {},
   "outputs": [
    {
     "data": {
      "text/plain": [
       "{'': 'NOT DONE', 'abc': 'NOT DONE', 'ddd': 'Done', 'dd': 'NOT DONE'}"
      ]
     },
     "execution_count": 11,
     "metadata": {},
     "output_type": "execute_result"
    }
   ],
   "source": [
    "task"
   ]
  },
  {
   "cell_type": "code",
   "execution_count": null,
   "id": "59e30703",
   "metadata": {},
   "outputs": [
    {
     "name": "stdout",
     "output_type": "stream",
     "text": [
      "*************************\n",
      "Task\t\tStatus\n",
      "*************************\n",
      "\t\tNOT DONE\n",
      "abc\t\tNOT DONE\n",
      "ddd\t\tDone\n",
      "dd\t\tNOT DONE\n"
     ]
    }
   ],
   "source": []
  },
  {
   "cell_type": "code",
   "execution_count": null,
   "id": "d2ce80c0",
   "metadata": {},
   "outputs": [],
   "source": []
  },
  {
   "cell_type": "markdown",
   "id": "db3a6eec",
   "metadata": {},
   "source": [
    "5. Write a function that returns all unique pairs in a list that sum to a target value."
   ]
  },
  {
   "cell_type": "code",
   "execution_count": null,
   "id": "5c830ec3",
   "metadata": {},
   "outputs": [
    {
     "name": "stdout",
     "output_type": "stream",
     "text": [
      "[[1, 2]]\n"
     ]
    }
   ],
   "source": [
    "# l2 = [1,2,0,3]\n",
    "# target = 3\n",
    "# uniq_pair = []\n",
    "# sum = 0\n",
    "# pair = []\n",
    "\n",
    "# for i in range(len(l2)):\n",
    "\n",
    "    \n",
    "#     if sum < target:\n",
    "#         sum += l2[i]\n",
    "#         pair.append(l2[i])\n",
    "#     elif sum > target:\n",
    "#         sum = 0\n",
    "#         pair.clear()\n",
    "#     elif sum == target:\n",
    "#         uniq_pair.append(pair)\n",
    "#         pair = []\n",
    "#         sum = 0\n",
    "        \n",
    "# print(uniq_pair)"
   ]
  },
  {
   "cell_type": "code",
   "execution_count": 11,
   "id": "31c2bdd9",
   "metadata": {},
   "outputs": [
    {
     "data": {
      "text/plain": [
       "[[1, 2, 3], [5, 1], [6], [4, 2]]"
      ]
     },
     "execution_count": 11,
     "metadata": {},
     "output_type": "execute_result"
    }
   ],
   "source": [
    "l = [1,2,3,4,5,1,6,1,4,2]\n",
    "target = 6\n",
    "unique_pair = []\n",
    "for i in range(len(l)-1):\n",
    "    sum = 0\n",
    "    pair = []\n",
    "    for j in range(i, len(l)):\n",
    "        sum += l[j]\n",
    "        pair.append(l[j])\n",
    "        if sum == target:\n",
    "            unique_pair.append(pair)\n",
    "            break\n",
    "unique_pair\n",
    "\n",
    "\n"
   ]
  },
  {
   "cell_type": "markdown",
   "id": "813756de",
   "metadata": {},
   "source": [
    "6. Create a program that asks for a password until the correct one is entered (max 3\n",
    "tries)."
   ]
  },
  {
   "cell_type": "code",
   "execution_count": null,
   "id": "061c400c",
   "metadata": {},
   "outputs": [
    {
     "name": "stdout",
     "output_type": "stream",
     "text": [
      "Try again\n",
      "Try again\n",
      "Try again\n",
      "password tries excceded, bye\n"
     ]
    }
   ],
   "source": [
    "user_email = 'abc@gmail.com'\n",
    "user_pass = '123'\n",
    "\n",
    "attempt = 0\n",
    "\n",
    "while(True):\n",
    "    user_password = input(\"Enter your password: \")\n",
    "    attempt += 1\n",
    "    if user_password == user_pass:\n",
    "        print(\"Correct \")\n",
    "    else:\n",
    "        print(\"Try again\")\n",
    "    \n",
    "    if attempt > 2:\n",
    "        print(\"password tries excceded, not verfied\")\n",
    "        break"
   ]
  },
  {
   "cell_type": "markdown",
   "id": "b9300db8",
   "metadata": {},
   "source": [
    "7. Write a program to generate a random password of length 8 containing letters and\n",
    "digits."
   ]
  },
  {
   "cell_type": "code",
   "execution_count": 41,
   "id": "174326d7",
   "metadata": {},
   "outputs": [
    {
     "name": "stdout",
     "output_type": "stream",
     "text": [
      "6rT!5sG|\n",
      "3xL#9oS*\n",
      "4sK*7bZ^\n"
     ]
    }
   ],
   "source": [
    "import random \n",
    "\n",
    "def generate_pass(): \n",
    "    new_pass = ''\n",
    "    for i in range(2): \n",
    "        new_pass += random.choice(digit)\n",
    "        new_pass += random.choice(letter)\n",
    "        new_pass += random.choice(cap_letter)\n",
    "        new_pass += random.choice(special_symbol)\n",
    "    return new_pass\n",
    "\n",
    "digit = '0123456789'\n",
    "letter = 'abcdefghijklmnopqrstuvwxyz'\n",
    "cap_letter = letter.upper()\n",
    "special_symbol = '$#@^&()!+=}*.:|\"'\n",
    "\n",
    "print(generate_pass())\n",
    "print(generate_pass())\n",
    "print(generate_pass())\n",
    "\n",
    "\n"
   ]
  },
  {
   "cell_type": "code",
   "execution_count": null,
   "id": "fe10001f",
   "metadata": {},
   "outputs": [],
   "source": []
  }
 ],
 "metadata": {
  "kernelspec": {
   "display_name": "Python 3",
   "language": "python",
   "name": "python3"
  },
  "language_info": {
   "codemirror_mode": {
    "name": "ipython",
    "version": 3
   },
   "file_extension": ".py",
   "mimetype": "text/x-python",
   "name": "python",
   "nbconvert_exporter": "python",
   "pygments_lexer": "ipython3",
   "version": "3.10.16"
  }
 },
 "nbformat": 4,
 "nbformat_minor": 5
}
