{
 "cells": [
  {
   "cell_type": "markdown",
   "id": "9201cdbb",
   "metadata": {},
   "source": [
    "1. Given a list of transactions [(id, amount)], calculate total spent per user ID."
   ]
  },
  {
   "cell_type": "code",
   "execution_count": null,
   "id": "546289cf",
   "metadata": {},
   "outputs": [
    {
     "name": "stdout",
     "output_type": "stream",
     "text": [
      "{1: 9000, 2: 11000, 3: 5000}\n"
     ]
    }
   ],
   "source": [
    "def total_spend(transaction): \n",
    "    total_spend = {}\n",
    "    for id,amount in transaction:\n",
    "        if id not in total_spend:\n",
    "            total_spend[id] = amount\n",
    "        else:\n",
    "            total_spend[id] += amount\n",
    "    return total_spend\n",
    "\n",
    "transaction = [(1, 5000), (2, 5000), (1, 4000), (2, 6000), (3, 5000)]\n",
    "\n",
    "print(total_spend(transaction)) "
   ]
  },
  {
   "cell_type": "markdown",
   "id": "5327fdbf",
   "metadata": {},
   "source": [
    "2. Write a program that simulates a basic ATM machine ( deposit, withdraw, check\n",
    "balance)."
   ]
  },
  {
   "cell_type": "code",
   "execution_count": 6,
   "id": "fc2b4efd",
   "metadata": {},
   "outputs": [],
   "source": [
    "class MyAtm:\n",
    "    \n",
    "    def __init__(self):\n",
    "        self.__balance = 0\n",
    "    \n",
    "    def deposit(self, deposit_amount):\n",
    "        if deposit_amount <=0:\n",
    "            return \"Invalid: Can't deposit 0 or negative value\"\n",
    "        else: \n",
    "            self.__balance += deposit_amount\n",
    "            return f'Rs. {deposit_amount} deposit successfully'\n",
    "        \n",
    "    def withdraw(self, withdraw_amount):\n",
    "        if self.__balance == 0:\n",
    "            return f\"Balance Rs. {self.__balance}, can't withdraw\"\n",
    "        if self.__balance < withdraw_amount:\n",
    "            return 'Insufficent balance'\n",
    "        else:\n",
    "            self.__balance -= withdraw_amount\n",
    "            return f'Amount Rs. {withdraw_amount} | Remaining balance Rs. {self.__balance}'\n",
    "    \n",
    "    def check_balance(self):\n",
    "        return f\"Your balance Rs. {self.__balance}\"\n",
    "    "
   ]
  },
  {
   "cell_type": "code",
   "execution_count": 11,
   "id": "ada99257",
   "metadata": {},
   "outputs": [
    {
     "name": "stdout",
     "output_type": "stream",
     "text": [
      "Balance Rs. 0, can't withdraw\n",
      "Your balance Rs. 0\n",
      "Rs. 40000 deposit successfully\n",
      "Insufficent balance\n",
      "Amount Rs. 4000 | Remaining balance Rs. 36000\n"
     ]
    }
   ],
   "source": [
    "account1 = MyAtm()\n",
    "print(account1.withdraw(3000))\n",
    "print(account1.check_balance())\n",
    "print(account1.deposit(40000))\n",
    "print(account1.withdraw(4000000))\n",
    "print(account1.withdraw(4000))\n"
   ]
  },
  {
   "cell_type": "markdown",
   "id": "f906b18a",
   "metadata": {},
   "source": [
    "3. Write a function that compresses a string ( aaabb → a3b2)."
   ]
  },
  {
   "cell_type": "code",
   "execution_count": null,
   "id": "a669c2d9",
   "metadata": {},
   "outputs": [],
   "source": [
    "s1 = 'aaabb'\n",
    "\n",
    "d = {}\n",
    "\n",
    "for i in s1:\n",
    "    if i not in d:\n",
    "        pass\n",
    "        "
   ]
  },
  {
   "cell_type": "markdown",
   "id": "ee41313d",
   "metadata": {},
   "source": [
    "4. Implement a simple Todo app using a class. Each Todo has task, status. Add\n",
    "methods to add, mark done, list tasks."
   ]
  },
  {
   "cell_type": "code",
   "execution_count": null,
   "id": "cd143fa9",
   "metadata": {},
   "outputs": [],
   "source": []
  },
  {
   "cell_type": "markdown",
   "id": "db3a6eec",
   "metadata": {},
   "source": [
    "5. Write a function that returns all unique pairs in a list that sum to a target value."
   ]
  },
  {
   "cell_type": "code",
   "execution_count": null,
   "id": "5c830ec3",
   "metadata": {},
   "outputs": [],
   "source": []
  },
  {
   "cell_type": "markdown",
   "id": "813756de",
   "metadata": {},
   "source": [
    "6. Create a program that asks for a password until the correct one is entered (max 3\n",
    "tries)."
   ]
  },
  {
   "cell_type": "code",
   "execution_count": null,
   "id": "061c400c",
   "metadata": {},
   "outputs": [],
   "source": []
  },
  {
   "cell_type": "markdown",
   "id": "b9300db8",
   "metadata": {},
   "source": [
    "7. Write a program to generate a random password of length 8 containing letters and\n",
    "digits."
   ]
  },
  {
   "cell_type": "code",
   "execution_count": null,
   "id": "174326d7",
   "metadata": {},
   "outputs": [],
   "source": []
  },
  {
   "cell_type": "code",
   "execution_count": null,
   "id": "fe10001f",
   "metadata": {},
   "outputs": [],
   "source": []
  }
 ],
 "metadata": {
  "kernelspec": {
   "display_name": "Python 3",
   "language": "python",
   "name": "python3"
  },
  "language_info": {
   "codemirror_mode": {
    "name": "ipython",
    "version": 3
   },
   "file_extension": ".py",
   "mimetype": "text/x-python",
   "name": "python",
   "nbconvert_exporter": "python",
   "pygments_lexer": "ipython3",
   "version": "3.10.16"
  }
 },
 "nbformat": 4,
 "nbformat_minor": 5
}
